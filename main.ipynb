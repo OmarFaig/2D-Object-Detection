{
 "cells": [
  {
   "cell_type": "code",
   "execution_count": 1,
   "metadata": {},
   "outputs": [
    {
     "name": "stderr",
     "output_type": "stream",
     "text": [
      "/home/omar/TUM/05_projects/2D-Object-Detection/objDet/lib/python3.10/site-packages/tqdm/auto.py:21: TqdmWarning: IProgress not found. Please update jupyter and ipywidgets. See https://ipywidgets.readthedocs.io/en/stable/user_install.html\n",
      "  from .autonotebook import tqdm as notebook_tqdm\n",
      "2024-10-17 16:03:52.806388: I tensorflow/core/util/port.cc:113] oneDNN custom operations are on. You may see slightly different numerical results due to floating-point round-off errors from different computation orders. To turn them off, set the environment variable `TF_ENABLE_ONEDNN_OPTS=0`.\n",
      "2024-10-17 16:03:52.846868: E external/local_xla/xla/stream_executor/cuda/cuda_dnn.cc:9261] Unable to register cuDNN factory: Attempting to register factory for plugin cuDNN when one has already been registered\n",
      "2024-10-17 16:03:52.846914: E external/local_xla/xla/stream_executor/cuda/cuda_fft.cc:607] Unable to register cuFFT factory: Attempting to register factory for plugin cuFFT when one has already been registered\n",
      "2024-10-17 16:03:52.848244: E external/local_xla/xla/stream_executor/cuda/cuda_blas.cc:1515] Unable to register cuBLAS factory: Attempting to register factory for plugin cuBLAS when one has already been registered\n",
      "2024-10-17 16:03:52.855963: I tensorflow/core/platform/cpu_feature_guard.cc:182] This TensorFlow binary is optimized to use available CPU instructions in performance-critical operations.\n",
      "To enable the following instructions: AVX2 AVX_VNNI FMA, in other operations, rebuild TensorFlow with the appropriate compiler flags.\n",
      "2024-10-17 16:03:53.951631: W tensorflow/compiler/tf2tensorrt/utils/py_utils.cc:38] TF-TRT Warning: Could not find TensorRT\n"
     ]
    },
    {
     "name": "stdout",
     "output_type": "stream",
     "text": [
      "2.15.0\n"
     ]
    }
   ],
   "source": [
    "import os\n",
    "from datasets import load_dataset\n",
    "import helper_utils as utils\n",
    "import matplotlib.pyplot as plt\n",
    "import cv2\n",
    "import numpy as np\n",
    "import tensorflow as tf\n",
    "from PIL import Image\n",
    "import json\n",
    "from datasets import load_dataset\n",
    "from ultralytics import YOLO\n",
    "\n",
    "print(tf.__version__)"
   ]
  },
  {
   "cell_type": "markdown",
   "metadata": {},
   "source": [
    "# 0 Data preperation"
   ]
  },
  {
   "cell_type": "code",
   "execution_count": 2,
   "metadata": {},
   "outputs": [],
   "source": [
    "# Create directories for saving images and annotations\n",
    "image_dir = \"./football_dataset/test/images\" #change the directory to train,test and val\n",
    "annotations_dir = \"./football_dataset/test/annotations\"\n",
    "if not os.path.exists(image_dir):  #check if the directory already exists\n",
    "    ds = load_dataset(\"keremberke/football-object-detection\")\n",
    "\n",
    "    os.makedirs(image_dir, exist_ok=True)\n",
    "    os.makedirs(annotations_dir, exist_ok=True)\n",
    "\n",
    "    # Save the dataset locally\n",
    "    for i, item in enumerate(ds['test']):\n",
    "        # Save image (directly save the PIL image)\n",
    "        image = item['image']  # 'image' is already a PIL.JpegImageFile object\n",
    "        image_path = os.path.join(image_dir, f\"{i}.png\")\n",
    "        image.save(image_path)\n",
    "\n",
    "        # Save annotations (e.g., bounding boxes)\n",
    "        annotations = {\n",
    "            \"bboxes\": item['objects']['bbox'],\n",
    "        \"object_id\": item['objects'][\"id\"]\n",
    "    }\n",
    "    annotations_path = os.path.join(annotations_dir, f\"{i}.json\")\n",
    "    with open(annotations_path, 'w') as f:\n",
    "        json.dump(annotations, f)\n",
    "\n",
    "    print(f\"Saved {len(ds['train'])} images and annotations locally.\")\n"
   ]
  },
  {
   "cell_type": "code",
   "execution_count": 3,
   "metadata": {},
   "outputs": [
    {
     "name": "stdout",
     "output_type": "stream",
     "text": [
      "GPU is available and will be used.\n"
     ]
    },
    {
     "name": "stderr",
     "output_type": "stream",
     "text": [
      "2024-10-17 16:03:57.082901: I external/local_xla/xla/stream_executor/cuda/cuda_executor.cc:901] successful NUMA node read from SysFS had negative value (-1), but there must be at least one NUMA node, so returning NUMA node zero. See more at https://github.com/torvalds/linux/blob/v6.0/Documentation/ABI/testing/sysfs-bus-pci#L344-L355\n",
      "2024-10-17 16:03:57.084880: I external/local_xla/xla/stream_executor/cuda/cuda_executor.cc:901] successful NUMA node read from SysFS had negative value (-1), but there must be at least one NUMA node, so returning NUMA node zero. See more at https://github.com/torvalds/linux/blob/v6.0/Documentation/ABI/testing/sysfs-bus-pci#L344-L355\n",
      "2024-10-17 16:03:57.085065: I external/local_xla/xla/stream_executor/cuda/cuda_executor.cc:901] successful NUMA node read from SysFS had negative value (-1), but there must be at least one NUMA node, so returning NUMA node zero. See more at https://github.com/torvalds/linux/blob/v6.0/Documentation/ABI/testing/sysfs-bus-pci#L344-L355\n"
     ]
    }
   ],
   "source": [
    "# Check if a GPU is available\n",
    "if tf.config.list_physical_devices('GPU'):\n",
    "    device = \"/GPU:0\"\n",
    "    print(\"GPU is available and will be used.\")\n",
    "else:\n",
    "    device = \"/CPU:0\"\n",
    "    print(\"GPU is not available. Using CPU.\")"
   ]
  },
  {
   "cell_type": "code",
   "execution_count": 4,
   "metadata": {},
   "outputs": [],
   "source": [
    "image_dir = \"./football_dataset/test/images\"\n",
    "annotations_dir = \"./football_dataset/val/annotations\"\n",
    "utils.convert_to_yolo_format(annotations_dir=annotations_dir,output_dir = \"./yolo_football_dataset/val/labels\",image_shape=(1280,720))\n"
   ]
  },
  {
   "cell_type": "code",
   "execution_count": 5,
   "metadata": {},
   "outputs": [
    {
     "name": "stdout",
     "output_type": "stream",
     "text": [
      "New https://pypi.org/project/ultralytics/8.3.15 available 😃 Update with 'pip install -U ultralytics'\n",
      "Ultralytics YOLOv8.2.99 🚀 Python-3.10.12 torch-2.4.1+cu121 CUDA:0 (NVIDIA GeForce RTX 2050, 3905MiB)\n",
      "\u001b[34m\u001b[1mengine/trainer: \u001b[0mtask=detect, mode=train, model=yolov8m.pt, data=data.yaml, epochs=100, time=None, patience=100, batch=4, imgsz=720, save=True, save_period=-1, cache=False, device=None, workers=8, project=None, name=football_yolov83, exist_ok=False, pretrained=True, optimizer=auto, verbose=True, seed=0, deterministic=True, single_cls=False, rect=False, cos_lr=False, close_mosaic=10, resume=False, amp=True, fraction=1.0, profile=False, freeze=None, multi_scale=False, overlap_mask=True, mask_ratio=4, dropout=0.0, val=True, split=val, save_json=False, save_hybrid=False, conf=None, iou=0.7, max_det=300, half=False, dnn=False, plots=True, source=None, vid_stride=1, stream_buffer=False, visualize=False, augment=False, agnostic_nms=False, classes=None, retina_masks=False, embed=None, show=False, save_frames=False, save_txt=False, save_conf=False, save_crop=False, show_labels=True, show_conf=True, show_boxes=True, line_width=None, format=torchscript, keras=False, optimize=False, int8=False, dynamic=False, simplify=False, opset=None, workspace=4, nms=False, lr0=0.01, lrf=0.01, momentum=0.937, weight_decay=0.0005, warmup_epochs=3.0, warmup_momentum=0.8, warmup_bias_lr=0.1, box=7.5, cls=0.5, dfl=1.5, pose=12.0, kobj=1.0, label_smoothing=0.0, nbs=64, hsv_h=0.015, hsv_s=0.7, hsv_v=0.4, degrees=0.0, translate=0.1, scale=0.5, shear=0.0, perspective=0.0, flipud=0.0, fliplr=0.5, bgr=0.0, mosaic=1.0, mixup=0.0, copy_paste=0.0, auto_augment=randaugment, erasing=0.4, crop_fraction=1.0, cfg=None, tracker=botsort.yaml, save_dir=/home/omar/TUM/05_projects/2D-Object-Detection/runs/detect/football_yolov83\n",
      "Overriding model.yaml nc=80 with nc=2\n",
      "\n",
      "                   from  n    params  module                                       arguments                     \n",
      "  0                  -1  1      1392  ultralytics.nn.modules.conv.Conv             [3, 48, 3, 2]                 \n",
      "  1                  -1  1     41664  ultralytics.nn.modules.conv.Conv             [48, 96, 3, 2]                \n",
      "  2                  -1  2    111360  ultralytics.nn.modules.block.C2f             [96, 96, 2, True]             \n",
      "  3                  -1  1    166272  ultralytics.nn.modules.conv.Conv             [96, 192, 3, 2]               \n",
      "  4                  -1  4    813312  ultralytics.nn.modules.block.C2f             [192, 192, 4, True]           \n",
      "  5                  -1  1    664320  ultralytics.nn.modules.conv.Conv             [192, 384, 3, 2]              \n",
      "  6                  -1  4   3248640  ultralytics.nn.modules.block.C2f             [384, 384, 4, True]           \n",
      "  7                  -1  1   1991808  ultralytics.nn.modules.conv.Conv             [384, 576, 3, 2]              \n",
      "  8                  -1  2   3985920  ultralytics.nn.modules.block.C2f             [576, 576, 2, True]           \n",
      "  9                  -1  1    831168  ultralytics.nn.modules.block.SPPF            [576, 576, 5]                 \n",
      " 10                  -1  1         0  torch.nn.modules.upsampling.Upsample         [None, 2, 'nearest']          \n",
      " 11             [-1, 6]  1         0  ultralytics.nn.modules.conv.Concat           [1]                           \n",
      " 12                  -1  2   1993728  ultralytics.nn.modules.block.C2f             [960, 384, 2]                 \n",
      " 13                  -1  1         0  torch.nn.modules.upsampling.Upsample         [None, 2, 'nearest']          \n",
      " 14             [-1, 4]  1         0  ultralytics.nn.modules.conv.Concat           [1]                           \n",
      " 15                  -1  2    517632  ultralytics.nn.modules.block.C2f             [576, 192, 2]                 \n",
      " 16                  -1  1    332160  ultralytics.nn.modules.conv.Conv             [192, 192, 3, 2]              \n",
      " 17            [-1, 12]  1         0  ultralytics.nn.modules.conv.Concat           [1]                           \n",
      " 18                  -1  2   1846272  ultralytics.nn.modules.block.C2f             [576, 384, 2]                 \n",
      " 19                  -1  1   1327872  ultralytics.nn.modules.conv.Conv             [384, 384, 3, 2]              \n",
      " 20             [-1, 9]  1         0  ultralytics.nn.modules.conv.Concat           [1]                           \n",
      " 21                  -1  2   4207104  ultralytics.nn.modules.block.C2f             [960, 576, 2]                 \n",
      " 22        [15, 18, 21]  1   3776854  ultralytics.nn.modules.head.Detect           [2, [192, 384, 576]]          \n",
      "Model summary: 295 layers, 25,857,478 parameters, 25,857,462 gradients, 79.1 GFLOPs\n",
      "\n",
      "Transferred 469/475 items from pretrained weights\n",
      "\u001b[34m\u001b[1mTensorBoard: \u001b[0mStart with 'tensorboard --logdir /home/omar/TUM/05_projects/2D-Object-Detection/runs/detect/football_yolov83', view at http://localhost:6006/\n",
      "Freezing layer 'model.22.dfl.conv.weight'\n",
      "\u001b[34m\u001b[1mAMP: \u001b[0mrunning Automatic Mixed Precision (AMP) checks with YOLOv8n...\n",
      "\u001b[34m\u001b[1mAMP: \u001b[0mchecks passed ✅\n",
      "WARNING ⚠️ imgsz=[720] must be multiple of max stride 32, updating to [736]\n"
     ]
    },
    {
     "name": "stderr",
     "output_type": "stream",
     "text": [
      "\u001b[34m\u001b[1mtrain: \u001b[0mScanning /home/omar/TUM/05_projects/2D-Object-Detection/yolo_football_dataset/train/labels.cache... 859 images, 1 backgrounds, 0 corrupt: 100%|██████████| 859/859 [00:00<?, ?it/s]\n",
      "\u001b[34m\u001b[1mval: \u001b[0mScanning /home/omar/TUM/05_projects/2D-Object-Detection/yolo_football_dataset/val/labels.cache... 243 images, 0 backgrounds, 0 corrupt: 100%|██████████| 243/243 [00:00<?, ?it/s]\n"
     ]
    },
    {
     "name": "stdout",
     "output_type": "stream",
     "text": [
      "Plotting labels to /home/omar/TUM/05_projects/2D-Object-Detection/runs/detect/football_yolov83/labels.jpg... \n",
      "\u001b[34m\u001b[1moptimizer:\u001b[0m 'optimizer=auto' found, ignoring 'lr0=0.01' and 'momentum=0.937' and determining best 'optimizer', 'lr0' and 'momentum' automatically... \n",
      "\u001b[34m\u001b[1moptimizer:\u001b[0m AdamW(lr=0.001667, momentum=0.9) with parameter groups 77 weight(decay=0.0), 84 weight(decay=0.0005), 83 bias(decay=0.0)\n",
      "\u001b[34m\u001b[1mTensorBoard: \u001b[0mmodel graph visualization added ✅\n",
      "Image sizes 736 train, 736 val\n",
      "Using 8 dataloader workers\n",
      "Logging results to \u001b[1m/home/omar/TUM/05_projects/2D-Object-Detection/runs/detect/football_yolov83\u001b[0m\n",
      "Starting training for 100 epochs...\n",
      "\n",
      "      Epoch    GPU_mem   box_loss   cls_loss   dfl_loss  Instances       Size\n"
     ]
    },
    {
     "name": "stderr",
     "output_type": "stream",
     "text": [
      "      1/100      2.89G      1.171     0.7399      0.898        105        736: 100%|██████████| 215/215 [01:40<00:00,  2.14it/s]\n",
      "                 Class     Images  Instances      Box(P          R      mAP50  mAP50-95): 100%|██████████| 31/31 [00:07<00:00,  4.11it/s]"
     ]
    },
    {
     "name": "stdout",
     "output_type": "stream",
     "text": [
      "                   all        243       4513      0.943      0.864      0.919      0.629\n"
     ]
    },
    {
     "name": "stderr",
     "output_type": "stream",
     "text": [
      "\n"
     ]
    },
    {
     "name": "stdout",
     "output_type": "stream",
     "text": [
      "\n",
      "      Epoch    GPU_mem   box_loss   cls_loss   dfl_loss  Instances       Size\n"
     ]
    },
    {
     "name": "stderr",
     "output_type": "stream",
     "text": [
      "      2/100      2.68G      1.162     0.6276     0.8992         97        736: 100%|██████████| 215/215 [01:45<00:00,  2.03it/s]\n",
      "                 Class     Images  Instances      Box(P          R      mAP50  mAP50-95): 100%|██████████| 31/31 [00:06<00:00,  4.84it/s]"
     ]
    },
    {
     "name": "stdout",
     "output_type": "stream",
     "text": [
      "                   all        243       4513      0.962      0.882      0.937        0.6\n"
     ]
    },
    {
     "name": "stderr",
     "output_type": "stream",
     "text": [
      "\n"
     ]
    },
    {
     "name": "stdout",
     "output_type": "stream",
     "text": [
      "\n",
      "      Epoch    GPU_mem   box_loss   cls_loss   dfl_loss  Instances       Size\n"
     ]
    },
    {
     "name": "stderr",
     "output_type": "stream",
     "text": [
      "      3/100      2.65G      1.167     0.6245     0.9037         85        736: 100%|██████████| 215/215 [01:44<00:00,  2.05it/s]\n",
      "                 Class     Images  Instances      Box(P          R      mAP50  mAP50-95): 100%|██████████| 31/31 [00:06<00:00,  4.89it/s]"
     ]
    },
    {
     "name": "stdout",
     "output_type": "stream",
     "text": [
      "                   all        243       4513      0.948      0.891      0.937      0.653\n"
     ]
    },
    {
     "name": "stderr",
     "output_type": "stream",
     "text": [
      "\n"
     ]
    },
    {
     "name": "stdout",
     "output_type": "stream",
     "text": [
      "\n",
      "      Epoch    GPU_mem   box_loss   cls_loss   dfl_loss  Instances       Size\n"
     ]
    },
    {
     "name": "stderr",
     "output_type": "stream",
     "text": [
      "      4/100      2.69G      1.151     0.5948     0.8979         49        736: 100%|██████████| 215/215 [01:44<00:00,  2.06it/s]\n",
      "                 Class     Images  Instances      Box(P          R      mAP50  mAP50-95): 100%|██████████| 31/31 [00:06<00:00,  4.91it/s]"
     ]
    },
    {
     "name": "stdout",
     "output_type": "stream",
     "text": [
      "                   all        243       4513      0.944      0.897      0.945      0.643\n"
     ]
    },
    {
     "name": "stderr",
     "output_type": "stream",
     "text": [
      "\n"
     ]
    },
    {
     "name": "stdout",
     "output_type": "stream",
     "text": [
      "\n",
      "      Epoch    GPU_mem   box_loss   cls_loss   dfl_loss  Instances       Size\n"
     ]
    },
    {
     "name": "stderr",
     "output_type": "stream",
     "text": [
      "      5/100      2.67G      1.143     0.5931     0.9011         88        736: 100%|██████████| 215/215 [01:45<00:00,  2.04it/s]\n",
      "                 Class     Images  Instances      Box(P          R      mAP50  mAP50-95): 100%|██████████| 31/31 [00:06<00:00,  4.88it/s]"
     ]
    },
    {
     "name": "stdout",
     "output_type": "stream",
     "text": [
      "                   all        243       4513      0.967       0.89      0.939      0.643\n"
     ]
    },
    {
     "name": "stderr",
     "output_type": "stream",
     "text": [
      "\n"
     ]
    },
    {
     "name": "stdout",
     "output_type": "stream",
     "text": [
      "\n",
      "      Epoch    GPU_mem   box_loss   cls_loss   dfl_loss  Instances       Size\n"
     ]
    },
    {
     "name": "stderr",
     "output_type": "stream",
     "text": [
      "      6/100      2.67G      1.115      0.572     0.8876         47        736: 100%|██████████| 215/215 [01:44<00:00,  2.05it/s]\n",
      "                 Class     Images  Instances      Box(P          R      mAP50  mAP50-95): 100%|██████████| 31/31 [00:06<00:00,  4.88it/s]"
     ]
    },
    {
     "name": "stdout",
     "output_type": "stream",
     "text": [
      "                   all        243       4513      0.968       0.91      0.949      0.668\n"
     ]
    },
    {
     "name": "stderr",
     "output_type": "stream",
     "text": [
      "\n"
     ]
    },
    {
     "name": "stdout",
     "output_type": "stream",
     "text": [
      "\n",
      "      Epoch    GPU_mem   box_loss   cls_loss   dfl_loss  Instances       Size\n"
     ]
    },
    {
     "name": "stderr",
     "output_type": "stream",
     "text": [
      "      7/100      2.64G      1.146      0.589     0.8941         87        736: 100%|██████████| 215/215 [01:44<00:00,  2.05it/s]\n",
      "                 Class     Images  Instances      Box(P          R      mAP50  mAP50-95): 100%|██████████| 31/31 [00:06<00:00,  4.86it/s]"
     ]
    },
    {
     "name": "stdout",
     "output_type": "stream",
     "text": [
      "                   all        243       4513       0.97      0.906      0.951      0.677\n"
     ]
    },
    {
     "name": "stderr",
     "output_type": "stream",
     "text": [
      "\n"
     ]
    },
    {
     "name": "stdout",
     "output_type": "stream",
     "text": [
      "\n",
      "      Epoch    GPU_mem   box_loss   cls_loss   dfl_loss  Instances       Size\n"
     ]
    },
    {
     "name": "stderr",
     "output_type": "stream",
     "text": [
      "      8/100      2.69G      1.079     0.5443      0.878         74        736: 100%|██████████| 215/215 [01:44<00:00,  2.05it/s]\n",
      "                 Class     Images  Instances      Box(P          R      mAP50  mAP50-95): 100%|██████████| 31/31 [00:06<00:00,  4.89it/s]"
     ]
    },
    {
     "name": "stdout",
     "output_type": "stream",
     "text": [
      "                   all        243       4513      0.965      0.922      0.954      0.674\n"
     ]
    },
    {
     "name": "stderr",
     "output_type": "stream",
     "text": [
      "\n"
     ]
    },
    {
     "name": "stdout",
     "output_type": "stream",
     "text": [
      "\n",
      "      Epoch    GPU_mem   box_loss   cls_loss   dfl_loss  Instances       Size\n"
     ]
    },
    {
     "name": "stderr",
     "output_type": "stream",
     "text": [
      "      9/100      2.67G      1.065     0.5329     0.8809         77        736: 100%|██████████| 215/215 [01:44<00:00,  2.05it/s]\n",
      "                 Class     Images  Instances      Box(P          R      mAP50  mAP50-95): 100%|██████████| 31/31 [00:06<00:00,  4.87it/s]"
     ]
    },
    {
     "name": "stdout",
     "output_type": "stream",
     "text": [
      "                   all        243       4513       0.95      0.899      0.949      0.652\n"
     ]
    },
    {
     "name": "stderr",
     "output_type": "stream",
     "text": [
      "\n"
     ]
    },
    {
     "name": "stdout",
     "output_type": "stream",
     "text": [
      "\n",
      "      Epoch    GPU_mem   box_loss   cls_loss   dfl_loss  Instances       Size\n"
     ]
    },
    {
     "name": "stderr",
     "output_type": "stream",
     "text": [
      "     10/100      2.67G      1.064     0.5318     0.8785         91        736: 100%|██████████| 215/215 [01:44<00:00,  2.05it/s]\n",
      "                 Class     Images  Instances      Box(P          R      mAP50  mAP50-95): 100%|██████████| 31/31 [00:06<00:00,  4.81it/s]"
     ]
    },
    {
     "name": "stdout",
     "output_type": "stream",
     "text": [
      "                   all        243       4513      0.961      0.908      0.949      0.659\n"
     ]
    },
    {
     "name": "stderr",
     "output_type": "stream",
     "text": [
      "\n"
     ]
    },
    {
     "name": "stdout",
     "output_type": "stream",
     "text": [
      "\n",
      "      Epoch    GPU_mem   box_loss   cls_loss   dfl_loss  Instances       Size\n"
     ]
    },
    {
     "name": "stderr",
     "output_type": "stream",
     "text": [
      "     11/100      2.66G      1.079     0.5343     0.8815         78        736: 100%|██████████| 215/215 [01:45<00:00,  2.05it/s]\n",
      "                 Class     Images  Instances      Box(P          R      mAP50  mAP50-95): 100%|██████████| 31/31 [00:06<00:00,  4.81it/s]"
     ]
    },
    {
     "name": "stdout",
     "output_type": "stream",
     "text": [
      "                   all        243       4513      0.969      0.912      0.949      0.642\n"
     ]
    },
    {
     "name": "stderr",
     "output_type": "stream",
     "text": [
      "\n"
     ]
    },
    {
     "name": "stdout",
     "output_type": "stream",
     "text": [
      "\n",
      "      Epoch    GPU_mem   box_loss   cls_loss   dfl_loss  Instances       Size\n"
     ]
    },
    {
     "name": "stderr",
     "output_type": "stream",
     "text": [
      "     12/100      2.67G      1.056     0.5199     0.8744         74        736: 100%|██████████| 215/215 [01:45<00:00,  2.04it/s]\n",
      "                 Class     Images  Instances      Box(P          R      mAP50  mAP50-95): 100%|██████████| 31/31 [00:06<00:00,  4.86it/s]"
     ]
    },
    {
     "name": "stdout",
     "output_type": "stream",
     "text": [
      "                   all        243       4513       0.97      0.912      0.951      0.683\n"
     ]
    },
    {
     "name": "stderr",
     "output_type": "stream",
     "text": [
      "\n"
     ]
    },
    {
     "name": "stdout",
     "output_type": "stream",
     "text": [
      "\n",
      "      Epoch    GPU_mem   box_loss   cls_loss   dfl_loss  Instances       Size\n"
     ]
    },
    {
     "name": "stderr",
     "output_type": "stream",
     "text": [
      "     13/100      2.64G      1.028     0.5006     0.8678        101        736: 100%|██████████| 215/215 [01:45<00:00,  2.04it/s]\n",
      "                 Class     Images  Instances      Box(P          R      mAP50  mAP50-95): 100%|██████████| 31/31 [00:06<00:00,  4.88it/s]"
     ]
    },
    {
     "name": "stdout",
     "output_type": "stream",
     "text": [
      "                   all        243       4513      0.969      0.923      0.956       0.69\n"
     ]
    },
    {
     "name": "stderr",
     "output_type": "stream",
     "text": [
      "\n"
     ]
    },
    {
     "name": "stdout",
     "output_type": "stream",
     "text": [
      "\n",
      "      Epoch    GPU_mem   box_loss   cls_loss   dfl_loss  Instances       Size\n"
     ]
    },
    {
     "name": "stderr",
     "output_type": "stream",
     "text": [
      "     14/100      2.68G      1.043       0.51     0.8721         75        736: 100%|██████████| 215/215 [01:45<00:00,  2.04it/s]\n",
      "                 Class     Images  Instances      Box(P          R      mAP50  mAP50-95): 100%|██████████| 31/31 [00:06<00:00,  4.84it/s]"
     ]
    },
    {
     "name": "stdout",
     "output_type": "stream",
     "text": [
      "                   all        243       4513      0.967      0.916      0.952      0.689\n"
     ]
    },
    {
     "name": "stderr",
     "output_type": "stream",
     "text": [
      "\n"
     ]
    },
    {
     "name": "stdout",
     "output_type": "stream",
     "text": [
      "\n",
      "      Epoch    GPU_mem   box_loss   cls_loss   dfl_loss  Instances       Size\n"
     ]
    },
    {
     "name": "stderr",
     "output_type": "stream",
     "text": [
      "     15/100      2.68G      1.002     0.4931     0.8645        102        736: 100%|██████████| 215/215 [01:44<00:00,  2.05it/s]\n",
      "                 Class     Images  Instances      Box(P          R      mAP50  mAP50-95): 100%|██████████| 31/31 [00:06<00:00,  4.86it/s]"
     ]
    },
    {
     "name": "stdout",
     "output_type": "stream",
     "text": [
      "                   all        243       4513      0.972      0.916      0.956      0.697\n"
     ]
    },
    {
     "name": "stderr",
     "output_type": "stream",
     "text": [
      "\n"
     ]
    },
    {
     "name": "stdout",
     "output_type": "stream",
     "text": [
      "\n",
      "      Epoch    GPU_mem   box_loss   cls_loss   dfl_loss  Instances       Size\n"
     ]
    },
    {
     "name": "stderr",
     "output_type": "stream",
     "text": [
      "     16/100      2.67G      1.022     0.5035     0.8664        154        736: 100%|██████████| 215/215 [01:44<00:00,  2.05it/s]\n",
      "                 Class     Images  Instances      Box(P          R      mAP50  mAP50-95): 100%|██████████| 31/31 [00:06<00:00,  4.88it/s]"
     ]
    },
    {
     "name": "stdout",
     "output_type": "stream",
     "text": [
      "                   all        243       4513      0.973      0.917      0.957      0.697\n"
     ]
    },
    {
     "name": "stderr",
     "output_type": "stream",
     "text": [
      "\n"
     ]
    },
    {
     "name": "stdout",
     "output_type": "stream",
     "text": [
      "\n",
      "      Epoch    GPU_mem   box_loss   cls_loss   dfl_loss  Instances       Size\n"
     ]
    },
    {
     "name": "stderr",
     "output_type": "stream",
     "text": [
      "     17/100      2.66G      1.018     0.5014     0.8707        120        736: 100%|██████████| 215/215 [01:44<00:00,  2.06it/s]\n",
      "                 Class     Images  Instances      Box(P          R      mAP50  mAP50-95): 100%|██████████| 31/31 [00:06<00:00,  4.86it/s]"
     ]
    },
    {
     "name": "stdout",
     "output_type": "stream",
     "text": [
      "                   all        243       4513       0.97      0.923      0.956      0.699\n"
     ]
    },
    {
     "name": "stderr",
     "output_type": "stream",
     "text": [
      "\n"
     ]
    },
    {
     "name": "stdout",
     "output_type": "stream",
     "text": [
      "\n",
      "      Epoch    GPU_mem   box_loss   cls_loss   dfl_loss  Instances       Size\n"
     ]
    },
    {
     "name": "stderr",
     "output_type": "stream",
     "text": [
      "     18/100      2.69G      1.001     0.4927     0.8627        132        736: 100%|██████████| 215/215 [01:44<00:00,  2.05it/s]\n",
      "                 Class     Images  Instances      Box(P          R      mAP50  mAP50-95): 100%|██████████| 31/31 [00:06<00:00,  4.86it/s]"
     ]
    },
    {
     "name": "stdout",
     "output_type": "stream",
     "text": [
      "                   all        243       4513      0.969      0.921      0.955      0.681\n"
     ]
    },
    {
     "name": "stderr",
     "output_type": "stream",
     "text": [
      "\n"
     ]
    },
    {
     "name": "stdout",
     "output_type": "stream",
     "text": [
      "\n",
      "      Epoch    GPU_mem   box_loss   cls_loss   dfl_loss  Instances       Size\n"
     ]
    },
    {
     "name": "stderr",
     "output_type": "stream",
     "text": [
      "     19/100      2.69G      1.018     0.5003     0.8717        118        736: 100%|██████████| 215/215 [01:44<00:00,  2.06it/s]\n",
      "                 Class     Images  Instances      Box(P          R      mAP50  mAP50-95): 100%|██████████| 31/31 [00:06<00:00,  4.89it/s]"
     ]
    },
    {
     "name": "stdout",
     "output_type": "stream",
     "text": [
      "                   all        243       4513       0.97      0.922      0.961      0.701\n"
     ]
    },
    {
     "name": "stderr",
     "output_type": "stream",
     "text": [
      "\n"
     ]
    },
    {
     "name": "stdout",
     "output_type": "stream",
     "text": [
      "\n",
      "      Epoch    GPU_mem   box_loss   cls_loss   dfl_loss  Instances       Size\n"
     ]
    },
    {
     "name": "stderr",
     "output_type": "stream",
     "text": [
      "     20/100      2.68G      1.005     0.4917     0.8632         63        736: 100%|██████████| 215/215 [01:44<00:00,  2.06it/s]\n",
      "                 Class     Images  Instances      Box(P          R      mAP50  mAP50-95): 100%|██████████| 31/31 [00:06<00:00,  4.83it/s]"
     ]
    },
    {
     "name": "stdout",
     "output_type": "stream",
     "text": [
      "                   all        243       4513      0.974      0.924      0.956      0.702\n"
     ]
    },
    {
     "name": "stderr",
     "output_type": "stream",
     "text": [
      "\n"
     ]
    },
    {
     "name": "stdout",
     "output_type": "stream",
     "text": [
      "\n",
      "      Epoch    GPU_mem   box_loss   cls_loss   dfl_loss  Instances       Size\n"
     ]
    },
    {
     "name": "stderr",
     "output_type": "stream",
     "text": [
      "     21/100       2.7G      0.996     0.4961     0.8643        115        736: 100%|██████████| 215/215 [01:45<00:00,  2.05it/s]\n",
      "                 Class     Images  Instances      Box(P          R      mAP50  mAP50-95): 100%|██████████| 31/31 [00:06<00:00,  4.92it/s]"
     ]
    },
    {
     "name": "stdout",
     "output_type": "stream",
     "text": [
      "                   all        243       4513      0.975      0.918      0.954      0.692\n"
     ]
    },
    {
     "name": "stderr",
     "output_type": "stream",
     "text": [
      "\n"
     ]
    },
    {
     "name": "stdout",
     "output_type": "stream",
     "text": [
      "\n",
      "      Epoch    GPU_mem   box_loss   cls_loss   dfl_loss  Instances       Size\n"
     ]
    },
    {
     "name": "stderr",
     "output_type": "stream",
     "text": [
      "     22/100      2.65G     0.9981     0.4881     0.8661         97        736: 100%|██████████| 215/215 [01:44<00:00,  2.05it/s]\n",
      "                 Class     Images  Instances      Box(P          R      mAP50  mAP50-95): 100%|██████████| 31/31 [00:06<00:00,  4.90it/s]"
     ]
    },
    {
     "name": "stdout",
     "output_type": "stream",
     "text": [
      "                   all        243       4513      0.972      0.923      0.953      0.695\n"
     ]
    },
    {
     "name": "stderr",
     "output_type": "stream",
     "text": [
      "\n"
     ]
    },
    {
     "name": "stdout",
     "output_type": "stream",
     "text": [
      "\n",
      "      Epoch    GPU_mem   box_loss   cls_loss   dfl_loss  Instances       Size\n"
     ]
    },
    {
     "name": "stderr",
     "output_type": "stream",
     "text": [
      "     23/100      2.64G     0.9613     0.4762       0.86         98        736: 100%|██████████| 215/215 [01:44<00:00,  2.06it/s]\n",
      "                 Class     Images  Instances      Box(P          R      mAP50  mAP50-95): 100%|██████████| 31/31 [00:06<00:00,  4.94it/s]"
     ]
    },
    {
     "name": "stdout",
     "output_type": "stream",
     "text": [
      "                   all        243       4513      0.971      0.922      0.956      0.706\n"
     ]
    },
    {
     "name": "stderr",
     "output_type": "stream",
     "text": [
      "\n"
     ]
    },
    {
     "name": "stdout",
     "output_type": "stream",
     "text": [
      "\n",
      "      Epoch    GPU_mem   box_loss   cls_loss   dfl_loss  Instances       Size\n"
     ]
    },
    {
     "name": "stderr",
     "output_type": "stream",
     "text": [
      "     24/100      2.68G     0.9879     0.4823     0.8588        109        736: 100%|██████████| 215/215 [01:44<00:00,  2.06it/s]\n",
      "                 Class     Images  Instances      Box(P          R      mAP50  mAP50-95): 100%|██████████| 31/31 [00:06<00:00,  4.84it/s]"
     ]
    },
    {
     "name": "stdout",
     "output_type": "stream",
     "text": [
      "                   all        243       4513      0.973      0.928      0.958      0.689\n"
     ]
    },
    {
     "name": "stderr",
     "output_type": "stream",
     "text": [
      "\n"
     ]
    },
    {
     "name": "stdout",
     "output_type": "stream",
     "text": [
      "\n",
      "      Epoch    GPU_mem   box_loss   cls_loss   dfl_loss  Instances       Size\n"
     ]
    },
    {
     "name": "stderr",
     "output_type": "stream",
     "text": [
      "     25/100      2.67G      0.948     0.4602     0.8541         57        736: 100%|██████████| 215/215 [01:44<00:00,  2.05it/s]\n",
      "                 Class     Images  Instances      Box(P          R      mAP50  mAP50-95): 100%|██████████| 31/31 [00:06<00:00,  4.97it/s]"
     ]
    },
    {
     "name": "stdout",
     "output_type": "stream",
     "text": [
      "                   all        243       4513      0.971      0.931      0.962      0.706\n"
     ]
    },
    {
     "name": "stderr",
     "output_type": "stream",
     "text": [
      "\n"
     ]
    },
    {
     "name": "stdout",
     "output_type": "stream",
     "text": [
      "\n",
      "      Epoch    GPU_mem   box_loss   cls_loss   dfl_loss  Instances       Size\n"
     ]
    },
    {
     "name": "stderr",
     "output_type": "stream",
     "text": [
      "     26/100      2.68G     0.9798     0.4806     0.8567        152        736: 100%|██████████| 215/215 [01:45<00:00,  2.04it/s]\n",
      "                 Class     Images  Instances      Box(P          R      mAP50  mAP50-95): 100%|██████████| 31/31 [00:06<00:00,  4.81it/s]"
     ]
    },
    {
     "name": "stdout",
     "output_type": "stream",
     "text": [
      "                   all        243       4513      0.967      0.926      0.957      0.705\n"
     ]
    },
    {
     "name": "stderr",
     "output_type": "stream",
     "text": [
      "\n"
     ]
    },
    {
     "name": "stdout",
     "output_type": "stream",
     "text": [
      "\n",
      "      Epoch    GPU_mem   box_loss   cls_loss   dfl_loss  Instances       Size\n"
     ]
    },
    {
     "name": "stderr",
     "output_type": "stream",
     "text": [
      "     27/100      2.69G      1.005     0.4888     0.8623         82        736: 100%|██████████| 215/215 [01:45<00:00,  2.03it/s]\n",
      "                 Class     Images  Instances      Box(P          R      mAP50  mAP50-95): 100%|██████████| 31/31 [00:06<00:00,  4.95it/s]"
     ]
    },
    {
     "name": "stdout",
     "output_type": "stream",
     "text": [
      "                   all        243       4513      0.969      0.926      0.955      0.693\n"
     ]
    },
    {
     "name": "stderr",
     "output_type": "stream",
     "text": [
      "\n"
     ]
    },
    {
     "name": "stdout",
     "output_type": "stream",
     "text": [
      "\n",
      "      Epoch    GPU_mem   box_loss   cls_loss   dfl_loss  Instances       Size\n"
     ]
    },
    {
     "name": "stderr",
     "output_type": "stream",
     "text": [
      "     28/100      2.65G     0.9555     0.4657     0.8529         60        736: 100%|██████████| 215/215 [01:44<00:00,  2.05it/s]\n",
      "                 Class     Images  Instances      Box(P          R      mAP50  mAP50-95): 100%|██████████| 31/31 [00:06<00:00,  4.88it/s]"
     ]
    },
    {
     "name": "stdout",
     "output_type": "stream",
     "text": [
      "                   all        243       4513      0.966      0.921      0.957      0.697\n"
     ]
    },
    {
     "name": "stderr",
     "output_type": "stream",
     "text": [
      "\n"
     ]
    },
    {
     "name": "stdout",
     "output_type": "stream",
     "text": [
      "\n",
      "      Epoch    GPU_mem   box_loss   cls_loss   dfl_loss  Instances       Size\n"
     ]
    },
    {
     "name": "stderr",
     "output_type": "stream",
     "text": [
      "     29/100      2.65G     0.9622     0.4689      0.858         74        736: 100%|██████████| 215/215 [01:45<00:00,  2.04it/s]\n",
      "                 Class     Images  Instances      Box(P          R      mAP50  mAP50-95): 100%|██████████| 31/31 [00:06<00:00,  4.86it/s]"
     ]
    },
    {
     "name": "stdout",
     "output_type": "stream",
     "text": [
      "                   all        243       4513      0.973      0.927      0.958      0.712\n"
     ]
    },
    {
     "name": "stderr",
     "output_type": "stream",
     "text": [
      "\n"
     ]
    },
    {
     "name": "stdout",
     "output_type": "stream",
     "text": [
      "\n",
      "      Epoch    GPU_mem   box_loss   cls_loss   dfl_loss  Instances       Size\n"
     ]
    },
    {
     "name": "stderr",
     "output_type": "stream",
     "text": [
      "     30/100      2.69G     0.9486     0.4602     0.8553         65        736: 100%|██████████| 215/215 [01:45<00:00,  2.05it/s]\n",
      "                 Class     Images  Instances      Box(P          R      mAP50  mAP50-95): 100%|██████████| 31/31 [00:06<00:00,  4.90it/s]"
     ]
    },
    {
     "name": "stdout",
     "output_type": "stream",
     "text": [
      "                   all        243       4513      0.968      0.931      0.961      0.715\n"
     ]
    },
    {
     "name": "stderr",
     "output_type": "stream",
     "text": [
      "\n"
     ]
    },
    {
     "name": "stdout",
     "output_type": "stream",
     "text": [
      "\n",
      "      Epoch    GPU_mem   box_loss   cls_loss   dfl_loss  Instances       Size\n"
     ]
    },
    {
     "name": "stderr",
     "output_type": "stream",
     "text": [
      "     31/100      2.69G     0.9452     0.4536     0.8527        125        736: 100%|██████████| 215/215 [01:44<00:00,  2.06it/s]\n",
      "                 Class     Images  Instances      Box(P          R      mAP50  mAP50-95): 100%|██████████| 31/31 [00:06<00:00,  4.91it/s]"
     ]
    },
    {
     "name": "stdout",
     "output_type": "stream",
     "text": [
      "                   all        243       4513      0.972      0.932      0.958       0.71\n"
     ]
    },
    {
     "name": "stderr",
     "output_type": "stream",
     "text": [
      "\n"
     ]
    },
    {
     "name": "stdout",
     "output_type": "stream",
     "text": [
      "\n",
      "      Epoch    GPU_mem   box_loss   cls_loss   dfl_loss  Instances       Size\n"
     ]
    },
    {
     "name": "stderr",
     "output_type": "stream",
     "text": [
      "     32/100      2.67G     0.9913     0.4714     0.8623         79        736: 100%|██████████| 215/215 [01:45<00:00,  2.03it/s]\n",
      "                 Class     Images  Instances      Box(P          R      mAP50  mAP50-95): 100%|██████████| 31/31 [00:06<00:00,  4.83it/s]"
     ]
    },
    {
     "name": "stdout",
     "output_type": "stream",
     "text": [
      "                   all        243       4513      0.974      0.928      0.959      0.713\n"
     ]
    },
    {
     "name": "stderr",
     "output_type": "stream",
     "text": [
      "\n"
     ]
    },
    {
     "name": "stdout",
     "output_type": "stream",
     "text": [
      "\n",
      "      Epoch    GPU_mem   box_loss   cls_loss   dfl_loss  Instances       Size\n"
     ]
    },
    {
     "name": "stderr",
     "output_type": "stream",
     "text": [
      "     33/100      2.64G     0.9543     0.4546     0.8541         95        736: 100%|██████████| 215/215 [01:45<00:00,  2.04it/s]\n",
      "                 Class     Images  Instances      Box(P          R      mAP50  mAP50-95): 100%|██████████| 31/31 [00:06<00:00,  4.85it/s]"
     ]
    },
    {
     "name": "stdout",
     "output_type": "stream",
     "text": [
      "                   all        243       4513      0.976      0.922      0.956      0.704\n"
     ]
    },
    {
     "name": "stderr",
     "output_type": "stream",
     "text": [
      "\n"
     ]
    },
    {
     "name": "stdout",
     "output_type": "stream",
     "text": [
      "\n",
      "      Epoch    GPU_mem   box_loss   cls_loss   dfl_loss  Instances       Size\n"
     ]
    },
    {
     "name": "stderr",
     "output_type": "stream",
     "text": [
      "     34/100      2.66G     0.9368     0.4556     0.8535        125        736: 100%|██████████| 215/215 [01:45<00:00,  2.04it/s]\n",
      "                 Class     Images  Instances      Box(P          R      mAP50  mAP50-95): 100%|██████████| 31/31 [00:06<00:00,  4.88it/s]"
     ]
    },
    {
     "name": "stdout",
     "output_type": "stream",
     "text": [
      "                   all        243       4513      0.971      0.934      0.963      0.708\n"
     ]
    },
    {
     "name": "stderr",
     "output_type": "stream",
     "text": [
      "\n"
     ]
    },
    {
     "name": "stdout",
     "output_type": "stream",
     "text": [
      "\n",
      "      Epoch    GPU_mem   box_loss   cls_loss   dfl_loss  Instances       Size\n"
     ]
    },
    {
     "name": "stderr",
     "output_type": "stream",
     "text": [
      "     35/100      2.64G     0.9206     0.4435      0.848        128        736: 100%|██████████| 215/215 [01:45<00:00,  2.04it/s]\n",
      "                 Class     Images  Instances      Box(P          R      mAP50  mAP50-95): 100%|██████████| 31/31 [00:06<00:00,  4.88it/s]"
     ]
    },
    {
     "name": "stdout",
     "output_type": "stream",
     "text": [
      "                   all        243       4513      0.971      0.932      0.964      0.705\n"
     ]
    },
    {
     "name": "stderr",
     "output_type": "stream",
     "text": [
      "\n"
     ]
    },
    {
     "name": "stdout",
     "output_type": "stream",
     "text": [
      "\n",
      "      Epoch    GPU_mem   box_loss   cls_loss   dfl_loss  Instances       Size\n"
     ]
    },
    {
     "name": "stderr",
     "output_type": "stream",
     "text": [
      "     36/100      2.69G     0.9294     0.4524     0.8523        110        736: 100%|██████████| 215/215 [01:45<00:00,  2.04it/s]\n",
      "                 Class     Images  Instances      Box(P          R      mAP50  mAP50-95): 100%|██████████| 31/31 [00:06<00:00,  4.87it/s]"
     ]
    },
    {
     "name": "stdout",
     "output_type": "stream",
     "text": [
      "                   all        243       4513      0.975       0.93      0.961       0.72\n"
     ]
    },
    {
     "name": "stderr",
     "output_type": "stream",
     "text": [
      "\n"
     ]
    },
    {
     "name": "stdout",
     "output_type": "stream",
     "text": [
      "\n",
      "      Epoch    GPU_mem   box_loss   cls_loss   dfl_loss  Instances       Size\n"
     ]
    },
    {
     "name": "stderr",
     "output_type": "stream",
     "text": [
      "     37/100      2.66G     0.9429     0.4548     0.8547         87        736: 100%|██████████| 215/215 [01:45<00:00,  2.04it/s]\n",
      "                 Class     Images  Instances      Box(P          R      mAP50  mAP50-95): 100%|██████████| 31/31 [00:06<00:00,  4.87it/s]"
     ]
    },
    {
     "name": "stdout",
     "output_type": "stream",
     "text": [
      "                   all        243       4513      0.977      0.926       0.96      0.705\n"
     ]
    },
    {
     "name": "stderr",
     "output_type": "stream",
     "text": [
      "\n"
     ]
    },
    {
     "name": "stdout",
     "output_type": "stream",
     "text": [
      "\n",
      "      Epoch    GPU_mem   box_loss   cls_loss   dfl_loss  Instances       Size\n"
     ]
    },
    {
     "name": "stderr",
     "output_type": "stream",
     "text": [
      "     38/100       2.7G     0.9203       0.44     0.8458         79        736: 100%|██████████| 215/215 [01:45<00:00,  2.04it/s]\n",
      "                 Class     Images  Instances      Box(P          R      mAP50  mAP50-95): 100%|██████████| 31/31 [00:06<00:00,  4.84it/s]"
     ]
    },
    {
     "name": "stdout",
     "output_type": "stream",
     "text": [
      "                   all        243       4513      0.975      0.931      0.965      0.718\n"
     ]
    },
    {
     "name": "stderr",
     "output_type": "stream",
     "text": [
      "\n"
     ]
    },
    {
     "name": "stdout",
     "output_type": "stream",
     "text": [
      "\n",
      "      Epoch    GPU_mem   box_loss   cls_loss   dfl_loss  Instances       Size\n"
     ]
    },
    {
     "name": "stderr",
     "output_type": "stream",
     "text": [
      "     39/100      2.68G      0.954     0.4485      0.848         29        736: 100%|██████████| 215/215 [01:45<00:00,  2.04it/s]\n",
      "                 Class     Images  Instances      Box(P          R      mAP50  mAP50-95): 100%|██████████| 31/31 [00:06<00:00,  4.87it/s]"
     ]
    },
    {
     "name": "stdout",
     "output_type": "stream",
     "text": [
      "                   all        243       4513      0.977      0.932      0.962      0.715\n"
     ]
    },
    {
     "name": "stderr",
     "output_type": "stream",
     "text": [
      "\n"
     ]
    },
    {
     "name": "stdout",
     "output_type": "stream",
     "text": [
      "\n",
      "      Epoch    GPU_mem   box_loss   cls_loss   dfl_loss  Instances       Size\n"
     ]
    },
    {
     "name": "stderr",
     "output_type": "stream",
     "text": [
      "     40/100      2.68G     0.9045     0.4324     0.8432         57        736: 100%|██████████| 215/215 [01:45<00:00,  2.04it/s]\n",
      "                 Class     Images  Instances      Box(P          R      mAP50  mAP50-95): 100%|██████████| 31/31 [00:06<00:00,  4.85it/s]"
     ]
    },
    {
     "name": "stdout",
     "output_type": "stream",
     "text": [
      "                   all        243       4513      0.972      0.938      0.964      0.718\n"
     ]
    },
    {
     "name": "stderr",
     "output_type": "stream",
     "text": [
      "\n"
     ]
    },
    {
     "name": "stdout",
     "output_type": "stream",
     "text": [
      "\n",
      "      Epoch    GPU_mem   box_loss   cls_loss   dfl_loss  Instances       Size\n"
     ]
    },
    {
     "name": "stderr",
     "output_type": "stream",
     "text": [
      "     41/100      2.68G     0.9079     0.4339     0.8455        115        736: 100%|██████████| 215/215 [01:44<00:00,  2.06it/s]\n",
      "                 Class     Images  Instances      Box(P          R      mAP50  mAP50-95): 100%|██████████| 31/31 [00:06<00:00,  4.91it/s]"
     ]
    },
    {
     "name": "stdout",
     "output_type": "stream",
     "text": [
      "                   all        243       4513       0.97      0.928      0.959       0.72\n"
     ]
    },
    {
     "name": "stderr",
     "output_type": "stream",
     "text": [
      "\n"
     ]
    },
    {
     "name": "stdout",
     "output_type": "stream",
     "text": [
      "\n",
      "      Epoch    GPU_mem   box_loss   cls_loss   dfl_loss  Instances       Size\n"
     ]
    },
    {
     "name": "stderr",
     "output_type": "stream",
     "text": [
      "     42/100      2.68G     0.9062     0.4332     0.8457        146        736: 100%|██████████| 215/215 [01:44<00:00,  2.06it/s]\n",
      "                 Class     Images  Instances      Box(P          R      mAP50  mAP50-95): 100%|██████████| 31/31 [00:06<00:00,  4.93it/s]"
     ]
    },
    {
     "name": "stdout",
     "output_type": "stream",
     "text": [
      "                   all        243       4513      0.975      0.937      0.966      0.728\n"
     ]
    },
    {
     "name": "stderr",
     "output_type": "stream",
     "text": [
      "\n"
     ]
    },
    {
     "name": "stdout",
     "output_type": "stream",
     "text": [
      "\n",
      "      Epoch    GPU_mem   box_loss   cls_loss   dfl_loss  Instances       Size\n"
     ]
    },
    {
     "name": "stderr",
     "output_type": "stream",
     "text": [
      "     43/100      2.66G     0.9044     0.4301     0.8478         59        736: 100%|██████████| 215/215 [01:44<00:00,  2.07it/s]\n",
      "                 Class     Images  Instances      Box(P          R      mAP50  mAP50-95): 100%|██████████| 31/31 [00:06<00:00,  4.78it/s]"
     ]
    },
    {
     "name": "stdout",
     "output_type": "stream",
     "text": [
      "                   all        243       4513      0.976      0.932      0.965      0.708\n"
     ]
    },
    {
     "name": "stderr",
     "output_type": "stream",
     "text": [
      "\n"
     ]
    },
    {
     "name": "stdout",
     "output_type": "stream",
     "text": [
      "\n",
      "      Epoch    GPU_mem   box_loss   cls_loss   dfl_loss  Instances       Size\n"
     ]
    },
    {
     "name": "stderr",
     "output_type": "stream",
     "text": [
      "     44/100      2.68G     0.9038     0.4311     0.8422        112        736: 100%|██████████| 215/215 [01:44<00:00,  2.06it/s]\n",
      "                 Class     Images  Instances      Box(P          R      mAP50  mAP50-95): 100%|██████████| 31/31 [00:06<00:00,  4.97it/s]"
     ]
    },
    {
     "name": "stdout",
     "output_type": "stream",
     "text": [
      "                   all        243       4513      0.975      0.932      0.965      0.721\n"
     ]
    },
    {
     "name": "stderr",
     "output_type": "stream",
     "text": [
      "\n"
     ]
    },
    {
     "name": "stdout",
     "output_type": "stream",
     "text": [
      "\n",
      "      Epoch    GPU_mem   box_loss   cls_loss   dfl_loss  Instances       Size\n"
     ]
    },
    {
     "name": "stderr",
     "output_type": "stream",
     "text": [
      "     45/100      2.66G     0.8805     0.4167     0.8419         97        736: 100%|██████████| 215/215 [01:44<00:00,  2.07it/s]\n",
      "                 Class     Images  Instances      Box(P          R      mAP50  mAP50-95): 100%|██████████| 31/31 [00:06<00:00,  4.93it/s]"
     ]
    },
    {
     "name": "stdout",
     "output_type": "stream",
     "text": [
      "                   all        243       4513      0.979      0.931      0.967      0.722\n"
     ]
    },
    {
     "name": "stderr",
     "output_type": "stream",
     "text": [
      "\n"
     ]
    },
    {
     "name": "stdout",
     "output_type": "stream",
     "text": [
      "\n",
      "      Epoch    GPU_mem   box_loss   cls_loss   dfl_loss  Instances       Size\n"
     ]
    },
    {
     "name": "stderr",
     "output_type": "stream",
     "text": [
      "     46/100      2.66G      0.884     0.4242      0.843         56        736: 100%|██████████| 215/215 [01:43<00:00,  2.07it/s]\n",
      "                 Class     Images  Instances      Box(P          R      mAP50  mAP50-95): 100%|██████████| 31/31 [00:06<00:00,  5.02it/s]"
     ]
    },
    {
     "name": "stdout",
     "output_type": "stream",
     "text": [
      "                   all        243       4513      0.977      0.927      0.965      0.703\n"
     ]
    },
    {
     "name": "stderr",
     "output_type": "stream",
     "text": [
      "\n"
     ]
    },
    {
     "name": "stdout",
     "output_type": "stream",
     "text": [
      "\n",
      "      Epoch    GPU_mem   box_loss   cls_loss   dfl_loss  Instances       Size\n"
     ]
    },
    {
     "name": "stderr",
     "output_type": "stream",
     "text": [
      "     47/100      2.67G     0.9188     0.4386      0.847         91        736: 100%|██████████| 215/215 [01:44<00:00,  2.06it/s]\n",
      "                 Class     Images  Instances      Box(P          R      mAP50  mAP50-95): 100%|██████████| 31/31 [00:06<00:00,  4.91it/s]"
     ]
    },
    {
     "name": "stdout",
     "output_type": "stream",
     "text": [
      "                   all        243       4513      0.977      0.928      0.963      0.713\n"
     ]
    },
    {
     "name": "stderr",
     "output_type": "stream",
     "text": [
      "\n"
     ]
    },
    {
     "name": "stdout",
     "output_type": "stream",
     "text": [
      "\n",
      "      Epoch    GPU_mem   box_loss   cls_loss   dfl_loss  Instances       Size\n"
     ]
    },
    {
     "name": "stderr",
     "output_type": "stream",
     "text": [
      "     48/100      2.71G     0.8956     0.4282     0.8436         89        736: 100%|██████████| 215/215 [01:44<00:00,  2.07it/s]\n",
      "                 Class     Images  Instances      Box(P          R      mAP50  mAP50-95): 100%|██████████| 31/31 [00:06<00:00,  5.00it/s]"
     ]
    },
    {
     "name": "stdout",
     "output_type": "stream",
     "text": [
      "                   all        243       4513      0.977       0.93      0.966      0.716\n"
     ]
    },
    {
     "name": "stderr",
     "output_type": "stream",
     "text": [
      "\n"
     ]
    },
    {
     "name": "stdout",
     "output_type": "stream",
     "text": [
      "\n",
      "      Epoch    GPU_mem   box_loss   cls_loss   dfl_loss  Instances       Size\n"
     ]
    },
    {
     "name": "stderr",
     "output_type": "stream",
     "text": [
      "     49/100      2.63G     0.9035     0.4272     0.8466         48        736: 100%|██████████| 215/215 [01:44<00:00,  2.06it/s]\n",
      "                 Class     Images  Instances      Box(P          R      mAP50  mAP50-95): 100%|██████████| 31/31 [00:06<00:00,  4.98it/s]"
     ]
    },
    {
     "name": "stdout",
     "output_type": "stream",
     "text": [
      "                   all        243       4513      0.971      0.935      0.965      0.727\n"
     ]
    },
    {
     "name": "stderr",
     "output_type": "stream",
     "text": [
      "\n"
     ]
    },
    {
     "name": "stdout",
     "output_type": "stream",
     "text": [
      "\n",
      "      Epoch    GPU_mem   box_loss   cls_loss   dfl_loss  Instances       Size\n"
     ]
    },
    {
     "name": "stderr",
     "output_type": "stream",
     "text": [
      "     50/100      2.65G     0.8878     0.4227     0.8427         76        736: 100%|██████████| 215/215 [01:44<00:00,  2.06it/s]\n",
      "                 Class     Images  Instances      Box(P          R      mAP50  mAP50-95): 100%|██████████| 31/31 [00:06<00:00,  4.92it/s]"
     ]
    },
    {
     "name": "stdout",
     "output_type": "stream",
     "text": [
      "                   all        243       4513      0.975      0.933      0.966      0.729\n"
     ]
    },
    {
     "name": "stderr",
     "output_type": "stream",
     "text": [
      "\n"
     ]
    },
    {
     "name": "stdout",
     "output_type": "stream",
     "text": [
      "\n",
      "      Epoch    GPU_mem   box_loss   cls_loss   dfl_loss  Instances       Size\n"
     ]
    },
    {
     "name": "stderr",
     "output_type": "stream",
     "text": [
      "     51/100      2.63G     0.8694     0.4132     0.8403         86        736: 100%|██████████| 215/215 [01:44<00:00,  2.06it/s]\n",
      "                 Class     Images  Instances      Box(P          R      mAP50  mAP50-95): 100%|██████████| 31/31 [00:06<00:00,  4.98it/s]"
     ]
    },
    {
     "name": "stdout",
     "output_type": "stream",
     "text": [
      "                   all        243       4513      0.974      0.932      0.965      0.713\n"
     ]
    },
    {
     "name": "stderr",
     "output_type": "stream",
     "text": [
      "\n"
     ]
    },
    {
     "name": "stdout",
     "output_type": "stream",
     "text": [
      "\n",
      "      Epoch    GPU_mem   box_loss   cls_loss   dfl_loss  Instances       Size\n"
     ]
    },
    {
     "name": "stderr",
     "output_type": "stream",
     "text": [
      "     52/100      2.69G     0.8815     0.4146     0.8345         69        736: 100%|██████████| 215/215 [01:44<00:00,  2.05it/s]\n",
      "                 Class     Images  Instances      Box(P          R      mAP50  mAP50-95): 100%|██████████| 31/31 [00:06<00:00,  4.95it/s]"
     ]
    },
    {
     "name": "stdout",
     "output_type": "stream",
     "text": [
      "                   all        243       4513      0.971      0.938      0.965      0.726\n"
     ]
    },
    {
     "name": "stderr",
     "output_type": "stream",
     "text": [
      "\n"
     ]
    },
    {
     "name": "stdout",
     "output_type": "stream",
     "text": [
      "\n",
      "      Epoch    GPU_mem   box_loss   cls_loss   dfl_loss  Instances       Size\n"
     ]
    },
    {
     "name": "stderr",
     "output_type": "stream",
     "text": [
      "     53/100      2.67G     0.8768     0.4115     0.8374        100        736: 100%|██████████| 215/215 [01:44<00:00,  2.05it/s]\n",
      "                 Class     Images  Instances      Box(P          R      mAP50  mAP50-95): 100%|██████████| 31/31 [00:06<00:00,  4.77it/s]"
     ]
    },
    {
     "name": "stdout",
     "output_type": "stream",
     "text": [
      "                   all        243       4513      0.972      0.931      0.966      0.728\n"
     ]
    },
    {
     "name": "stderr",
     "output_type": "stream",
     "text": [
      "\n"
     ]
    },
    {
     "name": "stdout",
     "output_type": "stream",
     "text": [
      "\n",
      "      Epoch    GPU_mem   box_loss   cls_loss   dfl_loss  Instances       Size\n"
     ]
    },
    {
     "name": "stderr",
     "output_type": "stream",
     "text": [
      "     54/100      2.67G     0.8752     0.4064     0.8379        135        736: 100%|██████████| 215/215 [01:46<00:00,  2.02it/s]\n",
      "                 Class     Images  Instances      Box(P          R      mAP50  mAP50-95): 100%|██████████| 31/31 [00:06<00:00,  4.78it/s]"
     ]
    },
    {
     "name": "stdout",
     "output_type": "stream",
     "text": [
      "                   all        243       4513      0.972      0.937      0.968       0.73\n"
     ]
    },
    {
     "name": "stderr",
     "output_type": "stream",
     "text": [
      "\n"
     ]
    },
    {
     "name": "stdout",
     "output_type": "stream",
     "text": [
      "\n",
      "      Epoch    GPU_mem   box_loss   cls_loss   dfl_loss  Instances       Size\n"
     ]
    },
    {
     "name": "stderr",
     "output_type": "stream",
     "text": [
      "     55/100      2.69G     0.8784     0.4143     0.8389         66        736: 100%|██████████| 215/215 [01:46<00:00,  2.01it/s]\n",
      "                 Class     Images  Instances      Box(P          R      mAP50  mAP50-95): 100%|██████████| 31/31 [00:06<00:00,  4.80it/s]"
     ]
    },
    {
     "name": "stdout",
     "output_type": "stream",
     "text": [
      "                   all        243       4513      0.968      0.936      0.961      0.712\n"
     ]
    },
    {
     "name": "stderr",
     "output_type": "stream",
     "text": [
      "\n"
     ]
    },
    {
     "name": "stdout",
     "output_type": "stream",
     "text": [
      "\n",
      "      Epoch    GPU_mem   box_loss   cls_loss   dfl_loss  Instances       Size\n"
     ]
    },
    {
     "name": "stderr",
     "output_type": "stream",
     "text": [
      "     56/100      2.68G     0.8681     0.4106     0.8341         71        736: 100%|██████████| 215/215 [01:46<00:00,  2.01it/s]\n",
      "                 Class     Images  Instances      Box(P          R      mAP50  mAP50-95): 100%|██████████| 31/31 [00:06<00:00,  4.75it/s]"
     ]
    },
    {
     "name": "stdout",
     "output_type": "stream",
     "text": [
      "                   all        243       4513      0.978      0.937      0.967      0.731\n"
     ]
    },
    {
     "name": "stderr",
     "output_type": "stream",
     "text": [
      "\n"
     ]
    },
    {
     "name": "stdout",
     "output_type": "stream",
     "text": [
      "\n",
      "      Epoch    GPU_mem   box_loss   cls_loss   dfl_loss  Instances       Size\n"
     ]
    },
    {
     "name": "stderr",
     "output_type": "stream",
     "text": [
      "     57/100      2.69G     0.8656     0.4108     0.8381        127        736: 100%|██████████| 215/215 [01:47<00:00,  2.01it/s]\n",
      "                 Class     Images  Instances      Box(P          R      mAP50  mAP50-95): 100%|██████████| 31/31 [00:06<00:00,  4.69it/s]"
     ]
    },
    {
     "name": "stdout",
     "output_type": "stream",
     "text": [
      "                   all        243       4513      0.973      0.934      0.966      0.725\n"
     ]
    },
    {
     "name": "stderr",
     "output_type": "stream",
     "text": [
      "\n"
     ]
    },
    {
     "name": "stdout",
     "output_type": "stream",
     "text": [
      "\n",
      "      Epoch    GPU_mem   box_loss   cls_loss   dfl_loss  Instances       Size\n"
     ]
    },
    {
     "name": "stderr",
     "output_type": "stream",
     "text": [
      "     58/100      2.69G     0.8435      0.402     0.8341         92        736: 100%|██████████| 215/215 [01:47<00:00,  2.01it/s]\n",
      "                 Class     Images  Instances      Box(P          R      mAP50  mAP50-95): 100%|██████████| 31/31 [00:06<00:00,  4.70it/s]"
     ]
    },
    {
     "name": "stdout",
     "output_type": "stream",
     "text": [
      "                   all        243       4513      0.976      0.938      0.967      0.734\n"
     ]
    },
    {
     "name": "stderr",
     "output_type": "stream",
     "text": [
      "\n"
     ]
    },
    {
     "name": "stdout",
     "output_type": "stream",
     "text": [
      "\n",
      "      Epoch    GPU_mem   box_loss   cls_loss   dfl_loss  Instances       Size\n"
     ]
    },
    {
     "name": "stderr",
     "output_type": "stream",
     "text": [
      "     59/100      2.64G     0.8594     0.4068     0.8352        117        736: 100%|██████████| 215/215 [01:47<00:00,  2.00it/s]\n",
      "                 Class     Images  Instances      Box(P          R      mAP50  mAP50-95): 100%|██████████| 31/31 [00:06<00:00,  4.81it/s]"
     ]
    },
    {
     "name": "stdout",
     "output_type": "stream",
     "text": [
      "                   all        243       4513      0.974      0.935      0.967      0.732\n"
     ]
    },
    {
     "name": "stderr",
     "output_type": "stream",
     "text": [
      "\n"
     ]
    },
    {
     "name": "stdout",
     "output_type": "stream",
     "text": [
      "\n",
      "      Epoch    GPU_mem   box_loss   cls_loss   dfl_loss  Instances       Size\n"
     ]
    },
    {
     "name": "stderr",
     "output_type": "stream",
     "text": [
      "     60/100      2.68G     0.8573     0.4087     0.8375        171        736: 100%|██████████| 215/215 [01:47<00:00,  2.00it/s]\n",
      "                 Class     Images  Instances      Box(P          R      mAP50  mAP50-95): 100%|██████████| 31/31 [00:06<00:00,  4.75it/s]"
     ]
    },
    {
     "name": "stdout",
     "output_type": "stream",
     "text": [
      "                   all        243       4513      0.978      0.932      0.967      0.733\n"
     ]
    },
    {
     "name": "stderr",
     "output_type": "stream",
     "text": [
      "\n"
     ]
    },
    {
     "name": "stdout",
     "output_type": "stream",
     "text": [
      "\n",
      "      Epoch    GPU_mem   box_loss   cls_loss   dfl_loss  Instances       Size\n"
     ]
    },
    {
     "name": "stderr",
     "output_type": "stream",
     "text": [
      "     61/100      2.68G     0.8676     0.4135     0.8349         40        736: 100%|██████████| 215/215 [01:47<00:00,  1.99it/s]\n",
      "                 Class     Images  Instances      Box(P          R      mAP50  mAP50-95): 100%|██████████| 31/31 [00:06<00:00,  4.80it/s]"
     ]
    },
    {
     "name": "stdout",
     "output_type": "stream",
     "text": [
      "                   all        243       4513      0.972      0.937      0.967      0.729\n"
     ]
    },
    {
     "name": "stderr",
     "output_type": "stream",
     "text": [
      "\n"
     ]
    },
    {
     "name": "stdout",
     "output_type": "stream",
     "text": [
      "\n",
      "      Epoch    GPU_mem   box_loss   cls_loss   dfl_loss  Instances       Size\n"
     ]
    },
    {
     "name": "stderr",
     "output_type": "stream",
     "text": [
      "     62/100      2.65G     0.8501     0.3978     0.8328         63        736: 100%|██████████| 215/215 [01:47<00:00,  2.00it/s]\n",
      "                 Class     Images  Instances      Box(P          R      mAP50  mAP50-95): 100%|██████████| 31/31 [00:06<00:00,  4.80it/s]"
     ]
    },
    {
     "name": "stdout",
     "output_type": "stream",
     "text": [
      "                   all        243       4513       0.98      0.935      0.967      0.732\n"
     ]
    },
    {
     "name": "stderr",
     "output_type": "stream",
     "text": [
      "\n"
     ]
    },
    {
     "name": "stdout",
     "output_type": "stream",
     "text": [
      "\n",
      "      Epoch    GPU_mem   box_loss   cls_loss   dfl_loss  Instances       Size\n"
     ]
    },
    {
     "name": "stderr",
     "output_type": "stream",
     "text": [
      "     63/100      2.66G     0.8481     0.3963      0.831        179        736: 100%|██████████| 215/215 [01:47<00:00,  2.00it/s]\n",
      "                 Class     Images  Instances      Box(P          R      mAP50  mAP50-95): 100%|██████████| 31/31 [00:06<00:00,  4.82it/s]"
     ]
    },
    {
     "name": "stdout",
     "output_type": "stream",
     "text": [
      "                   all        243       4513      0.976      0.936      0.967      0.741\n"
     ]
    },
    {
     "name": "stderr",
     "output_type": "stream",
     "text": [
      "\n"
     ]
    },
    {
     "name": "stdout",
     "output_type": "stream",
     "text": [
      "\n",
      "      Epoch    GPU_mem   box_loss   cls_loss   dfl_loss  Instances       Size\n"
     ]
    },
    {
     "name": "stderr",
     "output_type": "stream",
     "text": [
      "     64/100      2.68G       0.85     0.3989     0.8289        130        736: 100%|██████████| 215/215 [01:47<00:00,  2.00it/s]\n",
      "                 Class     Images  Instances      Box(P          R      mAP50  mAP50-95): 100%|██████████| 31/31 [00:06<00:00,  4.79it/s]"
     ]
    },
    {
     "name": "stdout",
     "output_type": "stream",
     "text": [
      "                   all        243       4513      0.976      0.933      0.968      0.733\n"
     ]
    },
    {
     "name": "stderr",
     "output_type": "stream",
     "text": [
      "\n"
     ]
    },
    {
     "name": "stdout",
     "output_type": "stream",
     "text": [
      "\n",
      "      Epoch    GPU_mem   box_loss   cls_loss   dfl_loss  Instances       Size\n"
     ]
    },
    {
     "name": "stderr",
     "output_type": "stream",
     "text": [
      "     65/100      2.66G     0.8472     0.3992     0.8354         96        736: 100%|██████████| 215/215 [01:47<00:00,  1.99it/s]\n",
      "                 Class     Images  Instances      Box(P          R      mAP50  mAP50-95): 100%|██████████| 31/31 [00:06<00:00,  4.75it/s]"
     ]
    },
    {
     "name": "stdout",
     "output_type": "stream",
     "text": [
      "                   all        243       4513      0.971      0.938      0.968      0.725\n"
     ]
    },
    {
     "name": "stderr",
     "output_type": "stream",
     "text": [
      "\n"
     ]
    },
    {
     "name": "stdout",
     "output_type": "stream",
     "text": [
      "\n",
      "      Epoch    GPU_mem   box_loss   cls_loss   dfl_loss  Instances       Size\n"
     ]
    },
    {
     "name": "stderr",
     "output_type": "stream",
     "text": [
      "     66/100      2.66G     0.8438     0.3921     0.8298         91        736: 100%|██████████| 215/215 [01:47<00:00,  1.99it/s]\n",
      "                 Class     Images  Instances      Box(P          R      mAP50  mAP50-95): 100%|██████████| 31/31 [00:06<00:00,  4.78it/s]"
     ]
    },
    {
     "name": "stdout",
     "output_type": "stream",
     "text": [
      "                   all        243       4513      0.977      0.935      0.967       0.74\n"
     ]
    },
    {
     "name": "stderr",
     "output_type": "stream",
     "text": [
      "\n"
     ]
    },
    {
     "name": "stdout",
     "output_type": "stream",
     "text": [
      "\n",
      "      Epoch    GPU_mem   box_loss   cls_loss   dfl_loss  Instances       Size\n"
     ]
    },
    {
     "name": "stderr",
     "output_type": "stream",
     "text": [
      "     67/100      2.64G     0.8309     0.3908     0.8324        132        736: 100%|██████████| 215/215 [01:47<00:00,  2.00it/s]\n",
      "                 Class     Images  Instances      Box(P          R      mAP50  mAP50-95): 100%|██████████| 31/31 [00:06<00:00,  4.78it/s]"
     ]
    },
    {
     "name": "stdout",
     "output_type": "stream",
     "text": [
      "                   all        243       4513      0.976      0.938      0.968       0.74\n"
     ]
    },
    {
     "name": "stderr",
     "output_type": "stream",
     "text": [
      "\n"
     ]
    },
    {
     "name": "stdout",
     "output_type": "stream",
     "text": [
      "\n",
      "      Epoch    GPU_mem   box_loss   cls_loss   dfl_loss  Instances       Size\n"
     ]
    },
    {
     "name": "stderr",
     "output_type": "stream",
     "text": [
      "     68/100      2.67G     0.8335     0.3921      0.832         42        736: 100%|██████████| 215/215 [01:47<00:00,  2.00it/s]\n",
      "                 Class     Images  Instances      Box(P          R      mAP50  mAP50-95): 100%|██████████| 31/31 [00:06<00:00,  4.76it/s]"
     ]
    },
    {
     "name": "stdout",
     "output_type": "stream",
     "text": [
      "                   all        243       4513      0.975      0.937      0.968      0.741\n"
     ]
    },
    {
     "name": "stderr",
     "output_type": "stream",
     "text": [
      "\n"
     ]
    },
    {
     "name": "stdout",
     "output_type": "stream",
     "text": [
      "\n",
      "      Epoch    GPU_mem   box_loss   cls_loss   dfl_loss  Instances       Size\n"
     ]
    },
    {
     "name": "stderr",
     "output_type": "stream",
     "text": [
      "     69/100      2.68G     0.8343     0.3939     0.8289        120        736: 100%|██████████| 215/215 [01:47<00:00,  2.00it/s]\n",
      "                 Class     Images  Instances      Box(P          R      mAP50  mAP50-95): 100%|██████████| 31/31 [00:06<00:00,  4.79it/s]"
     ]
    },
    {
     "name": "stdout",
     "output_type": "stream",
     "text": [
      "                   all        243       4513       0.98      0.931      0.968       0.74\n"
     ]
    },
    {
     "name": "stderr",
     "output_type": "stream",
     "text": [
      "\n"
     ]
    },
    {
     "name": "stdout",
     "output_type": "stream",
     "text": [
      "\n",
      "      Epoch    GPU_mem   box_loss   cls_loss   dfl_loss  Instances       Size\n"
     ]
    },
    {
     "name": "stderr",
     "output_type": "stream",
     "text": [
      "     70/100      2.67G     0.8288     0.3875     0.8291         41        736: 100%|██████████| 215/215 [01:47<00:00,  2.00it/s]\n",
      "                 Class     Images  Instances      Box(P          R      mAP50  mAP50-95): 100%|██████████| 31/31 [00:06<00:00,  4.80it/s]"
     ]
    },
    {
     "name": "stdout",
     "output_type": "stream",
     "text": [
      "                   all        243       4513      0.976      0.938      0.968      0.744\n"
     ]
    },
    {
     "name": "stderr",
     "output_type": "stream",
     "text": [
      "\n"
     ]
    },
    {
     "name": "stdout",
     "output_type": "stream",
     "text": [
      "\n",
      "      Epoch    GPU_mem   box_loss   cls_loss   dfl_loss  Instances       Size\n"
     ]
    },
    {
     "name": "stderr",
     "output_type": "stream",
     "text": [
      "     71/100      2.67G     0.8293     0.3873     0.8309        107        736: 100%|██████████| 215/215 [01:48<00:00,  1.99it/s]\n",
      "                 Class     Images  Instances      Box(P          R      mAP50  mAP50-95): 100%|██████████| 31/31 [00:06<00:00,  4.78it/s]"
     ]
    },
    {
     "name": "stdout",
     "output_type": "stream",
     "text": [
      "                   all        243       4513      0.978      0.941       0.97      0.745\n"
     ]
    },
    {
     "name": "stderr",
     "output_type": "stream",
     "text": [
      "\n"
     ]
    },
    {
     "name": "stdout",
     "output_type": "stream",
     "text": [
      "\n",
      "      Epoch    GPU_mem   box_loss   cls_loss   dfl_loss  Instances       Size\n"
     ]
    },
    {
     "name": "stderr",
     "output_type": "stream",
     "text": [
      "     72/100      2.64G     0.8262     0.3871     0.8275        133        736: 100%|██████████| 215/215 [01:48<00:00,  1.99it/s]\n",
      "                 Class     Images  Instances      Box(P          R      mAP50  mAP50-95): 100%|██████████| 31/31 [00:06<00:00,  4.80it/s]"
     ]
    },
    {
     "name": "stdout",
     "output_type": "stream",
     "text": [
      "                   all        243       4513      0.976      0.938       0.97      0.732\n"
     ]
    },
    {
     "name": "stderr",
     "output_type": "stream",
     "text": [
      "\n"
     ]
    },
    {
     "name": "stdout",
     "output_type": "stream",
     "text": [
      "\n",
      "      Epoch    GPU_mem   box_loss   cls_loss   dfl_loss  Instances       Size\n"
     ]
    },
    {
     "name": "stderr",
     "output_type": "stream",
     "text": [
      "     73/100      2.69G     0.8163     0.3812     0.8222        116        736: 100%|██████████| 215/215 [01:47<00:00,  1.99it/s]\n",
      "                 Class     Images  Instances      Box(P          R      mAP50  mAP50-95): 100%|██████████| 31/31 [00:06<00:00,  4.71it/s]"
     ]
    },
    {
     "name": "stdout",
     "output_type": "stream",
     "text": [
      "                   all        243       4513      0.976       0.94      0.971      0.745\n"
     ]
    },
    {
     "name": "stderr",
     "output_type": "stream",
     "text": [
      "\n"
     ]
    },
    {
     "name": "stdout",
     "output_type": "stream",
     "text": [
      "\n",
      "      Epoch    GPU_mem   box_loss   cls_loss   dfl_loss  Instances       Size\n"
     ]
    },
    {
     "name": "stderr",
     "output_type": "stream",
     "text": [
      "     74/100      2.69G     0.8023     0.3773      0.825        145        736: 100%|██████████| 215/215 [01:47<00:00,  2.00it/s]\n",
      "                 Class     Images  Instances      Box(P          R      mAP50  mAP50-95): 100%|██████████| 31/31 [00:06<00:00,  4.81it/s]"
     ]
    },
    {
     "name": "stdout",
     "output_type": "stream",
     "text": [
      "                   all        243       4513      0.978      0.938      0.971       0.74\n"
     ]
    },
    {
     "name": "stderr",
     "output_type": "stream",
     "text": [
      "\n"
     ]
    },
    {
     "name": "stdout",
     "output_type": "stream",
     "text": [
      "\n",
      "      Epoch    GPU_mem   box_loss   cls_loss   dfl_loss  Instances       Size\n"
     ]
    },
    {
     "name": "stderr",
     "output_type": "stream",
     "text": [
      "     75/100      2.69G     0.8097     0.3777     0.8257        116        736: 100%|██████████| 215/215 [01:48<00:00,  1.99it/s]\n",
      "                 Class     Images  Instances      Box(P          R      mAP50  mAP50-95): 100%|██████████| 31/31 [00:06<00:00,  4.81it/s]"
     ]
    },
    {
     "name": "stdout",
     "output_type": "stream",
     "text": [
      "                   all        243       4513      0.978       0.94      0.972      0.752\n"
     ]
    },
    {
     "name": "stderr",
     "output_type": "stream",
     "text": [
      "\n"
     ]
    },
    {
     "name": "stdout",
     "output_type": "stream",
     "text": [
      "\n",
      "      Epoch    GPU_mem   box_loss   cls_loss   dfl_loss  Instances       Size\n"
     ]
    },
    {
     "name": "stderr",
     "output_type": "stream",
     "text": [
      "     76/100      2.64G     0.8018     0.3763      0.823         87        736: 100%|██████████| 215/215 [01:47<00:00,  1.99it/s]\n",
      "                 Class     Images  Instances      Box(P          R      mAP50  mAP50-95): 100%|██████████| 31/31 [00:06<00:00,  4.76it/s]"
     ]
    },
    {
     "name": "stdout",
     "output_type": "stream",
     "text": [
      "                   all        243       4513      0.976      0.938      0.972      0.751\n"
     ]
    },
    {
     "name": "stderr",
     "output_type": "stream",
     "text": [
      "\n"
     ]
    },
    {
     "name": "stdout",
     "output_type": "stream",
     "text": [
      "\n",
      "      Epoch    GPU_mem   box_loss   cls_loss   dfl_loss  Instances       Size\n"
     ]
    },
    {
     "name": "stderr",
     "output_type": "stream",
     "text": [
      "     77/100      2.65G     0.8096     0.3809     0.8254        100        736: 100%|██████████| 215/215 [01:47<00:00,  1.99it/s]\n",
      "                 Class     Images  Instances      Box(P          R      mAP50  mAP50-95): 100%|██████████| 31/31 [00:06<00:00,  4.77it/s]"
     ]
    },
    {
     "name": "stdout",
     "output_type": "stream",
     "text": [
      "                   all        243       4513      0.979      0.935       0.97      0.749\n"
     ]
    },
    {
     "name": "stderr",
     "output_type": "stream",
     "text": [
      "\n"
     ]
    },
    {
     "name": "stdout",
     "output_type": "stream",
     "text": [
      "\n",
      "      Epoch    GPU_mem   box_loss   cls_loss   dfl_loss  Instances       Size\n"
     ]
    },
    {
     "name": "stderr",
     "output_type": "stream",
     "text": [
      "     78/100      2.67G     0.7894     0.3758     0.8251         70        736: 100%|██████████| 215/215 [01:47<00:00,  2.00it/s]\n",
      "                 Class     Images  Instances      Box(P          R      mAP50  mAP50-95): 100%|██████████| 31/31 [00:06<00:00,  4.76it/s]"
     ]
    },
    {
     "name": "stdout",
     "output_type": "stream",
     "text": [
      "                   all        243       4513      0.978      0.937       0.97      0.741\n"
     ]
    },
    {
     "name": "stderr",
     "output_type": "stream",
     "text": [
      "\n"
     ]
    },
    {
     "name": "stdout",
     "output_type": "stream",
     "text": [
      "\n",
      "      Epoch    GPU_mem   box_loss   cls_loss   dfl_loss  Instances       Size\n"
     ]
    },
    {
     "name": "stderr",
     "output_type": "stream",
     "text": [
      "     79/100       2.7G     0.8068     0.3766      0.823        116        736: 100%|██████████| 215/215 [01:47<00:00,  1.99it/s]\n",
      "                 Class     Images  Instances      Box(P          R      mAP50  mAP50-95): 100%|██████████| 31/31 [00:06<00:00,  4.78it/s]"
     ]
    },
    {
     "name": "stdout",
     "output_type": "stream",
     "text": [
      "                   all        243       4513      0.974      0.939      0.971      0.744\n"
     ]
    },
    {
     "name": "stderr",
     "output_type": "stream",
     "text": [
      "\n"
     ]
    },
    {
     "name": "stdout",
     "output_type": "stream",
     "text": [
      "\n",
      "      Epoch    GPU_mem   box_loss   cls_loss   dfl_loss  Instances       Size\n"
     ]
    },
    {
     "name": "stderr",
     "output_type": "stream",
     "text": [
      "     80/100      2.67G     0.7972     0.3725     0.8249        116        736: 100%|██████████| 215/215 [01:47<00:00,  1.99it/s]\n",
      "                 Class     Images  Instances      Box(P          R      mAP50  mAP50-95): 100%|██████████| 31/31 [00:06<00:00,  4.79it/s]"
     ]
    },
    {
     "name": "stdout",
     "output_type": "stream",
     "text": [
      "                   all        243       4513      0.977      0.936      0.971      0.745\n"
     ]
    },
    {
     "name": "stderr",
     "output_type": "stream",
     "text": [
      "\n"
     ]
    },
    {
     "name": "stdout",
     "output_type": "stream",
     "text": [
      "\n",
      "      Epoch    GPU_mem   box_loss   cls_loss   dfl_loss  Instances       Size\n"
     ]
    },
    {
     "name": "stderr",
     "output_type": "stream",
     "text": [
      "     81/100      2.66G     0.7887     0.3706     0.8236        104        736: 100%|██████████| 215/215 [01:47<00:00,  1.99it/s]\n",
      "                 Class     Images  Instances      Box(P          R      mAP50  mAP50-95): 100%|██████████| 31/31 [00:06<00:00,  4.65it/s]"
     ]
    },
    {
     "name": "stdout",
     "output_type": "stream",
     "text": [
      "                   all        243       4513      0.979      0.937      0.971      0.749\n"
     ]
    },
    {
     "name": "stderr",
     "output_type": "stream",
     "text": [
      "\n"
     ]
    },
    {
     "name": "stdout",
     "output_type": "stream",
     "text": [
      "\n",
      "      Epoch    GPU_mem   box_loss   cls_loss   dfl_loss  Instances       Size\n"
     ]
    },
    {
     "name": "stderr",
     "output_type": "stream",
     "text": [
      "     82/100       2.7G     0.7887     0.3674      0.824         93        736: 100%|██████████| 215/215 [01:48<00:00,  1.99it/s]\n",
      "                 Class     Images  Instances      Box(P          R      mAP50  mAP50-95): 100%|██████████| 31/31 [00:06<00:00,  4.80it/s]"
     ]
    },
    {
     "name": "stdout",
     "output_type": "stream",
     "text": [
      "                   all        243       4513      0.979      0.939      0.971      0.738\n"
     ]
    },
    {
     "name": "stderr",
     "output_type": "stream",
     "text": [
      "\n"
     ]
    },
    {
     "name": "stdout",
     "output_type": "stream",
     "text": [
      "\n",
      "      Epoch    GPU_mem   box_loss   cls_loss   dfl_loss  Instances       Size\n"
     ]
    },
    {
     "name": "stderr",
     "output_type": "stream",
     "text": [
      "     83/100      2.67G     0.7995      0.372     0.8256         67        736: 100%|██████████| 215/215 [01:47<00:00,  2.00it/s]\n",
      "                 Class     Images  Instances      Box(P          R      mAP50  mAP50-95): 100%|██████████| 31/31 [00:06<00:00,  4.81it/s]"
     ]
    },
    {
     "name": "stdout",
     "output_type": "stream",
     "text": [
      "                   all        243       4513      0.975      0.939       0.97      0.733\n"
     ]
    },
    {
     "name": "stderr",
     "output_type": "stream",
     "text": [
      "\n"
     ]
    },
    {
     "name": "stdout",
     "output_type": "stream",
     "text": [
      "\n",
      "      Epoch    GPU_mem   box_loss   cls_loss   dfl_loss  Instances       Size\n"
     ]
    },
    {
     "name": "stderr",
     "output_type": "stream",
     "text": [
      "     84/100      2.64G     0.7944     0.3726     0.8221         89        736: 100%|██████████| 215/215 [01:47<00:00,  1.99it/s]\n",
      "                 Class     Images  Instances      Box(P          R      mAP50  mAP50-95): 100%|██████████| 31/31 [00:06<00:00,  4.80it/s]"
     ]
    },
    {
     "name": "stdout",
     "output_type": "stream",
     "text": [
      "                   all        243       4513       0.98       0.94      0.972      0.755\n"
     ]
    },
    {
     "name": "stderr",
     "output_type": "stream",
     "text": [
      "\n"
     ]
    },
    {
     "name": "stdout",
     "output_type": "stream",
     "text": [
      "\n",
      "      Epoch    GPU_mem   box_loss   cls_loss   dfl_loss  Instances       Size\n"
     ]
    },
    {
     "name": "stderr",
     "output_type": "stream",
     "text": [
      "     85/100      2.64G     0.7864      0.364     0.8205         69        736: 100%|██████████| 215/215 [01:47<00:00,  1.99it/s]\n",
      "                 Class     Images  Instances      Box(P          R      mAP50  mAP50-95): 100%|██████████| 31/31 [00:06<00:00,  4.78it/s]"
     ]
    },
    {
     "name": "stdout",
     "output_type": "stream",
     "text": [
      "                   all        243       4513      0.978      0.941      0.971      0.746\n"
     ]
    },
    {
     "name": "stderr",
     "output_type": "stream",
     "text": [
      "\n"
     ]
    },
    {
     "name": "stdout",
     "output_type": "stream",
     "text": [
      "\n",
      "      Epoch    GPU_mem   box_loss   cls_loss   dfl_loss  Instances       Size\n"
     ]
    },
    {
     "name": "stderr",
     "output_type": "stream",
     "text": [
      "     86/100       2.7G     0.7724     0.3587     0.8204        113        736: 100%|██████████| 215/215 [01:47<00:00,  2.00it/s]\n",
      "                 Class     Images  Instances      Box(P          R      mAP50  mAP50-95): 100%|██████████| 31/31 [00:06<00:00,  4.78it/s]"
     ]
    },
    {
     "name": "stdout",
     "output_type": "stream",
     "text": [
      "                   all        243       4513      0.975      0.942      0.971      0.745\n"
     ]
    },
    {
     "name": "stderr",
     "output_type": "stream",
     "text": [
      "\n"
     ]
    },
    {
     "name": "stdout",
     "output_type": "stream",
     "text": [
      "\n",
      "      Epoch    GPU_mem   box_loss   cls_loss   dfl_loss  Instances       Size\n"
     ]
    },
    {
     "name": "stderr",
     "output_type": "stream",
     "text": [
      "     87/100      2.69G     0.7673     0.3577     0.8191         51        736: 100%|██████████| 215/215 [01:47<00:00,  1.99it/s]\n",
      "                 Class     Images  Instances      Box(P          R      mAP50  mAP50-95): 100%|██████████| 31/31 [00:06<00:00,  4.79it/s]"
     ]
    },
    {
     "name": "stdout",
     "output_type": "stream",
     "text": [
      "                   all        243       4513      0.976      0.943      0.972      0.755\n"
     ]
    },
    {
     "name": "stderr",
     "output_type": "stream",
     "text": [
      "\n"
     ]
    },
    {
     "name": "stdout",
     "output_type": "stream",
     "text": [
      "\n",
      "      Epoch    GPU_mem   box_loss   cls_loss   dfl_loss  Instances       Size\n"
     ]
    },
    {
     "name": "stderr",
     "output_type": "stream",
     "text": [
      "     88/100      2.68G     0.7617     0.3508     0.8185         63        736: 100%|██████████| 215/215 [01:47<00:00,  2.00it/s]\n",
      "                 Class     Images  Instances      Box(P          R      mAP50  mAP50-95): 100%|██████████| 31/31 [00:06<00:00,  4.81it/s]"
     ]
    },
    {
     "name": "stdout",
     "output_type": "stream",
     "text": [
      "                   all        243       4513      0.975      0.942      0.972      0.749\n"
     ]
    },
    {
     "name": "stderr",
     "output_type": "stream",
     "text": [
      "\n"
     ]
    },
    {
     "name": "stdout",
     "output_type": "stream",
     "text": [
      "\n",
      "      Epoch    GPU_mem   box_loss   cls_loss   dfl_loss  Instances       Size\n"
     ]
    },
    {
     "name": "stderr",
     "output_type": "stream",
     "text": [
      "     89/100      2.68G     0.7675     0.3596     0.8207         78        736: 100%|██████████| 215/215 [01:47<00:00,  2.00it/s]\n",
      "                 Class     Images  Instances      Box(P          R      mAP50  mAP50-95): 100%|██████████| 31/31 [00:06<00:00,  4.78it/s]"
     ]
    },
    {
     "name": "stdout",
     "output_type": "stream",
     "text": [
      "                   all        243       4513      0.978      0.941      0.972       0.75\n"
     ]
    },
    {
     "name": "stderr",
     "output_type": "stream",
     "text": [
      "\n"
     ]
    },
    {
     "name": "stdout",
     "output_type": "stream",
     "text": [
      "\n",
      "      Epoch    GPU_mem   box_loss   cls_loss   dfl_loss  Instances       Size\n"
     ]
    },
    {
     "name": "stderr",
     "output_type": "stream",
     "text": [
      "     90/100      2.68G     0.7657     0.3568     0.8192         66        736: 100%|██████████| 215/215 [01:47<00:00,  1.99it/s]\n",
      "                 Class     Images  Instances      Box(P          R      mAP50  mAP50-95): 100%|██████████| 31/31 [00:06<00:00,  4.77it/s]"
     ]
    },
    {
     "name": "stdout",
     "output_type": "stream",
     "text": [
      "                   all        243       4513      0.979      0.942      0.973      0.752\n"
     ]
    },
    {
     "name": "stderr",
     "output_type": "stream",
     "text": [
      "\n"
     ]
    },
    {
     "name": "stdout",
     "output_type": "stream",
     "text": [
      "Closing dataloader mosaic\n",
      "\n",
      "      Epoch    GPU_mem   box_loss   cls_loss   dfl_loss  Instances       Size\n"
     ]
    },
    {
     "name": "stderr",
     "output_type": "stream",
     "text": [
      "     91/100      2.55G     0.7601     0.3468     0.8195         39        736: 100%|██████████| 215/215 [01:46<00:00,  2.02it/s]\n",
      "                 Class     Images  Instances      Box(P          R      mAP50  mAP50-95): 100%|██████████| 31/31 [00:06<00:00,  4.77it/s]"
     ]
    },
    {
     "name": "stdout",
     "output_type": "stream",
     "text": [
      "                   all        243       4513      0.978      0.941      0.972      0.743\n"
     ]
    },
    {
     "name": "stderr",
     "output_type": "stream",
     "text": [
      "\n"
     ]
    },
    {
     "name": "stdout",
     "output_type": "stream",
     "text": [
      "\n",
      "      Epoch    GPU_mem   box_loss   cls_loss   dfl_loss  Instances       Size\n"
     ]
    },
    {
     "name": "stderr",
     "output_type": "stream",
     "text": [
      "     92/100      2.64G     0.7526     0.3445     0.8152         46        736: 100%|██████████| 215/215 [01:45<00:00,  2.03it/s]\n",
      "                 Class     Images  Instances      Box(P          R      mAP50  mAP50-95): 100%|██████████| 31/31 [00:06<00:00,  4.82it/s]"
     ]
    },
    {
     "name": "stdout",
     "output_type": "stream",
     "text": [
      "                   all        243       4513      0.981      0.939      0.971      0.754\n"
     ]
    },
    {
     "name": "stderr",
     "output_type": "stream",
     "text": [
      "\n"
     ]
    },
    {
     "name": "stdout",
     "output_type": "stream",
     "text": [
      "\n",
      "      Epoch    GPU_mem   box_loss   cls_loss   dfl_loss  Instances       Size\n"
     ]
    },
    {
     "name": "stderr",
     "output_type": "stream",
     "text": [
      "     93/100      2.63G     0.7393     0.3412     0.8156         54        736: 100%|██████████| 215/215 [01:46<00:00,  2.03it/s]\n",
      "                 Class     Images  Instances      Box(P          R      mAP50  mAP50-95): 100%|██████████| 31/31 [00:06<00:00,  4.79it/s]"
     ]
    },
    {
     "name": "stdout",
     "output_type": "stream",
     "text": [
      "                   all        243       4513      0.975      0.944      0.973      0.753\n"
     ]
    },
    {
     "name": "stderr",
     "output_type": "stream",
     "text": [
      "\n"
     ]
    },
    {
     "name": "stdout",
     "output_type": "stream",
     "text": [
      "\n",
      "      Epoch    GPU_mem   box_loss   cls_loss   dfl_loss  Instances       Size\n"
     ]
    },
    {
     "name": "stderr",
     "output_type": "stream",
     "text": [
      "     94/100      2.63G     0.7272     0.3353     0.8122         66        736: 100%|██████████| 215/215 [01:46<00:00,  2.02it/s]\n",
      "                 Class     Images  Instances      Box(P          R      mAP50  mAP50-95): 100%|██████████| 31/31 [00:06<00:00,  4.81it/s]"
     ]
    },
    {
     "name": "stdout",
     "output_type": "stream",
     "text": [
      "                   all        243       4513      0.977      0.942      0.972      0.754\n"
     ]
    },
    {
     "name": "stderr",
     "output_type": "stream",
     "text": [
      "\n"
     ]
    },
    {
     "name": "stdout",
     "output_type": "stream",
     "text": [
      "\n",
      "      Epoch    GPU_mem   box_loss   cls_loss   dfl_loss  Instances       Size\n"
     ]
    },
    {
     "name": "stderr",
     "output_type": "stream",
     "text": [
      "     95/100      2.64G     0.7303     0.3368     0.8128         35        736: 100%|██████████| 215/215 [01:45<00:00,  2.03it/s]\n",
      "                 Class     Images  Instances      Box(P          R      mAP50  mAP50-95): 100%|██████████| 31/31 [00:06<00:00,  4.78it/s]"
     ]
    },
    {
     "name": "stdout",
     "output_type": "stream",
     "text": [
      "                   all        243       4513       0.98      0.943      0.972      0.755\n"
     ]
    },
    {
     "name": "stderr",
     "output_type": "stream",
     "text": [
      "\n"
     ]
    },
    {
     "name": "stdout",
     "output_type": "stream",
     "text": [
      "\n",
      "      Epoch    GPU_mem   box_loss   cls_loss   dfl_loss  Instances       Size\n"
     ]
    },
    {
     "name": "stderr",
     "output_type": "stream",
     "text": [
      "     96/100      2.64G     0.7219     0.3321     0.8113         65        736: 100%|██████████| 215/215 [01:45<00:00,  2.03it/s]\n",
      "                 Class     Images  Instances      Box(P          R      mAP50  mAP50-95): 100%|██████████| 31/31 [00:06<00:00,  4.79it/s]"
     ]
    },
    {
     "name": "stdout",
     "output_type": "stream",
     "text": [
      "                   all        243       4513      0.979       0.94      0.972      0.755\n"
     ]
    },
    {
     "name": "stderr",
     "output_type": "stream",
     "text": [
      "\n"
     ]
    },
    {
     "name": "stdout",
     "output_type": "stream",
     "text": [
      "\n",
      "      Epoch    GPU_mem   box_loss   cls_loss   dfl_loss  Instances       Size\n"
     ]
    },
    {
     "name": "stderr",
     "output_type": "stream",
     "text": [
      "     97/100      2.63G     0.7127     0.3278     0.8116         52        736: 100%|██████████| 215/215 [01:45<00:00,  2.03it/s]\n",
      "                 Class     Images  Instances      Box(P          R      mAP50  mAP50-95): 100%|██████████| 31/31 [00:06<00:00,  4.78it/s]"
     ]
    },
    {
     "name": "stdout",
     "output_type": "stream",
     "text": [
      "                   all        243       4513      0.977       0.94      0.972       0.75\n"
     ]
    },
    {
     "name": "stderr",
     "output_type": "stream",
     "text": [
      "\n"
     ]
    },
    {
     "name": "stdout",
     "output_type": "stream",
     "text": [
      "\n",
      "      Epoch    GPU_mem   box_loss   cls_loss   dfl_loss  Instances       Size\n"
     ]
    },
    {
     "name": "stderr",
     "output_type": "stream",
     "text": [
      "     98/100      2.65G     0.7147     0.3282     0.8136         38        736: 100%|██████████| 215/215 [01:45<00:00,  2.03it/s]\n",
      "                 Class     Images  Instances      Box(P          R      mAP50  mAP50-95): 100%|██████████| 31/31 [00:06<00:00,  4.78it/s]"
     ]
    },
    {
     "name": "stdout",
     "output_type": "stream",
     "text": [
      "                   all        243       4513      0.975      0.941      0.973      0.753\n"
     ]
    },
    {
     "name": "stderr",
     "output_type": "stream",
     "text": [
      "\n"
     ]
    },
    {
     "name": "stdout",
     "output_type": "stream",
     "text": [
      "\n",
      "      Epoch    GPU_mem   box_loss   cls_loss   dfl_loss  Instances       Size\n"
     ]
    },
    {
     "name": "stderr",
     "output_type": "stream",
     "text": [
      "     99/100      2.64G     0.7224     0.3298     0.8117         57        736: 100%|██████████| 215/215 [01:45<00:00,  2.03it/s]\n",
      "                 Class     Images  Instances      Box(P          R      mAP50  mAP50-95): 100%|██████████| 31/31 [00:06<00:00,  4.78it/s]"
     ]
    },
    {
     "name": "stdout",
     "output_type": "stream",
     "text": [
      "                   all        243       4513      0.979       0.94      0.974      0.756\n"
     ]
    },
    {
     "name": "stderr",
     "output_type": "stream",
     "text": [
      "\n"
     ]
    },
    {
     "name": "stdout",
     "output_type": "stream",
     "text": [
      "\n",
      "      Epoch    GPU_mem   box_loss   cls_loss   dfl_loss  Instances       Size\n"
     ]
    },
    {
     "name": "stderr",
     "output_type": "stream",
     "text": [
      "    100/100      2.64G     0.7107     0.3271     0.8096         72        736: 100%|██████████| 215/215 [01:46<00:00,  2.02it/s]\n",
      "                 Class     Images  Instances      Box(P          R      mAP50  mAP50-95): 100%|██████████| 31/31 [00:06<00:00,  4.78it/s]"
     ]
    },
    {
     "name": "stdout",
     "output_type": "stream",
     "text": [
      "                   all        243       4513      0.979       0.94      0.973      0.756\n"
     ]
    },
    {
     "name": "stderr",
     "output_type": "stream",
     "text": [
      "\n"
     ]
    },
    {
     "name": "stdout",
     "output_type": "stream",
     "text": [
      "\n",
      "100 epochs completed in 3.155 hours.\n",
      "Optimizer stripped from /home/omar/TUM/05_projects/2D-Object-Detection/runs/detect/football_yolov83/weights/last.pt, 52.0MB\n",
      "Optimizer stripped from /home/omar/TUM/05_projects/2D-Object-Detection/runs/detect/football_yolov83/weights/best.pt, 52.0MB\n",
      "\n",
      "Validating /home/omar/TUM/05_projects/2D-Object-Detection/runs/detect/football_yolov83/weights/best.pt...\n",
      "Ultralytics YOLOv8.2.99 🚀 Python-3.10.12 torch-2.4.1+cu121 CUDA:0 (NVIDIA GeForce RTX 2050, 3905MiB)\n",
      "Model summary (fused): 218 layers, 25,840,918 parameters, 0 gradients, 78.7 GFLOPs\n"
     ]
    },
    {
     "name": "stderr",
     "output_type": "stream",
     "text": [
      "                 Class     Images  Instances      Box(P          R      mAP50  mAP50-95): 100%|██████████| 31/31 [00:07<00:00,  4.13it/s]\n"
     ]
    },
    {
     "name": "stdout",
     "output_type": "stream",
     "text": [
      "                   all        243       4513       0.98       0.94      0.974      0.756\n",
      "       football_player        243       4513       0.98       0.94      0.974      0.756\n",
      "Speed: 0.4ms preprocess, 22.8ms inference, 0.0ms loss, 1.4ms postprocess per image\n",
      "Results saved to \u001b[1m/home/omar/TUM/05_projects/2D-Object-Detection/runs/detect/football_yolov83\u001b[0m\n"
     ]
    },
    {
     "data": {
      "text/plain": [
       "ultralytics.utils.metrics.DetMetrics object with attributes:\n",
       "\n",
       "ap_class_index: array([0])\n",
       "box: ultralytics.utils.metrics.Metric object\n",
       "confusion_matrix: <ultralytics.utils.metrics.ConfusionMatrix object at 0x7a14436e4d90>\n",
       "curves: ['Precision-Recall(B)', 'F1-Confidence(B)', 'Precision-Confidence(B)', 'Recall-Confidence(B)']\n",
       "curves_results: [[array([          0,    0.001001,    0.002002,    0.003003,    0.004004,    0.005005,    0.006006,    0.007007,    0.008008,    0.009009,     0.01001,    0.011011,    0.012012,    0.013013,    0.014014,    0.015015,    0.016016,    0.017017,    0.018018,    0.019019,     0.02002,    0.021021,    0.022022,    0.023023,\n",
       "          0.024024,    0.025025,    0.026026,    0.027027,    0.028028,    0.029029,     0.03003,    0.031031,    0.032032,    0.033033,    0.034034,    0.035035,    0.036036,    0.037037,    0.038038,    0.039039,     0.04004,    0.041041,    0.042042,    0.043043,    0.044044,    0.045045,    0.046046,    0.047047,\n",
       "          0.048048,    0.049049,     0.05005,    0.051051,    0.052052,    0.053053,    0.054054,    0.055055,    0.056056,    0.057057,    0.058058,    0.059059,     0.06006,    0.061061,    0.062062,    0.063063,    0.064064,    0.065065,    0.066066,    0.067067,    0.068068,    0.069069,     0.07007,    0.071071,\n",
       "          0.072072,    0.073073,    0.074074,    0.075075,    0.076076,    0.077077,    0.078078,    0.079079,     0.08008,    0.081081,    0.082082,    0.083083,    0.084084,    0.085085,    0.086086,    0.087087,    0.088088,    0.089089,     0.09009,    0.091091,    0.092092,    0.093093,    0.094094,    0.095095,\n",
       "          0.096096,    0.097097,    0.098098,    0.099099,      0.1001,      0.1011,      0.1021,      0.1031,      0.1041,     0.10511,     0.10611,     0.10711,     0.10811,     0.10911,     0.11011,     0.11111,     0.11211,     0.11311,     0.11411,     0.11512,     0.11612,     0.11712,     0.11812,     0.11912,\n",
       "           0.12012,     0.12112,     0.12212,     0.12312,     0.12412,     0.12513,     0.12613,     0.12713,     0.12813,     0.12913,     0.13013,     0.13113,     0.13213,     0.13313,     0.13413,     0.13514,     0.13614,     0.13714,     0.13814,     0.13914,     0.14014,     0.14114,     0.14214,     0.14314,\n",
       "           0.14414,     0.14515,     0.14615,     0.14715,     0.14815,     0.14915,     0.15015,     0.15115,     0.15215,     0.15315,     0.15415,     0.15516,     0.15616,     0.15716,     0.15816,     0.15916,     0.16016,     0.16116,     0.16216,     0.16316,     0.16416,     0.16517,     0.16617,     0.16717,\n",
       "           0.16817,     0.16917,     0.17017,     0.17117,     0.17217,     0.17317,     0.17417,     0.17518,     0.17618,     0.17718,     0.17818,     0.17918,     0.18018,     0.18118,     0.18218,     0.18318,     0.18418,     0.18519,     0.18619,     0.18719,     0.18819,     0.18919,     0.19019,     0.19119,\n",
       "           0.19219,     0.19319,     0.19419,      0.1952,      0.1962,      0.1972,      0.1982,      0.1992,      0.2002,      0.2012,      0.2022,      0.2032,      0.2042,     0.20521,     0.20621,     0.20721,     0.20821,     0.20921,     0.21021,     0.21121,     0.21221,     0.21321,     0.21421,     0.21522,\n",
       "           0.21622,     0.21722,     0.21822,     0.21922,     0.22022,     0.22122,     0.22222,     0.22322,     0.22422,     0.22523,     0.22623,     0.22723,     0.22823,     0.22923,     0.23023,     0.23123,     0.23223,     0.23323,     0.23423,     0.23524,     0.23624,     0.23724,     0.23824,     0.23924,\n",
       "           0.24024,     0.24124,     0.24224,     0.24324,     0.24424,     0.24525,     0.24625,     0.24725,     0.24825,     0.24925,     0.25025,     0.25125,     0.25225,     0.25325,     0.25425,     0.25526,     0.25626,     0.25726,     0.25826,     0.25926,     0.26026,     0.26126,     0.26226,     0.26326,\n",
       "           0.26426,     0.26527,     0.26627,     0.26727,     0.26827,     0.26927,     0.27027,     0.27127,     0.27227,     0.27327,     0.27427,     0.27528,     0.27628,     0.27728,     0.27828,     0.27928,     0.28028,     0.28128,     0.28228,     0.28328,     0.28428,     0.28529,     0.28629,     0.28729,\n",
       "           0.28829,     0.28929,     0.29029,     0.29129,     0.29229,     0.29329,     0.29429,      0.2953,      0.2963,      0.2973,      0.2983,      0.2993,      0.3003,      0.3013,      0.3023,      0.3033,      0.3043,     0.30531,     0.30631,     0.30731,     0.30831,     0.30931,     0.31031,     0.31131,\n",
       "           0.31231,     0.31331,     0.31431,     0.31532,     0.31632,     0.31732,     0.31832,     0.31932,     0.32032,     0.32132,     0.32232,     0.32332,     0.32432,     0.32533,     0.32633,     0.32733,     0.32833,     0.32933,     0.33033,     0.33133,     0.33233,     0.33333,     0.33433,     0.33534,\n",
       "           0.33634,     0.33734,     0.33834,     0.33934,     0.34034,     0.34134,     0.34234,     0.34334,     0.34434,     0.34535,     0.34635,     0.34735,     0.34835,     0.34935,     0.35035,     0.35135,     0.35235,     0.35335,     0.35435,     0.35536,     0.35636,     0.35736,     0.35836,     0.35936,\n",
       "           0.36036,     0.36136,     0.36236,     0.36336,     0.36436,     0.36537,     0.36637,     0.36737,     0.36837,     0.36937,     0.37037,     0.37137,     0.37237,     0.37337,     0.37437,     0.37538,     0.37638,     0.37738,     0.37838,     0.37938,     0.38038,     0.38138,     0.38238,     0.38338,\n",
       "           0.38438,     0.38539,     0.38639,     0.38739,     0.38839,     0.38939,     0.39039,     0.39139,     0.39239,     0.39339,     0.39439,      0.3954,      0.3964,      0.3974,      0.3984,      0.3994,      0.4004,      0.4014,      0.4024,      0.4034,      0.4044,     0.40541,     0.40641,     0.40741,\n",
       "           0.40841,     0.40941,     0.41041,     0.41141,     0.41241,     0.41341,     0.41441,     0.41542,     0.41642,     0.41742,     0.41842,     0.41942,     0.42042,     0.42142,     0.42242,     0.42342,     0.42442,     0.42543,     0.42643,     0.42743,     0.42843,     0.42943,     0.43043,     0.43143,\n",
       "           0.43243,     0.43343,     0.43443,     0.43544,     0.43644,     0.43744,     0.43844,     0.43944,     0.44044,     0.44144,     0.44244,     0.44344,     0.44444,     0.44545,     0.44645,     0.44745,     0.44845,     0.44945,     0.45045,     0.45145,     0.45245,     0.45345,     0.45445,     0.45546,\n",
       "           0.45646,     0.45746,     0.45846,     0.45946,     0.46046,     0.46146,     0.46246,     0.46346,     0.46446,     0.46547,     0.46647,     0.46747,     0.46847,     0.46947,     0.47047,     0.47147,     0.47247,     0.47347,     0.47447,     0.47548,     0.47648,     0.47748,     0.47848,     0.47948,\n",
       "           0.48048,     0.48148,     0.48248,     0.48348,     0.48448,     0.48549,     0.48649,     0.48749,     0.48849,     0.48949,     0.49049,     0.49149,     0.49249,     0.49349,     0.49449,      0.4955,      0.4965,      0.4975,      0.4985,      0.4995,      0.5005,      0.5015,      0.5025,      0.5035,\n",
       "            0.5045,     0.50551,     0.50651,     0.50751,     0.50851,     0.50951,     0.51051,     0.51151,     0.51251,     0.51351,     0.51451,     0.51552,     0.51652,     0.51752,     0.51852,     0.51952,     0.52052,     0.52152,     0.52252,     0.52352,     0.52452,     0.52553,     0.52653,     0.52753,\n",
       "           0.52853,     0.52953,     0.53053,     0.53153,     0.53253,     0.53353,     0.53453,     0.53554,     0.53654,     0.53754,     0.53854,     0.53954,     0.54054,     0.54154,     0.54254,     0.54354,     0.54454,     0.54555,     0.54655,     0.54755,     0.54855,     0.54955,     0.55055,     0.55155,\n",
       "           0.55255,     0.55355,     0.55455,     0.55556,     0.55656,     0.55756,     0.55856,     0.55956,     0.56056,     0.56156,     0.56256,     0.56356,     0.56456,     0.56557,     0.56657,     0.56757,     0.56857,     0.56957,     0.57057,     0.57157,     0.57257,     0.57357,     0.57457,     0.57558,\n",
       "           0.57658,     0.57758,     0.57858,     0.57958,     0.58058,     0.58158,     0.58258,     0.58358,     0.58458,     0.58559,     0.58659,     0.58759,     0.58859,     0.58959,     0.59059,     0.59159,     0.59259,     0.59359,     0.59459,      0.5956,      0.5966,      0.5976,      0.5986,      0.5996,\n",
       "            0.6006,      0.6016,      0.6026,      0.6036,      0.6046,     0.60561,     0.60661,     0.60761,     0.60861,     0.60961,     0.61061,     0.61161,     0.61261,     0.61361,     0.61461,     0.61562,     0.61662,     0.61762,     0.61862,     0.61962,     0.62062,     0.62162,     0.62262,     0.62362,\n",
       "           0.62462,     0.62563,     0.62663,     0.62763,     0.62863,     0.62963,     0.63063,     0.63163,     0.63263,     0.63363,     0.63463,     0.63564,     0.63664,     0.63764,     0.63864,     0.63964,     0.64064,     0.64164,     0.64264,     0.64364,     0.64464,     0.64565,     0.64665,     0.64765,\n",
       "           0.64865,     0.64965,     0.65065,     0.65165,     0.65265,     0.65365,     0.65465,     0.65566,     0.65666,     0.65766,     0.65866,     0.65966,     0.66066,     0.66166,     0.66266,     0.66366,     0.66466,     0.66567,     0.66667,     0.66767,     0.66867,     0.66967,     0.67067,     0.67167,\n",
       "           0.67267,     0.67367,     0.67467,     0.67568,     0.67668,     0.67768,     0.67868,     0.67968,     0.68068,     0.68168,     0.68268,     0.68368,     0.68468,     0.68569,     0.68669,     0.68769,     0.68869,     0.68969,     0.69069,     0.69169,     0.69269,     0.69369,     0.69469,      0.6957,\n",
       "            0.6967,      0.6977,      0.6987,      0.6997,      0.7007,      0.7017,      0.7027,      0.7037,      0.7047,     0.70571,     0.70671,     0.70771,     0.70871,     0.70971,     0.71071,     0.71171,     0.71271,     0.71371,     0.71471,     0.71572,     0.71672,     0.71772,     0.71872,     0.71972,\n",
       "           0.72072,     0.72172,     0.72272,     0.72372,     0.72472,     0.72573,     0.72673,     0.72773,     0.72873,     0.72973,     0.73073,     0.73173,     0.73273,     0.73373,     0.73473,     0.73574,     0.73674,     0.73774,     0.73874,     0.73974,     0.74074,     0.74174,     0.74274,     0.74374,\n",
       "           0.74474,     0.74575,     0.74675,     0.74775,     0.74875,     0.74975,     0.75075,     0.75175,     0.75275,     0.75375,     0.75475,     0.75576,     0.75676,     0.75776,     0.75876,     0.75976,     0.76076,     0.76176,     0.76276,     0.76376,     0.76476,     0.76577,     0.76677,     0.76777,\n",
       "           0.76877,     0.76977,     0.77077,     0.77177,     0.77277,     0.77377,     0.77477,     0.77578,     0.77678,     0.77778,     0.77878,     0.77978,     0.78078,     0.78178,     0.78278,     0.78378,     0.78478,     0.78579,     0.78679,     0.78779,     0.78879,     0.78979,     0.79079,     0.79179,\n",
       "           0.79279,     0.79379,     0.79479,      0.7958,      0.7968,      0.7978,      0.7988,      0.7998,      0.8008,      0.8018,      0.8028,      0.8038,      0.8048,     0.80581,     0.80681,     0.80781,     0.80881,     0.80981,     0.81081,     0.81181,     0.81281,     0.81381,     0.81481,     0.81582,\n",
       "           0.81682,     0.81782,     0.81882,     0.81982,     0.82082,     0.82182,     0.82282,     0.82382,     0.82482,     0.82583,     0.82683,     0.82783,     0.82883,     0.82983,     0.83083,     0.83183,     0.83283,     0.83383,     0.83483,     0.83584,     0.83684,     0.83784,     0.83884,     0.83984,\n",
       "           0.84084,     0.84184,     0.84284,     0.84384,     0.84484,     0.84585,     0.84685,     0.84785,     0.84885,     0.84985,     0.85085,     0.85185,     0.85285,     0.85385,     0.85485,     0.85586,     0.85686,     0.85786,     0.85886,     0.85986,     0.86086,     0.86186,     0.86286,     0.86386,\n",
       "           0.86486,     0.86587,     0.86687,     0.86787,     0.86887,     0.86987,     0.87087,     0.87187,     0.87287,     0.87387,     0.87487,     0.87588,     0.87688,     0.87788,     0.87888,     0.87988,     0.88088,     0.88188,     0.88288,     0.88388,     0.88488,     0.88589,     0.88689,     0.88789,\n",
       "           0.88889,     0.88989,     0.89089,     0.89189,     0.89289,     0.89389,     0.89489,      0.8959,      0.8969,      0.8979,      0.8989,      0.8999,      0.9009,      0.9019,      0.9029,      0.9039,      0.9049,     0.90591,     0.90691,     0.90791,     0.90891,     0.90991,     0.91091,     0.91191,\n",
       "           0.91291,     0.91391,     0.91491,     0.91592,     0.91692,     0.91792,     0.91892,     0.91992,     0.92092,     0.92192,     0.92292,     0.92392,     0.92492,     0.92593,     0.92693,     0.92793,     0.92893,     0.92993,     0.93093,     0.93193,     0.93293,     0.93393,     0.93493,     0.93594,\n",
       "           0.93694,     0.93794,     0.93894,     0.93994,     0.94094,     0.94194,     0.94294,     0.94394,     0.94494,     0.94595,     0.94695,     0.94795,     0.94895,     0.94995,     0.95095,     0.95195,     0.95295,     0.95395,     0.95495,     0.95596,     0.95696,     0.95796,     0.95896,     0.95996,\n",
       "           0.96096,     0.96196,     0.96296,     0.96396,     0.96496,     0.96597,     0.96697,     0.96797,     0.96897,     0.96997,     0.97097,     0.97197,     0.97297,     0.97397,     0.97497,     0.97598,     0.97698,     0.97798,     0.97898,     0.97998,     0.98098,     0.98198,     0.98298,     0.98398,\n",
       "           0.98498,     0.98599,     0.98699,     0.98799,     0.98899,     0.98999,     0.99099,     0.99199,     0.99299,     0.99399,     0.99499,       0.996,       0.997,       0.998,       0.999,           1]), array([[          1,           1,           1,           1,           1,           1,           1,           1,           1,           1,           1,           1,           1,           1,           1,           1,           1,           1,           1,           1,           1,           1,           1,\n",
       "                  1,           1,           1,     0.99673,     0.99673,     0.99673,     0.99673,     0.99673,     0.99673,     0.99673,     0.99673,     0.99673,     0.99673,     0.99673,     0.99673,     0.99673,     0.99673,     0.99673,     0.99673,     0.99673,     0.99673,     0.99673,     0.99673,\n",
       "            0.99673,     0.99673,     0.99673,     0.99673,     0.99673,     0.99673,     0.99673,     0.99673,     0.99673,     0.99673,     0.99673,     0.99673,     0.99673,     0.99673,     0.99673,     0.99673,     0.99673,     0.99673,     0.99673,     0.99673,     0.99673,     0.99673,     0.99673,\n",
       "            0.99673,     0.99673,     0.99673,     0.99673,     0.99673,     0.99673,     0.99673,     0.99673,     0.99673,     0.99673,     0.99673,     0.99673,     0.99673,     0.99673,     0.99673,     0.99673,     0.99673,     0.99673,     0.99673,     0.99673,     0.99673,     0.99673,     0.99673,\n",
       "            0.99673,     0.99673,     0.99673,     0.99673,     0.99673,     0.99673,     0.99673,     0.99673,     0.99673,     0.99673,     0.99673,     0.99673,     0.99673,     0.99673,     0.99673,     0.99673,     0.99673,     0.99673,     0.99673,     0.99673,     0.99673,     0.99673,     0.99673,\n",
       "            0.99673,     0.99673,     0.99673,     0.99673,     0.99673,     0.99673,     0.99673,     0.99673,     0.99673,     0.99673,     0.99673,     0.99673,     0.99673,     0.99673,     0.99673,     0.99673,     0.99673,     0.99673,     0.99673,     0.99673,     0.99673,     0.99673,     0.99673,\n",
       "            0.99673,     0.99673,     0.99673,     0.99673,     0.99673,     0.99673,     0.99673,     0.99673,     0.99673,     0.99673,     0.99673,     0.99673,     0.99673,     0.99673,     0.99673,     0.99673,     0.99673,     0.99673,     0.99673,     0.99673,     0.99673,     0.99673,     0.99673,\n",
       "            0.99673,     0.99673,     0.99673,     0.99673,     0.99673,     0.99673,     0.99673,     0.99673,     0.99673,     0.99673,     0.99673,     0.99673,     0.99673,     0.99673,     0.99673,     0.99673,     0.99673,     0.99673,     0.99673,     0.99673,     0.99673,     0.99673,     0.99673,\n",
       "            0.99673,     0.99673,     0.99673,     0.99673,     0.99673,     0.99673,     0.99673,     0.99673,     0.99673,     0.99673,     0.99673,     0.99673,     0.99673,     0.99673,     0.99673,     0.99673,     0.99673,     0.99673,     0.99673,     0.99673,     0.99673,     0.99673,     0.99673,\n",
       "            0.99673,     0.99673,     0.99673,     0.99673,     0.99673,     0.99673,     0.99673,     0.99673,     0.99673,     0.99673,     0.99673,     0.99673,     0.99673,     0.99673,     0.99673,     0.99673,     0.99673,     0.99673,     0.99673,     0.99673,     0.99673,     0.99673,     0.99673,\n",
       "            0.99673,     0.99673,     0.99673,     0.99673,     0.99673,     0.99673,     0.99673,     0.99673,     0.99673,     0.99673,     0.99673,     0.99673,     0.99673,     0.99673,     0.99673,     0.99673,     0.99673,     0.99673,     0.99673,     0.99673,     0.99673,     0.99673,     0.99673,\n",
       "            0.99673,     0.99673,     0.99673,     0.99673,     0.99673,     0.99673,     0.99673,     0.99673,     0.99673,     0.99673,     0.99673,     0.99673,     0.99673,     0.99673,     0.99673,     0.99673,     0.99673,     0.99673,     0.99673,     0.99673,     0.99673,     0.99673,     0.99673,\n",
       "            0.99673,     0.99673,     0.99673,     0.99673,     0.99673,     0.99673,     0.99673,     0.99673,     0.99673,     0.99673,     0.99673,     0.99673,     0.99673,     0.99673,     0.99673,     0.99673,     0.99673,     0.99673,     0.99673,     0.99673,     0.99673,     0.99673,     0.99673,\n",
       "            0.99673,     0.99673,     0.99673,     0.99673,     0.99673,     0.99673,     0.99673,     0.99673,     0.99673,     0.99673,     0.99673,     0.99673,     0.99673,     0.99673,     0.99673,     0.99673,     0.99673,     0.99673,     0.99673,     0.99673,     0.99673,     0.99673,     0.99673,\n",
       "            0.99673,     0.99673,     0.99673,     0.99673,     0.99673,     0.99673,     0.99673,     0.99673,     0.99673,     0.99673,     0.99673,     0.99673,     0.99673,     0.99673,     0.99673,     0.99673,     0.99673,     0.99673,     0.99673,     0.99673,     0.99673,     0.99673,     0.99673,\n",
       "            0.99673,     0.99673,     0.99673,     0.99673,     0.99673,     0.99673,     0.99673,     0.99673,     0.99673,     0.99673,     0.99673,     0.99673,     0.99673,     0.99673,     0.99673,     0.99673,     0.99673,     0.99673,     0.99673,     0.99673,     0.99673,     0.99673,     0.99673,\n",
       "            0.99673,     0.99673,     0.99673,     0.99673,     0.99673,     0.99673,     0.99673,     0.99673,     0.99673,     0.99673,     0.99673,     0.99673,     0.99673,     0.99673,     0.99673,     0.99673,     0.99673,     0.99673,     0.99673,     0.99673,     0.99673,     0.99673,     0.99673,\n",
       "            0.99673,     0.99673,     0.99673,     0.99673,     0.99673,     0.99673,     0.99673,     0.99673,     0.99673,     0.99673,     0.99673,     0.99673,     0.99673,     0.99673,     0.99673,     0.99673,     0.99673,     0.99673,     0.99673,     0.99673,     0.99673,     0.99673,     0.99673,\n",
       "            0.99673,     0.99673,     0.99673,     0.99673,     0.99673,     0.99673,     0.99673,     0.99673,     0.99673,     0.99673,     0.99673,     0.99673,     0.99673,     0.99673,     0.99673,     0.99673,     0.99673,     0.99673,     0.99673,     0.99673,     0.99673,     0.99673,     0.99673,\n",
       "            0.99673,     0.99673,     0.99673,     0.99673,     0.99673,     0.99673,     0.99673,     0.99673,     0.99673,     0.99673,     0.99673,     0.99673,     0.99673,     0.99673,     0.99673,     0.99673,     0.99673,     0.99673,     0.99673,     0.99673,     0.99673,     0.99673,     0.99673,\n",
       "            0.99673,     0.99673,     0.99673,     0.99673,     0.99673,     0.99673,     0.99673,     0.99673,     0.99673,     0.99673,     0.99673,     0.99673,     0.99673,     0.99673,     0.99673,     0.99673,     0.99673,     0.99673,     0.99673,     0.99673,     0.99673,     0.99673,     0.99673,\n",
       "            0.99673,     0.99673,     0.99673,     0.99673,     0.99673,     0.99673,     0.99673,     0.99673,     0.99673,     0.99673,     0.99673,     0.99673,     0.99673,     0.99673,     0.99673,     0.99673,     0.99673,     0.99673,     0.99673,     0.99673,     0.99673,     0.99673,     0.99673,\n",
       "            0.99673,     0.99673,     0.99673,     0.99673,     0.99673,     0.99673,     0.99673,     0.99673,     0.99673,     0.99673,     0.99673,     0.99673,     0.99673,     0.99673,     0.99673,     0.99673,     0.99673,     0.99673,     0.99673,     0.99673,     0.99673,     0.99673,     0.99673,\n",
       "            0.99673,     0.99673,     0.99673,     0.99673,     0.99673,     0.99673,     0.99673,     0.99673,     0.99673,     0.99673,     0.99673,     0.99652,     0.99652,     0.99652,     0.99652,     0.99652,     0.99652,     0.99652,     0.99652,     0.99652,     0.99652,     0.99652,     0.99652,\n",
       "            0.99652,     0.99652,     0.99652,     0.99652,     0.99652,     0.99652,     0.99652,     0.99652,     0.99652,     0.99652,     0.99652,     0.99652,     0.99652,     0.99652,     0.99652,     0.99652,     0.99652,     0.99652,     0.99652,     0.99644,     0.99644,     0.99644,     0.99644,\n",
       "            0.99644,     0.99644,     0.99644,     0.99644,     0.99644,     0.99644,     0.99644,     0.99644,     0.99644,     0.99644,     0.99644,     0.99644,     0.99644,     0.99644,     0.99644,     0.99644,     0.99644,     0.99644,     0.99644,     0.99644,     0.99644,     0.99644,     0.99644,\n",
       "            0.99644,     0.99644,     0.99644,     0.99644,     0.99644,     0.99644,     0.99644,     0.99644,     0.99644,     0.99644,     0.99644,     0.99644,     0.99644,     0.99644,     0.99644,     0.99644,     0.99644,     0.99644,     0.99644,     0.99644,     0.99644,     0.99644,      0.9964,\n",
       "             0.9964,      0.9964,      0.9964,      0.9964,      0.9964,      0.9964,      0.9964,      0.9964,      0.9964,      0.9964,      0.9964,      0.9964,      0.9964,      0.9964,      0.9964,      0.9964,      0.9964,      0.9964,      0.9964,      0.9964,      0.9964,      0.9964,      0.9964,\n",
       "             0.9964,      0.9964,      0.9964,      0.9964,      0.9964,      0.9964,      0.9964,      0.9964,      0.9964,      0.9964,      0.9964,      0.9964,      0.9964,      0.9964,      0.9964,      0.9964,      0.9964,      0.9964,      0.9964,      0.9964,      0.9964,      0.9964,      0.9964,\n",
       "             0.9964,      0.9964,      0.9964,      0.9964,      0.9964,      0.9964,      0.9964,      0.9964,      0.9964,      0.9964,      0.9964,      0.9964,      0.9964,      0.9964,      0.9964,      0.9964,      0.9964,      0.9964,      0.9964,      0.9964,      0.9964,      0.9964,      0.9964,\n",
       "             0.9964,      0.9964,      0.9964,      0.9964,      0.9964,      0.9964,      0.9964,      0.9964,      0.9964,      0.9964,      0.9964,      0.9964,      0.9964,      0.9964,      0.9964,      0.9964,      0.9964,      0.9964,      0.9964,      0.9964,      0.9964,      0.9964,      0.9964,\n",
       "             0.9964,      0.9964,      0.9964,      0.9964,      0.9964,      0.9964,      0.9964,      0.9964,      0.9964,      0.9964,      0.9964,      0.9964,      0.9964,      0.9964,      0.9964,      0.9964,      0.9964,      0.9964,      0.9964,      0.9964,      0.9964,      0.9964,      0.9964,\n",
       "            0.99621,     0.99621,     0.99621,     0.99621,     0.99621,     0.99621,     0.99621,     0.99621,     0.99621,     0.99621,     0.99621,     0.99621,     0.99621,     0.99621,     0.99621,     0.99621,     0.99621,     0.99621,     0.99621,     0.99621,     0.99602,     0.99602,     0.99602,\n",
       "            0.99602,     0.99602,     0.99602,     0.99602,     0.99602,     0.99602,     0.99602,     0.99602,     0.99602,     0.99602,     0.99602,     0.99602,     0.99602,     0.99602,     0.99602,     0.99602,     0.99602,     0.99577,     0.99577,     0.99577,     0.99577,     0.99577,     0.99577,\n",
       "            0.99553,     0.99553,     0.99553,     0.99553,     0.99553,     0.99553,     0.99553,     0.99526,     0.99526,     0.99526,     0.99526,     0.99526,     0.99526,     0.99526,     0.99526,     0.99526,     0.99526,     0.99526,     0.99526,     0.99526,     0.99526,     0.99526,     0.99526,\n",
       "            0.99526,     0.99526,     0.99526,     0.99526,     0.99526,     0.99526,     0.99526,     0.99526,     0.99526,     0.99526,     0.99526,     0.99526,     0.99526,     0.99526,     0.99526,     0.99526,     0.99526,     0.99526,     0.99526,     0.99526,     0.99526,     0.99526,     0.99526,\n",
       "            0.99526,     0.99526,     0.99526,     0.99526,     0.99526,     0.99526,     0.99526,     0.99526,     0.99526,     0.99501,     0.99501,     0.99501,     0.99484,     0.99484,     0.99484,     0.99484,     0.99484,     0.99484,     0.99484,     0.99484,     0.99484,     0.99484,     0.99484,\n",
       "            0.99484,     0.99484,     0.99484,     0.99484,     0.99461,     0.99461,     0.99461,     0.99461,     0.99436,     0.99412,     0.99389,     0.99389,     0.99389,     0.99389,     0.99375,     0.99375,     0.99375,     0.99375,     0.99375,     0.99375,     0.99375,     0.99375,     0.99375,\n",
       "            0.99375,     0.99375,     0.99375,     0.99375,     0.99375,     0.99375,     0.99351,     0.99351,     0.99304,     0.99304,     0.99304,     0.99281,     0.99281,     0.99232,     0.99187,     0.99187,     0.99187,     0.99164,     0.99164,     0.99142,     0.99142,     0.99118,     0.99097,\n",
       "            0.99097,     0.99097,     0.99097,     0.99076,     0.99076,     0.99076,     0.99031,     0.99031,     0.99031,      0.9899,      0.9899,      0.9899,      0.9899,      0.9899,      0.9899,     0.98968,     0.98948,     0.98948,     0.98948,     0.98879,     0.98879,     0.98856,      0.9881,\n",
       "            0.98768,     0.98768,     0.98768,     0.98746,     0.98681,     0.98681,     0.98681,     0.98681,     0.98566,     0.98498,     0.98454,     0.98386,     0.98365,     0.98344,     0.98255,     0.98233,     0.98166,     0.98054,      0.9799,      0.9799,     0.97767,     0.97524,     0.97459,\n",
       "            0.97439,     0.97397,      0.9709,     0.96939,     0.96591,     0.96442,     0.96317,     0.96193,     0.96065,     0.95941,     0.95583,     0.95375,     0.94524,     0.94322,     0.93878,     0.93578,      0.9227,     0.92061,     0.90458,     0.89094,     0.85515,     0.84383,     0.83541,\n",
       "             0.8116,     0.77602,     0.74194,     0.68333,     0.66055,     0.63778,       0.615,     0.59222,     0.56944,     0.54666,     0.52389,     0.50111,     0.47833,     0.45555,     0.43278,        0.41,     0.38722,     0.36444,     0.34167,     0.31889,     0.29611,     0.27333,     0.25055,\n",
       "            0.22778,       0.205,     0.18222,     0.15944,     0.13667,     0.11389,    0.091111,    0.068333,    0.045555,    0.022778,           0]]), 'Recall', 'Precision'], [array([          0,    0.001001,    0.002002,    0.003003,    0.004004,    0.005005,    0.006006,    0.007007,    0.008008,    0.009009,     0.01001,    0.011011,    0.012012,    0.013013,    0.014014,    0.015015,    0.016016,    0.017017,    0.018018,    0.019019,     0.02002,    0.021021,    0.022022,    0.023023,\n",
       "          0.024024,    0.025025,    0.026026,    0.027027,    0.028028,    0.029029,     0.03003,    0.031031,    0.032032,    0.033033,    0.034034,    0.035035,    0.036036,    0.037037,    0.038038,    0.039039,     0.04004,    0.041041,    0.042042,    0.043043,    0.044044,    0.045045,    0.046046,    0.047047,\n",
       "          0.048048,    0.049049,     0.05005,    0.051051,    0.052052,    0.053053,    0.054054,    0.055055,    0.056056,    0.057057,    0.058058,    0.059059,     0.06006,    0.061061,    0.062062,    0.063063,    0.064064,    0.065065,    0.066066,    0.067067,    0.068068,    0.069069,     0.07007,    0.071071,\n",
       "          0.072072,    0.073073,    0.074074,    0.075075,    0.076076,    0.077077,    0.078078,    0.079079,     0.08008,    0.081081,    0.082082,    0.083083,    0.084084,    0.085085,    0.086086,    0.087087,    0.088088,    0.089089,     0.09009,    0.091091,    0.092092,    0.093093,    0.094094,    0.095095,\n",
       "          0.096096,    0.097097,    0.098098,    0.099099,      0.1001,      0.1011,      0.1021,      0.1031,      0.1041,     0.10511,     0.10611,     0.10711,     0.10811,     0.10911,     0.11011,     0.11111,     0.11211,     0.11311,     0.11411,     0.11512,     0.11612,     0.11712,     0.11812,     0.11912,\n",
       "           0.12012,     0.12112,     0.12212,     0.12312,     0.12412,     0.12513,     0.12613,     0.12713,     0.12813,     0.12913,     0.13013,     0.13113,     0.13213,     0.13313,     0.13413,     0.13514,     0.13614,     0.13714,     0.13814,     0.13914,     0.14014,     0.14114,     0.14214,     0.14314,\n",
       "           0.14414,     0.14515,     0.14615,     0.14715,     0.14815,     0.14915,     0.15015,     0.15115,     0.15215,     0.15315,     0.15415,     0.15516,     0.15616,     0.15716,     0.15816,     0.15916,     0.16016,     0.16116,     0.16216,     0.16316,     0.16416,     0.16517,     0.16617,     0.16717,\n",
       "           0.16817,     0.16917,     0.17017,     0.17117,     0.17217,     0.17317,     0.17417,     0.17518,     0.17618,     0.17718,     0.17818,     0.17918,     0.18018,     0.18118,     0.18218,     0.18318,     0.18418,     0.18519,     0.18619,     0.18719,     0.18819,     0.18919,     0.19019,     0.19119,\n",
       "           0.19219,     0.19319,     0.19419,      0.1952,      0.1962,      0.1972,      0.1982,      0.1992,      0.2002,      0.2012,      0.2022,      0.2032,      0.2042,     0.20521,     0.20621,     0.20721,     0.20821,     0.20921,     0.21021,     0.21121,     0.21221,     0.21321,     0.21421,     0.21522,\n",
       "           0.21622,     0.21722,     0.21822,     0.21922,     0.22022,     0.22122,     0.22222,     0.22322,     0.22422,     0.22523,     0.22623,     0.22723,     0.22823,     0.22923,     0.23023,     0.23123,     0.23223,     0.23323,     0.23423,     0.23524,     0.23624,     0.23724,     0.23824,     0.23924,\n",
       "           0.24024,     0.24124,     0.24224,     0.24324,     0.24424,     0.24525,     0.24625,     0.24725,     0.24825,     0.24925,     0.25025,     0.25125,     0.25225,     0.25325,     0.25425,     0.25526,     0.25626,     0.25726,     0.25826,     0.25926,     0.26026,     0.26126,     0.26226,     0.26326,\n",
       "           0.26426,     0.26527,     0.26627,     0.26727,     0.26827,     0.26927,     0.27027,     0.27127,     0.27227,     0.27327,     0.27427,     0.27528,     0.27628,     0.27728,     0.27828,     0.27928,     0.28028,     0.28128,     0.28228,     0.28328,     0.28428,     0.28529,     0.28629,     0.28729,\n",
       "           0.28829,     0.28929,     0.29029,     0.29129,     0.29229,     0.29329,     0.29429,      0.2953,      0.2963,      0.2973,      0.2983,      0.2993,      0.3003,      0.3013,      0.3023,      0.3033,      0.3043,     0.30531,     0.30631,     0.30731,     0.30831,     0.30931,     0.31031,     0.31131,\n",
       "           0.31231,     0.31331,     0.31431,     0.31532,     0.31632,     0.31732,     0.31832,     0.31932,     0.32032,     0.32132,     0.32232,     0.32332,     0.32432,     0.32533,     0.32633,     0.32733,     0.32833,     0.32933,     0.33033,     0.33133,     0.33233,     0.33333,     0.33433,     0.33534,\n",
       "           0.33634,     0.33734,     0.33834,     0.33934,     0.34034,     0.34134,     0.34234,     0.34334,     0.34434,     0.34535,     0.34635,     0.34735,     0.34835,     0.34935,     0.35035,     0.35135,     0.35235,     0.35335,     0.35435,     0.35536,     0.35636,     0.35736,     0.35836,     0.35936,\n",
       "           0.36036,     0.36136,     0.36236,     0.36336,     0.36436,     0.36537,     0.36637,     0.36737,     0.36837,     0.36937,     0.37037,     0.37137,     0.37237,     0.37337,     0.37437,     0.37538,     0.37638,     0.37738,     0.37838,     0.37938,     0.38038,     0.38138,     0.38238,     0.38338,\n",
       "           0.38438,     0.38539,     0.38639,     0.38739,     0.38839,     0.38939,     0.39039,     0.39139,     0.39239,     0.39339,     0.39439,      0.3954,      0.3964,      0.3974,      0.3984,      0.3994,      0.4004,      0.4014,      0.4024,      0.4034,      0.4044,     0.40541,     0.40641,     0.40741,\n",
       "           0.40841,     0.40941,     0.41041,     0.41141,     0.41241,     0.41341,     0.41441,     0.41542,     0.41642,     0.41742,     0.41842,     0.41942,     0.42042,     0.42142,     0.42242,     0.42342,     0.42442,     0.42543,     0.42643,     0.42743,     0.42843,     0.42943,     0.43043,     0.43143,\n",
       "           0.43243,     0.43343,     0.43443,     0.43544,     0.43644,     0.43744,     0.43844,     0.43944,     0.44044,     0.44144,     0.44244,     0.44344,     0.44444,     0.44545,     0.44645,     0.44745,     0.44845,     0.44945,     0.45045,     0.45145,     0.45245,     0.45345,     0.45445,     0.45546,\n",
       "           0.45646,     0.45746,     0.45846,     0.45946,     0.46046,     0.46146,     0.46246,     0.46346,     0.46446,     0.46547,     0.46647,     0.46747,     0.46847,     0.46947,     0.47047,     0.47147,     0.47247,     0.47347,     0.47447,     0.47548,     0.47648,     0.47748,     0.47848,     0.47948,\n",
       "           0.48048,     0.48148,     0.48248,     0.48348,     0.48448,     0.48549,     0.48649,     0.48749,     0.48849,     0.48949,     0.49049,     0.49149,     0.49249,     0.49349,     0.49449,      0.4955,      0.4965,      0.4975,      0.4985,      0.4995,      0.5005,      0.5015,      0.5025,      0.5035,\n",
       "            0.5045,     0.50551,     0.50651,     0.50751,     0.50851,     0.50951,     0.51051,     0.51151,     0.51251,     0.51351,     0.51451,     0.51552,     0.51652,     0.51752,     0.51852,     0.51952,     0.52052,     0.52152,     0.52252,     0.52352,     0.52452,     0.52553,     0.52653,     0.52753,\n",
       "           0.52853,     0.52953,     0.53053,     0.53153,     0.53253,     0.53353,     0.53453,     0.53554,     0.53654,     0.53754,     0.53854,     0.53954,     0.54054,     0.54154,     0.54254,     0.54354,     0.54454,     0.54555,     0.54655,     0.54755,     0.54855,     0.54955,     0.55055,     0.55155,\n",
       "           0.55255,     0.55355,     0.55455,     0.55556,     0.55656,     0.55756,     0.55856,     0.55956,     0.56056,     0.56156,     0.56256,     0.56356,     0.56456,     0.56557,     0.56657,     0.56757,     0.56857,     0.56957,     0.57057,     0.57157,     0.57257,     0.57357,     0.57457,     0.57558,\n",
       "           0.57658,     0.57758,     0.57858,     0.57958,     0.58058,     0.58158,     0.58258,     0.58358,     0.58458,     0.58559,     0.58659,     0.58759,     0.58859,     0.58959,     0.59059,     0.59159,     0.59259,     0.59359,     0.59459,      0.5956,      0.5966,      0.5976,      0.5986,      0.5996,\n",
       "            0.6006,      0.6016,      0.6026,      0.6036,      0.6046,     0.60561,     0.60661,     0.60761,     0.60861,     0.60961,     0.61061,     0.61161,     0.61261,     0.61361,     0.61461,     0.61562,     0.61662,     0.61762,     0.61862,     0.61962,     0.62062,     0.62162,     0.62262,     0.62362,\n",
       "           0.62462,     0.62563,     0.62663,     0.62763,     0.62863,     0.62963,     0.63063,     0.63163,     0.63263,     0.63363,     0.63463,     0.63564,     0.63664,     0.63764,     0.63864,     0.63964,     0.64064,     0.64164,     0.64264,     0.64364,     0.64464,     0.64565,     0.64665,     0.64765,\n",
       "           0.64865,     0.64965,     0.65065,     0.65165,     0.65265,     0.65365,     0.65465,     0.65566,     0.65666,     0.65766,     0.65866,     0.65966,     0.66066,     0.66166,     0.66266,     0.66366,     0.66466,     0.66567,     0.66667,     0.66767,     0.66867,     0.66967,     0.67067,     0.67167,\n",
       "           0.67267,     0.67367,     0.67467,     0.67568,     0.67668,     0.67768,     0.67868,     0.67968,     0.68068,     0.68168,     0.68268,     0.68368,     0.68468,     0.68569,     0.68669,     0.68769,     0.68869,     0.68969,     0.69069,     0.69169,     0.69269,     0.69369,     0.69469,      0.6957,\n",
       "            0.6967,      0.6977,      0.6987,      0.6997,      0.7007,      0.7017,      0.7027,      0.7037,      0.7047,     0.70571,     0.70671,     0.70771,     0.70871,     0.70971,     0.71071,     0.71171,     0.71271,     0.71371,     0.71471,     0.71572,     0.71672,     0.71772,     0.71872,     0.71972,\n",
       "           0.72072,     0.72172,     0.72272,     0.72372,     0.72472,     0.72573,     0.72673,     0.72773,     0.72873,     0.72973,     0.73073,     0.73173,     0.73273,     0.73373,     0.73473,     0.73574,     0.73674,     0.73774,     0.73874,     0.73974,     0.74074,     0.74174,     0.74274,     0.74374,\n",
       "           0.74474,     0.74575,     0.74675,     0.74775,     0.74875,     0.74975,     0.75075,     0.75175,     0.75275,     0.75375,     0.75475,     0.75576,     0.75676,     0.75776,     0.75876,     0.75976,     0.76076,     0.76176,     0.76276,     0.76376,     0.76476,     0.76577,     0.76677,     0.76777,\n",
       "           0.76877,     0.76977,     0.77077,     0.77177,     0.77277,     0.77377,     0.77477,     0.77578,     0.77678,     0.77778,     0.77878,     0.77978,     0.78078,     0.78178,     0.78278,     0.78378,     0.78478,     0.78579,     0.78679,     0.78779,     0.78879,     0.78979,     0.79079,     0.79179,\n",
       "           0.79279,     0.79379,     0.79479,      0.7958,      0.7968,      0.7978,      0.7988,      0.7998,      0.8008,      0.8018,      0.8028,      0.8038,      0.8048,     0.80581,     0.80681,     0.80781,     0.80881,     0.80981,     0.81081,     0.81181,     0.81281,     0.81381,     0.81481,     0.81582,\n",
       "           0.81682,     0.81782,     0.81882,     0.81982,     0.82082,     0.82182,     0.82282,     0.82382,     0.82482,     0.82583,     0.82683,     0.82783,     0.82883,     0.82983,     0.83083,     0.83183,     0.83283,     0.83383,     0.83483,     0.83584,     0.83684,     0.83784,     0.83884,     0.83984,\n",
       "           0.84084,     0.84184,     0.84284,     0.84384,     0.84484,     0.84585,     0.84685,     0.84785,     0.84885,     0.84985,     0.85085,     0.85185,     0.85285,     0.85385,     0.85485,     0.85586,     0.85686,     0.85786,     0.85886,     0.85986,     0.86086,     0.86186,     0.86286,     0.86386,\n",
       "           0.86486,     0.86587,     0.86687,     0.86787,     0.86887,     0.86987,     0.87087,     0.87187,     0.87287,     0.87387,     0.87487,     0.87588,     0.87688,     0.87788,     0.87888,     0.87988,     0.88088,     0.88188,     0.88288,     0.88388,     0.88488,     0.88589,     0.88689,     0.88789,\n",
       "           0.88889,     0.88989,     0.89089,     0.89189,     0.89289,     0.89389,     0.89489,      0.8959,      0.8969,      0.8979,      0.8989,      0.8999,      0.9009,      0.9019,      0.9029,      0.9039,      0.9049,     0.90591,     0.90691,     0.90791,     0.90891,     0.90991,     0.91091,     0.91191,\n",
       "           0.91291,     0.91391,     0.91491,     0.91592,     0.91692,     0.91792,     0.91892,     0.91992,     0.92092,     0.92192,     0.92292,     0.92392,     0.92492,     0.92593,     0.92693,     0.92793,     0.92893,     0.92993,     0.93093,     0.93193,     0.93293,     0.93393,     0.93493,     0.93594,\n",
       "           0.93694,     0.93794,     0.93894,     0.93994,     0.94094,     0.94194,     0.94294,     0.94394,     0.94494,     0.94595,     0.94695,     0.94795,     0.94895,     0.94995,     0.95095,     0.95195,     0.95295,     0.95395,     0.95495,     0.95596,     0.95696,     0.95796,     0.95896,     0.95996,\n",
       "           0.96096,     0.96196,     0.96296,     0.96396,     0.96496,     0.96597,     0.96697,     0.96797,     0.96897,     0.96997,     0.97097,     0.97197,     0.97297,     0.97397,     0.97497,     0.97598,     0.97698,     0.97798,     0.97898,     0.97998,     0.98098,     0.98198,     0.98298,     0.98398,\n",
       "           0.98498,     0.98599,     0.98699,     0.98799,     0.98899,     0.98999,     0.99099,     0.99199,     0.99299,     0.99399,     0.99499,       0.996,       0.997,       0.998,       0.999,           1]), array([[    0.81346,     0.81346,     0.85218,     0.87316,     0.88597,     0.89542,     0.90033,     0.90562,     0.90946,     0.91321,     0.91547,     0.91829,     0.92051,     0.92231,     0.92485,     0.92614,     0.92746,     0.92914,      0.9306,     0.93221,     0.93335,     0.93506,     0.93546,\n",
       "            0.93598,     0.93662,     0.93745,     0.93804,     0.93856,     0.93914,     0.93991,     0.94034,     0.94074,     0.94094,     0.94168,     0.94233,     0.94275,     0.94307,     0.94333,      0.9436,      0.9443,     0.94465,     0.94513,     0.94564,     0.94597,      0.9462,     0.94648,\n",
       "            0.94708,     0.94705,     0.94705,     0.94737,     0.94769,      0.9481,     0.94812,     0.94806,     0.94814,     0.94823,     0.94838,     0.94858,     0.94904,     0.94935,     0.94916,     0.94947,     0.94973,     0.94999,     0.95009,      0.9505,     0.95045,     0.95062,     0.95069,\n",
       "            0.95086,       0.951,     0.95112,     0.95124,     0.95131,     0.95146,      0.9517,     0.95177,     0.95182,     0.95211,     0.95228,     0.95238,     0.95233,      0.9524,     0.95286,     0.95301,     0.95311,     0.95332,     0.95348,     0.95354,     0.95349,     0.95355,      0.9536,\n",
       "            0.95365,     0.95386,     0.95399,     0.95413,     0.95426,     0.95438,     0.95421,     0.95446,     0.95458,     0.95465,     0.95476,      0.9549,     0.95488,     0.95494,     0.95504,     0.95538,     0.95537,     0.95547,     0.95581,     0.95588,     0.95588,     0.95583,     0.95597,\n",
       "             0.9562,     0.95612,     0.95614,     0.95618,      0.9563,       0.956,     0.95612,     0.95617,     0.95638,     0.95629,     0.95624,     0.95621,     0.95617,      0.9563,     0.95638,     0.95642,     0.95646,      0.9565,     0.95654,     0.95655,     0.95649,     0.95657,     0.95678,\n",
       "            0.95669,     0.95647,     0.95638,     0.95635,     0.95633,     0.95642,     0.95646,     0.95649,     0.95652,     0.95651,     0.95657,     0.95664,     0.95658,     0.95647,     0.95643,     0.95639,     0.95633,     0.95627,     0.95647,     0.95653,     0.95658,     0.95663,     0.95668,\n",
       "            0.95675,     0.95676,     0.95667,     0.95661,     0.95658,     0.95655,     0.95659,     0.95663,     0.95671,     0.95678,     0.95682,     0.95686,     0.95679,     0.95672,     0.95665,     0.95685,     0.95691,     0.95684,     0.95689,     0.95696,     0.95708,     0.95714,      0.9572,\n",
       "            0.95726,     0.95745,     0.95754,     0.95769,     0.95778,     0.95772,     0.95771,     0.95775,     0.95784,     0.95796,     0.95808,     0.95819,     0.95821,     0.95823,     0.95807,     0.95798,     0.95792,     0.95788,     0.95781,     0.95774,     0.95786,      0.9579,     0.95794,\n",
       "            0.95786,     0.95788,     0.95796,     0.95801,     0.95811,     0.95821,     0.95832,     0.95838,     0.95854,      0.9588,     0.95882,     0.95884,     0.95886,     0.95888,     0.95889,     0.95881,      0.9588,     0.95882,     0.95888,     0.95893,     0.95898,      0.9592,     0.95923,\n",
       "            0.95927,      0.9593,     0.95924,     0.95931,     0.95934,     0.95938,     0.95939,     0.95936,     0.95933,     0.95929,     0.95927,     0.95918,      0.9591,     0.95906,     0.95908,     0.95911,     0.95914,     0.95913,     0.95908,     0.95904,     0.95901,     0.95898,     0.95895,\n",
       "            0.95892,      0.9589,     0.95888,     0.95886,     0.95884,     0.95882,     0.95877,     0.95861,     0.95859,     0.95863,     0.95866,     0.95864,     0.95859,     0.95854,     0.95848,     0.95844,     0.95841,     0.95838,     0.95835,     0.95834,     0.95838,     0.95843,     0.95854,\n",
       "            0.95857,      0.9586,     0.95863,     0.95849,     0.95833,     0.95824,     0.95818,     0.95826,     0.95857,     0.95863,     0.95866,     0.95868,     0.95871,     0.95873,     0.95874,     0.95875,     0.95876,     0.95878,     0.95879,      0.9588,     0.95881,     0.95883,     0.95887,\n",
       "            0.95891,     0.95888,     0.95882,     0.95884,     0.95885,     0.95886,     0.95888,     0.95889,      0.9589,     0.95892,     0.95896,     0.95914,     0.95913,     0.95911,      0.9591,     0.95909,     0.95908,     0.95907,     0.95906,     0.95904,     0.95903,     0.95901,     0.95894,\n",
       "              0.959,     0.95896,     0.95893,      0.9589,     0.95895,     0.95899,     0.95903,     0.95907,     0.95911,     0.95916,      0.9592,     0.95925,     0.95929,     0.95933,     0.95939,     0.95931,     0.95924,     0.95926,     0.95934,     0.95941,     0.95933,     0.95919,     0.95923,\n",
       "            0.95927,     0.95931,     0.95935,     0.95939,     0.95945,     0.95951,     0.95947,     0.95942,     0.95926,      0.9592,     0.95915,     0.95914,     0.95913,     0.95912,     0.95911,     0.95909,     0.95908,     0.95907,     0.95906,     0.95905,       0.959,     0.95894,     0.95867,\n",
       "            0.95864,     0.95862,     0.95859,     0.95857,     0.95859,     0.95861,     0.95863,     0.95864,     0.95866,     0.95868,     0.95856,     0.95858,      0.9586,     0.95862,     0.95864,     0.95866,     0.95871,     0.95875,     0.95868,     0.95873,     0.95891,     0.95897,     0.95909,\n",
       "            0.95903,     0.95897,     0.95874,     0.95877,      0.9588,     0.95883,     0.95882,     0.95876,     0.95846,     0.95839,     0.95839,      0.9584,     0.95843,     0.95847,     0.95857,     0.95846,     0.95845,     0.95844,     0.95843,     0.95842,     0.95841,      0.9584,     0.95839,\n",
       "            0.95839,     0.95838,     0.95837,     0.95836,     0.95835,     0.95837,      0.9584,     0.95842,     0.95845,      0.9584,     0.95833,     0.95829,     0.95825,      0.9582,     0.95821,      0.9582,     0.95819,     0.95818,     0.95818,     0.95817,     0.95816,     0.95815,     0.95814,\n",
       "            0.95813,     0.95813,     0.95812,     0.95811,      0.9581,     0.95809,      0.9581,     0.95812,     0.95813,     0.95815,     0.95816,     0.95817,     0.95819,      0.9582,     0.95819,     0.95808,     0.95812,     0.95816,     0.95816,      0.9581,     0.95805,     0.95801,     0.95797,\n",
       "            0.95788,     0.95781,     0.95776,     0.95772,     0.95767,     0.95761,     0.95766,     0.95762,      0.9575,     0.95743,     0.95739,     0.95735,     0.95725,     0.95712,      0.9572,      0.9572,     0.95718,     0.95716,     0.95714,     0.95712,      0.9571,     0.95712,     0.95715,\n",
       "            0.95718,      0.9572,     0.95717,     0.95714,     0.95711,     0.95708,     0.95704,       0.957,       0.957,     0.95706,       0.957,     0.95697,     0.95699,     0.95701,     0.95703,     0.95705,     0.95705,     0.95701,     0.95697,     0.95693,     0.95688,     0.95684,     0.95675,\n",
       "            0.95663,     0.95678,     0.95672,      0.9566,     0.95643,      0.9564,     0.95637,     0.95634,     0.95638,     0.95644,      0.9565,     0.95644,     0.95647,      0.9565,     0.95654,     0.95642,     0.95631,     0.95633,     0.95636,     0.95639,     0.95639,     0.95631,     0.95641,\n",
       "            0.95645,     0.95649,     0.95654,     0.95658,     0.95652,     0.95658,     0.95647,     0.95641,     0.95632,      0.9562,     0.95599,     0.95592,     0.95571,      0.9555,     0.95544,     0.95526,      0.9552,     0.95517,     0.95515,     0.95513,     0.95512,      0.9551,     0.95508,\n",
       "            0.95506,     0.95503,     0.95499,     0.95494,     0.95489,     0.95491,     0.95487,     0.95483,     0.95487,     0.95488,     0.95482,     0.95464,     0.95457,     0.95459,     0.95464,     0.95464,     0.95461,     0.95458,     0.95455,     0.95449,     0.95443,     0.95437,     0.95431,\n",
       "            0.95425,     0.95419,     0.95395,     0.95383,     0.95352,     0.95334,     0.95331,     0.95327,     0.95324,     0.95303,       0.953,     0.95304,     0.95308,     0.95306,     0.95302,     0.95298,     0.95288,     0.95278,     0.95283,     0.95267,     0.95261,      0.9525,     0.95242,\n",
       "            0.95236,     0.95227,     0.95214,     0.95202,     0.95193,     0.95187,     0.95153,     0.95152,     0.95157,     0.95175,      0.9518,     0.95177,     0.95174,     0.95171,     0.95167,     0.95161,     0.95128,     0.95116,     0.95069,     0.95061,     0.95055,     0.95048,     0.95042,\n",
       "            0.95012,     0.95009,     0.95006,     0.95004,     0.95001,     0.94997,     0.94993,     0.94989,     0.94992,     0.94998,     0.94989,     0.94961,     0.94957,     0.94953,     0.94955,     0.94946,     0.94938,     0.94919,     0.94913,      0.9487,     0.94852,     0.94839,     0.94791,\n",
       "            0.94783,     0.94751,     0.94745,     0.94741,     0.94737,     0.94733,     0.94705,     0.94699,     0.94669,     0.94667,     0.94665,     0.94662,      0.9466,     0.94658,      0.9465,     0.94636,     0.94642,     0.94624,     0.94606,       0.946,     0.94594,     0.94587,     0.94569,\n",
       "             0.9456,     0.94529,     0.94523,     0.94503,     0.94494,     0.94487,     0.94491,     0.94483,     0.94476,      0.9447,      0.9445,     0.94405,     0.94399,     0.94371,     0.94347,     0.94341,      0.9432,     0.94312,     0.94268,     0.94262,     0.94193,     0.94172,     0.94164,\n",
       "            0.94153,     0.94159,     0.94125,     0.94083,     0.94076,     0.94026,     0.94012,     0.93978,     0.93982,     0.93975,     0.93931,     0.93922,     0.93914,     0.93893,     0.93887,     0.93854,     0.93808,       0.938,     0.93756,     0.93749,     0.93727,     0.93715,     0.93698,\n",
       "             0.9365,     0.93643,     0.93623,     0.93613,     0.93604,     0.93583,      0.9356,     0.93547,     0.93491,     0.93438,     0.93429,      0.9338,     0.93335,     0.93327,     0.93218,     0.93184,     0.93178,     0.93121,     0.93112,     0.93056,     0.93007,     0.92998,     0.92952,\n",
       "            0.92892,     0.92884,      0.9282,     0.92738,      0.9268,     0.92654,     0.92601,     0.92594,     0.92548,       0.925,     0.92491,     0.92457,     0.92406,     0.92389,     0.92316,     0.92275,     0.92259,     0.92211,     0.92204,     0.92192,     0.92087,     0.92048,     0.91952,\n",
       "            0.91943,     0.91852,     0.91755,     0.91697,     0.91688,      0.9164,     0.91538,      0.9152,     0.91345,     0.91237,     0.91096,     0.91092,     0.90982,     0.90828,     0.90797,     0.90617,     0.90512,     0.90503,     0.90425,     0.90278,     0.90158,      0.9005,     0.90017,\n",
       "            0.89896,     0.89778,     0.89581,     0.89572,      0.8947,     0.89414,     0.89266,     0.89248,      0.8902,     0.88826,     0.88643,     0.88634,     0.88497,     0.88318,     0.88174,     0.87931,     0.87911,     0.87664,      0.8753,     0.87363,     0.87162,     0.86965,     0.86956,\n",
       "             0.8683,     0.86638,     0.86479,     0.86293,     0.86274,     0.86045,     0.85876,     0.85727,     0.85543,     0.85267,     0.85246,     0.84967,     0.84667,     0.84435,     0.84026,     0.83596,     0.83345,     0.82982,     0.82541,     0.82519,     0.82152,     0.81782,      0.8132,\n",
       "            0.80792,     0.80303,     0.79842,     0.79378,     0.79367,     0.78916,     0.78395,     0.77995,     0.77267,     0.76703,     0.76057,     0.75374,     0.74631,     0.73879,     0.73277,     0.72573,      0.7185,     0.70995,     0.70297,     0.69614,     0.68705,     0.67899,     0.66907,\n",
       "             0.6568,     0.64776,     0.63839,     0.62701,     0.61883,     0.60862,     0.59608,     0.58332,     0.57348,      0.5484,     0.53665,     0.52229,     0.50864,     0.49748,     0.48725,     0.47704,     0.46509,     0.45239,     0.43929,     0.42796,     0.41694,     0.39401,     0.38164,\n",
       "            0.36966,     0.35888,      0.3435,     0.33464,     0.32606,     0.30771,     0.29846,     0.28602,     0.27654,     0.26525,      0.2588,     0.24837,     0.22931,     0.22121,     0.21123,     0.20446,     0.18223,     0.17587,     0.16802,     0.15324,     0.14436,      0.1401,     0.12872,\n",
       "            0.12465,     0.11837,     0.10632,    0.094919,    0.086642,    0.078316,    0.075384,       0.068,    0.065444,    0.061133,    0.053305,    0.048851,    0.043146,    0.038563,    0.035009,    0.029119,    0.026804,    0.021592,    0.020658,    0.017202,    0.014564,    0.013656,   0.0099226,\n",
       "           0.008671,   0.0083426,   0.0061207,   0.0056567,   0.0055062,   0.0053556,   0.0047442,   0.0045633,    0.004389,   0.0042382,   0.0040875,   0.0039476,   0.0038345,   0.0037214,   0.0036082,   0.0034217,   0.0031199,   0.0025563,   0.0023298,   0.0021583,   0.0020449,   0.0019316,   0.0018182,\n",
       "          0.0015945,  0.00086404,  0.00068248,  0.00050089,           0,           0,           0,           0,           0,           0,           0,           0,           0,           0,           0,           0,           0,           0,           0,           0,           0,           0,           0,\n",
       "                  0,           0,           0,           0,           0,           0,           0,           0,           0,           0,           0,           0,           0,           0,           0,           0,           0,           0,           0,           0,           0,           0,           0,\n",
       "                  0,           0,           0,           0,           0,           0,           0,           0,           0,           0,           0]]), 'Confidence', 'F1'], [array([          0,    0.001001,    0.002002,    0.003003,    0.004004,    0.005005,    0.006006,    0.007007,    0.008008,    0.009009,     0.01001,    0.011011,    0.012012,    0.013013,    0.014014,    0.015015,    0.016016,    0.017017,    0.018018,    0.019019,     0.02002,    0.021021,    0.022022,    0.023023,\n",
       "          0.024024,    0.025025,    0.026026,    0.027027,    0.028028,    0.029029,     0.03003,    0.031031,    0.032032,    0.033033,    0.034034,    0.035035,    0.036036,    0.037037,    0.038038,    0.039039,     0.04004,    0.041041,    0.042042,    0.043043,    0.044044,    0.045045,    0.046046,    0.047047,\n",
       "          0.048048,    0.049049,     0.05005,    0.051051,    0.052052,    0.053053,    0.054054,    0.055055,    0.056056,    0.057057,    0.058058,    0.059059,     0.06006,    0.061061,    0.062062,    0.063063,    0.064064,    0.065065,    0.066066,    0.067067,    0.068068,    0.069069,     0.07007,    0.071071,\n",
       "          0.072072,    0.073073,    0.074074,    0.075075,    0.076076,    0.077077,    0.078078,    0.079079,     0.08008,    0.081081,    0.082082,    0.083083,    0.084084,    0.085085,    0.086086,    0.087087,    0.088088,    0.089089,     0.09009,    0.091091,    0.092092,    0.093093,    0.094094,    0.095095,\n",
       "          0.096096,    0.097097,    0.098098,    0.099099,      0.1001,      0.1011,      0.1021,      0.1031,      0.1041,     0.10511,     0.10611,     0.10711,     0.10811,     0.10911,     0.11011,     0.11111,     0.11211,     0.11311,     0.11411,     0.11512,     0.11612,     0.11712,     0.11812,     0.11912,\n",
       "           0.12012,     0.12112,     0.12212,     0.12312,     0.12412,     0.12513,     0.12613,     0.12713,     0.12813,     0.12913,     0.13013,     0.13113,     0.13213,     0.13313,     0.13413,     0.13514,     0.13614,     0.13714,     0.13814,     0.13914,     0.14014,     0.14114,     0.14214,     0.14314,\n",
       "           0.14414,     0.14515,     0.14615,     0.14715,     0.14815,     0.14915,     0.15015,     0.15115,     0.15215,     0.15315,     0.15415,     0.15516,     0.15616,     0.15716,     0.15816,     0.15916,     0.16016,     0.16116,     0.16216,     0.16316,     0.16416,     0.16517,     0.16617,     0.16717,\n",
       "           0.16817,     0.16917,     0.17017,     0.17117,     0.17217,     0.17317,     0.17417,     0.17518,     0.17618,     0.17718,     0.17818,     0.17918,     0.18018,     0.18118,     0.18218,     0.18318,     0.18418,     0.18519,     0.18619,     0.18719,     0.18819,     0.18919,     0.19019,     0.19119,\n",
       "           0.19219,     0.19319,     0.19419,      0.1952,      0.1962,      0.1972,      0.1982,      0.1992,      0.2002,      0.2012,      0.2022,      0.2032,      0.2042,     0.20521,     0.20621,     0.20721,     0.20821,     0.20921,     0.21021,     0.21121,     0.21221,     0.21321,     0.21421,     0.21522,\n",
       "           0.21622,     0.21722,     0.21822,     0.21922,     0.22022,     0.22122,     0.22222,     0.22322,     0.22422,     0.22523,     0.22623,     0.22723,     0.22823,     0.22923,     0.23023,     0.23123,     0.23223,     0.23323,     0.23423,     0.23524,     0.23624,     0.23724,     0.23824,     0.23924,\n",
       "           0.24024,     0.24124,     0.24224,     0.24324,     0.24424,     0.24525,     0.24625,     0.24725,     0.24825,     0.24925,     0.25025,     0.25125,     0.25225,     0.25325,     0.25425,     0.25526,     0.25626,     0.25726,     0.25826,     0.25926,     0.26026,     0.26126,     0.26226,     0.26326,\n",
       "           0.26426,     0.26527,     0.26627,     0.26727,     0.26827,     0.26927,     0.27027,     0.27127,     0.27227,     0.27327,     0.27427,     0.27528,     0.27628,     0.27728,     0.27828,     0.27928,     0.28028,     0.28128,     0.28228,     0.28328,     0.28428,     0.28529,     0.28629,     0.28729,\n",
       "           0.28829,     0.28929,     0.29029,     0.29129,     0.29229,     0.29329,     0.29429,      0.2953,      0.2963,      0.2973,      0.2983,      0.2993,      0.3003,      0.3013,      0.3023,      0.3033,      0.3043,     0.30531,     0.30631,     0.30731,     0.30831,     0.30931,     0.31031,     0.31131,\n",
       "           0.31231,     0.31331,     0.31431,     0.31532,     0.31632,     0.31732,     0.31832,     0.31932,     0.32032,     0.32132,     0.32232,     0.32332,     0.32432,     0.32533,     0.32633,     0.32733,     0.32833,     0.32933,     0.33033,     0.33133,     0.33233,     0.33333,     0.33433,     0.33534,\n",
       "           0.33634,     0.33734,     0.33834,     0.33934,     0.34034,     0.34134,     0.34234,     0.34334,     0.34434,     0.34535,     0.34635,     0.34735,     0.34835,     0.34935,     0.35035,     0.35135,     0.35235,     0.35335,     0.35435,     0.35536,     0.35636,     0.35736,     0.35836,     0.35936,\n",
       "           0.36036,     0.36136,     0.36236,     0.36336,     0.36436,     0.36537,     0.36637,     0.36737,     0.36837,     0.36937,     0.37037,     0.37137,     0.37237,     0.37337,     0.37437,     0.37538,     0.37638,     0.37738,     0.37838,     0.37938,     0.38038,     0.38138,     0.38238,     0.38338,\n",
       "           0.38438,     0.38539,     0.38639,     0.38739,     0.38839,     0.38939,     0.39039,     0.39139,     0.39239,     0.39339,     0.39439,      0.3954,      0.3964,      0.3974,      0.3984,      0.3994,      0.4004,      0.4014,      0.4024,      0.4034,      0.4044,     0.40541,     0.40641,     0.40741,\n",
       "           0.40841,     0.40941,     0.41041,     0.41141,     0.41241,     0.41341,     0.41441,     0.41542,     0.41642,     0.41742,     0.41842,     0.41942,     0.42042,     0.42142,     0.42242,     0.42342,     0.42442,     0.42543,     0.42643,     0.42743,     0.42843,     0.42943,     0.43043,     0.43143,\n",
       "           0.43243,     0.43343,     0.43443,     0.43544,     0.43644,     0.43744,     0.43844,     0.43944,     0.44044,     0.44144,     0.44244,     0.44344,     0.44444,     0.44545,     0.44645,     0.44745,     0.44845,     0.44945,     0.45045,     0.45145,     0.45245,     0.45345,     0.45445,     0.45546,\n",
       "           0.45646,     0.45746,     0.45846,     0.45946,     0.46046,     0.46146,     0.46246,     0.46346,     0.46446,     0.46547,     0.46647,     0.46747,     0.46847,     0.46947,     0.47047,     0.47147,     0.47247,     0.47347,     0.47447,     0.47548,     0.47648,     0.47748,     0.47848,     0.47948,\n",
       "           0.48048,     0.48148,     0.48248,     0.48348,     0.48448,     0.48549,     0.48649,     0.48749,     0.48849,     0.48949,     0.49049,     0.49149,     0.49249,     0.49349,     0.49449,      0.4955,      0.4965,      0.4975,      0.4985,      0.4995,      0.5005,      0.5015,      0.5025,      0.5035,\n",
       "            0.5045,     0.50551,     0.50651,     0.50751,     0.50851,     0.50951,     0.51051,     0.51151,     0.51251,     0.51351,     0.51451,     0.51552,     0.51652,     0.51752,     0.51852,     0.51952,     0.52052,     0.52152,     0.52252,     0.52352,     0.52452,     0.52553,     0.52653,     0.52753,\n",
       "           0.52853,     0.52953,     0.53053,     0.53153,     0.53253,     0.53353,     0.53453,     0.53554,     0.53654,     0.53754,     0.53854,     0.53954,     0.54054,     0.54154,     0.54254,     0.54354,     0.54454,     0.54555,     0.54655,     0.54755,     0.54855,     0.54955,     0.55055,     0.55155,\n",
       "           0.55255,     0.55355,     0.55455,     0.55556,     0.55656,     0.55756,     0.55856,     0.55956,     0.56056,     0.56156,     0.56256,     0.56356,     0.56456,     0.56557,     0.56657,     0.56757,     0.56857,     0.56957,     0.57057,     0.57157,     0.57257,     0.57357,     0.57457,     0.57558,\n",
       "           0.57658,     0.57758,     0.57858,     0.57958,     0.58058,     0.58158,     0.58258,     0.58358,     0.58458,     0.58559,     0.58659,     0.58759,     0.58859,     0.58959,     0.59059,     0.59159,     0.59259,     0.59359,     0.59459,      0.5956,      0.5966,      0.5976,      0.5986,      0.5996,\n",
       "            0.6006,      0.6016,      0.6026,      0.6036,      0.6046,     0.60561,     0.60661,     0.60761,     0.60861,     0.60961,     0.61061,     0.61161,     0.61261,     0.61361,     0.61461,     0.61562,     0.61662,     0.61762,     0.61862,     0.61962,     0.62062,     0.62162,     0.62262,     0.62362,\n",
       "           0.62462,     0.62563,     0.62663,     0.62763,     0.62863,     0.62963,     0.63063,     0.63163,     0.63263,     0.63363,     0.63463,     0.63564,     0.63664,     0.63764,     0.63864,     0.63964,     0.64064,     0.64164,     0.64264,     0.64364,     0.64464,     0.64565,     0.64665,     0.64765,\n",
       "           0.64865,     0.64965,     0.65065,     0.65165,     0.65265,     0.65365,     0.65465,     0.65566,     0.65666,     0.65766,     0.65866,     0.65966,     0.66066,     0.66166,     0.66266,     0.66366,     0.66466,     0.66567,     0.66667,     0.66767,     0.66867,     0.66967,     0.67067,     0.67167,\n",
       "           0.67267,     0.67367,     0.67467,     0.67568,     0.67668,     0.67768,     0.67868,     0.67968,     0.68068,     0.68168,     0.68268,     0.68368,     0.68468,     0.68569,     0.68669,     0.68769,     0.68869,     0.68969,     0.69069,     0.69169,     0.69269,     0.69369,     0.69469,      0.6957,\n",
       "            0.6967,      0.6977,      0.6987,      0.6997,      0.7007,      0.7017,      0.7027,      0.7037,      0.7047,     0.70571,     0.70671,     0.70771,     0.70871,     0.70971,     0.71071,     0.71171,     0.71271,     0.71371,     0.71471,     0.71572,     0.71672,     0.71772,     0.71872,     0.71972,\n",
       "           0.72072,     0.72172,     0.72272,     0.72372,     0.72472,     0.72573,     0.72673,     0.72773,     0.72873,     0.72973,     0.73073,     0.73173,     0.73273,     0.73373,     0.73473,     0.73574,     0.73674,     0.73774,     0.73874,     0.73974,     0.74074,     0.74174,     0.74274,     0.74374,\n",
       "           0.74474,     0.74575,     0.74675,     0.74775,     0.74875,     0.74975,     0.75075,     0.75175,     0.75275,     0.75375,     0.75475,     0.75576,     0.75676,     0.75776,     0.75876,     0.75976,     0.76076,     0.76176,     0.76276,     0.76376,     0.76476,     0.76577,     0.76677,     0.76777,\n",
       "           0.76877,     0.76977,     0.77077,     0.77177,     0.77277,     0.77377,     0.77477,     0.77578,     0.77678,     0.77778,     0.77878,     0.77978,     0.78078,     0.78178,     0.78278,     0.78378,     0.78478,     0.78579,     0.78679,     0.78779,     0.78879,     0.78979,     0.79079,     0.79179,\n",
       "           0.79279,     0.79379,     0.79479,      0.7958,      0.7968,      0.7978,      0.7988,      0.7998,      0.8008,      0.8018,      0.8028,      0.8038,      0.8048,     0.80581,     0.80681,     0.80781,     0.80881,     0.80981,     0.81081,     0.81181,     0.81281,     0.81381,     0.81481,     0.81582,\n",
       "           0.81682,     0.81782,     0.81882,     0.81982,     0.82082,     0.82182,     0.82282,     0.82382,     0.82482,     0.82583,     0.82683,     0.82783,     0.82883,     0.82983,     0.83083,     0.83183,     0.83283,     0.83383,     0.83483,     0.83584,     0.83684,     0.83784,     0.83884,     0.83984,\n",
       "           0.84084,     0.84184,     0.84284,     0.84384,     0.84484,     0.84585,     0.84685,     0.84785,     0.84885,     0.84985,     0.85085,     0.85185,     0.85285,     0.85385,     0.85485,     0.85586,     0.85686,     0.85786,     0.85886,     0.85986,     0.86086,     0.86186,     0.86286,     0.86386,\n",
       "           0.86486,     0.86587,     0.86687,     0.86787,     0.86887,     0.86987,     0.87087,     0.87187,     0.87287,     0.87387,     0.87487,     0.87588,     0.87688,     0.87788,     0.87888,     0.87988,     0.88088,     0.88188,     0.88288,     0.88388,     0.88488,     0.88589,     0.88689,     0.88789,\n",
       "           0.88889,     0.88989,     0.89089,     0.89189,     0.89289,     0.89389,     0.89489,      0.8959,      0.8969,      0.8979,      0.8989,      0.8999,      0.9009,      0.9019,      0.9029,      0.9039,      0.9049,     0.90591,     0.90691,     0.90791,     0.90891,     0.90991,     0.91091,     0.91191,\n",
       "           0.91291,     0.91391,     0.91491,     0.91592,     0.91692,     0.91792,     0.91892,     0.91992,     0.92092,     0.92192,     0.92292,     0.92392,     0.92492,     0.92593,     0.92693,     0.92793,     0.92893,     0.92993,     0.93093,     0.93193,     0.93293,     0.93393,     0.93493,     0.93594,\n",
       "           0.93694,     0.93794,     0.93894,     0.93994,     0.94094,     0.94194,     0.94294,     0.94394,     0.94494,     0.94595,     0.94695,     0.94795,     0.94895,     0.94995,     0.95095,     0.95195,     0.95295,     0.95395,     0.95495,     0.95596,     0.95696,     0.95796,     0.95896,     0.95996,\n",
       "           0.96096,     0.96196,     0.96296,     0.96396,     0.96496,     0.96597,     0.96697,     0.96797,     0.96897,     0.96997,     0.97097,     0.97197,     0.97297,     0.97397,     0.97497,     0.97598,     0.97698,     0.97798,     0.97898,     0.97998,     0.98098,     0.98198,     0.98298,     0.98398,\n",
       "           0.98498,     0.98599,     0.98699,     0.98799,     0.98899,     0.98999,     0.99099,     0.99199,     0.99299,     0.99399,     0.99499,       0.996,       0.997,       0.998,       0.999,           1]), array([[    0.70085,     0.70085,     0.76091,     0.79533,     0.81778,     0.83439,     0.84397,     0.85365,     0.86103,     0.86777,     0.87204,     0.87718,     0.88161,     0.88492,     0.88961,      0.8922,     0.89502,     0.89816,     0.90089,     0.90411,     0.90645,     0.90969,     0.91084,\n",
       "            0.91184,     0.91304,     0.91482,     0.91594,     0.91714,     0.91824,     0.91973,     0.92079,     0.92212,     0.92269,     0.92414,      0.9254,     0.92662,     0.92724,     0.92773,     0.92847,     0.92983,      0.9305,     0.93156,     0.93263,     0.93328,     0.93373,     0.93428,\n",
       "            0.93544,     0.93576,     0.93602,     0.93664,     0.93726,     0.93807,     0.93817,     0.93817,     0.93879,     0.93897,     0.93927,     0.93965,     0.94056,      0.9412,     0.94118,     0.94183,     0.94256,     0.94328,     0.94361,     0.94473,     0.94482,     0.94523,     0.94554,\n",
       "            0.94586,     0.94615,     0.94638,     0.94661,     0.94677,     0.94705,     0.94753,     0.94767,     0.94792,     0.94855,      0.9489,     0.94916,     0.94916,     0.94935,     0.95028,     0.95058,     0.95077,     0.95118,     0.95151,     0.95162,     0.95166,     0.95209,     0.95219,\n",
       "            0.95229,     0.95271,     0.95296,     0.95323,      0.9535,     0.95375,     0.95374,     0.95435,     0.95459,     0.95473,     0.95494,     0.95546,     0.95586,     0.95597,     0.95618,     0.95688,     0.95705,     0.95726,     0.95793,     0.95807,     0.95815,     0.95814,     0.95849,\n",
       "            0.95899,     0.95898,     0.95905,     0.95914,     0.95937,     0.95945,     0.95968,     0.95979,     0.96024,     0.96023,     0.96023,     0.96023,     0.96022,     0.96065,     0.96088,     0.96096,     0.96104,     0.96112,     0.96122,     0.96129,     0.96134,      0.9615,     0.96193,\n",
       "            0.96192,      0.9619,      0.9619,     0.96196,      0.9621,     0.96233,      0.9624,     0.96246,     0.96253,     0.96274,     0.96286,       0.963,     0.96316,     0.96315,     0.96315,     0.96315,     0.96314,     0.96316,     0.96357,     0.96368,     0.96378,     0.96389,     0.96399,\n",
       "            0.96413,     0.96422,     0.96421,     0.96421,     0.96425,     0.96442,      0.9645,     0.96458,     0.96496,     0.96512,      0.9652,     0.96528,     0.96527,     0.96527,     0.96526,     0.96571,     0.96591,     0.96591,     0.96601,     0.96617,     0.96641,     0.96654,     0.96666,\n",
       "            0.96678,     0.96716,     0.96734,     0.96766,     0.96784,     0.96787,     0.96792,     0.96802,     0.96819,     0.96843,     0.96869,     0.96896,     0.96919,     0.96939,     0.96938,     0.96937,     0.96937,     0.96937,     0.96936,     0.96939,     0.96962,     0.96971,     0.96979,\n",
       "             0.9698,     0.96991,     0.97005,     0.97017,     0.97038,     0.97058,     0.97089,     0.97116,     0.97148,     0.97203,     0.97206,      0.9721,     0.97214,     0.97218,     0.97221,     0.97227,     0.97243,     0.97253,     0.97266,     0.97275,     0.97285,     0.97332,     0.97338,\n",
       "            0.97345,     0.97351,     0.97353,     0.97377,     0.97385,     0.97392,     0.97397,     0.97397,     0.97397,     0.97397,     0.97418,     0.97418,     0.97417,     0.97419,     0.97425,     0.97431,     0.97437,     0.97439,     0.97439,     0.97439,     0.97439,     0.97439,     0.97438,\n",
       "            0.97438,     0.97438,     0.97438,     0.97438,     0.97438,     0.97438,     0.97437,     0.97437,     0.97442,     0.97449,     0.97456,     0.97459,     0.97458,     0.97458,     0.97458,     0.97458,     0.97457,     0.97457,     0.97457,      0.9746,     0.97469,     0.97478,     0.97502,\n",
       "            0.97508,     0.97514,      0.9752,     0.97523,     0.97523,     0.97522,     0.97523,     0.97538,     0.97603,     0.97615,     0.97621,     0.97626,     0.97632,     0.97636,     0.97638,     0.97641,     0.97643,     0.97646,     0.97648,     0.97651,     0.97654,     0.97656,     0.97665,\n",
       "            0.97674,     0.97678,      0.9768,     0.97682,     0.97685,     0.97688,      0.9769,     0.97693,     0.97696,     0.97699,     0.97708,     0.97746,     0.97745,     0.97745,     0.97745,     0.97745,     0.97745,     0.97745,     0.97745,     0.97745,     0.97745,     0.97745,     0.97745,\n",
       "            0.97767,     0.97767,     0.97767,     0.97768,     0.97777,     0.97786,     0.97795,     0.97803,     0.97812,     0.97821,      0.9783,     0.97839,     0.97847,     0.97856,     0.97868,     0.97879,     0.97878,     0.97889,     0.97907,     0.97921,     0.97923,     0.97923,     0.97932,\n",
       "             0.9794,     0.97948,     0.97957,     0.97965,     0.97977,      0.9799,      0.9799,      0.9799,     0.97989,     0.97989,     0.97989,     0.97989,     0.97989,     0.97989,     0.97989,     0.97989,     0.97989,     0.97989,     0.97989,     0.97988,     0.97988,     0.97988,     0.97987,\n",
       "            0.97987,     0.97987,     0.97987,     0.97988,     0.97991,     0.97995,     0.97998,     0.98002,     0.98005,     0.98009,     0.98009,     0.98013,     0.98017,     0.98021,     0.98025,     0.98029,      0.9804,     0.98054,     0.98054,     0.98069,     0.98107,     0.98119,     0.98145,\n",
       "            0.98144,     0.98144,     0.98144,      0.9815,     0.98156,     0.98163,     0.98166,     0.98166,     0.98165,     0.98165,     0.98187,     0.98193,     0.98201,     0.98209,      0.9823,     0.98232,     0.98232,     0.98232,     0.98232,     0.98232,     0.98232,     0.98232,     0.98232,\n",
       "            0.98232,     0.98232,     0.98232,     0.98232,     0.98232,     0.98236,     0.98242,     0.98248,     0.98254,     0.98254,     0.98254,     0.98254,     0.98254,     0.98254,     0.98276,     0.98276,     0.98276,     0.98276,     0.98276,     0.98276,     0.98276,     0.98276,     0.98276,\n",
       "            0.98276,     0.98276,     0.98276,     0.98276,     0.98276,     0.98276,     0.98278,     0.98281,     0.98284,     0.98287,      0.9829,     0.98293,     0.98296,     0.98299,     0.98321,     0.98321,      0.9833,     0.98339,     0.98344,     0.98344,     0.98343,     0.98343,     0.98343,\n",
       "            0.98343,     0.98343,     0.98342,     0.98342,     0.98342,     0.98342,     0.98357,     0.98365,     0.98364,     0.98364,     0.98364,     0.98364,     0.98363,     0.98363,     0.98383,     0.98386,     0.98386,     0.98386,     0.98386,     0.98386,     0.98386,     0.98392,     0.98397,\n",
       "            0.98403,     0.98409,     0.98409,     0.98408,     0.98408,     0.98408,     0.98408,     0.98408,     0.98414,     0.98431,     0.98431,     0.98432,     0.98437,     0.98442,     0.98446,     0.98451,     0.98454,     0.98453,     0.98453,     0.98453,     0.98453,     0.98453,     0.98453,\n",
       "            0.98452,     0.98491,     0.98498,     0.98498,     0.98497,     0.98497,     0.98497,     0.98497,     0.98507,     0.98519,     0.98543,     0.98543,      0.9855,     0.98558,     0.98566,     0.98566,     0.98566,     0.98572,     0.98578,     0.98584,     0.98589,     0.98593,     0.98613,\n",
       "            0.98621,     0.98629,     0.98641,     0.98658,     0.98661,     0.98673,      0.9868,      0.9868,      0.9868,      0.9868,     0.98679,     0.98679,     0.98678,     0.98678,     0.98678,     0.98677,     0.98677,     0.98677,     0.98677,     0.98677,     0.98677,     0.98677,     0.98677,\n",
       "            0.98677,     0.98677,     0.98677,     0.98676,      0.9869,     0.98699,     0.98699,     0.98699,     0.98711,     0.98745,     0.98745,     0.98745,     0.98745,     0.98752,     0.98764,     0.98768,     0.98768,     0.98768,     0.98768,     0.98768,     0.98768,     0.98767,     0.98767,\n",
       "            0.98767,     0.98767,     0.98766,     0.98766,     0.98765,     0.98765,     0.98765,     0.98765,     0.98765,     0.98764,     0.98769,     0.98777,     0.98785,     0.98787,     0.98787,     0.98787,     0.98787,     0.98796,     0.98808,      0.9881,      0.9881,     0.98856,     0.98879,\n",
       "            0.98879,     0.98879,     0.98878,     0.98878,     0.98878,     0.98878,     0.98877,     0.98885,     0.98897,     0.98935,     0.98948,     0.98948,     0.98948,     0.98948,     0.98948,     0.98947,     0.98947,     0.98947,     0.98946,     0.98945,     0.98945,     0.98945,     0.98945,\n",
       "            0.98944,     0.98944,     0.98944,     0.98944,     0.98944,     0.98944,     0.98944,     0.98944,     0.98953,     0.98965,     0.98967,     0.98967,     0.98967,     0.98967,     0.98976,      0.9899,      0.9899,      0.9899,     0.98989,     0.98989,     0.98988,     0.98988,     0.98987,\n",
       "            0.98987,     0.98986,     0.98986,     0.98986,     0.98986,     0.98986,     0.98985,     0.98985,     0.98985,     0.98984,     0.98984,     0.98984,     0.98984,     0.98984,     0.98984,      0.9899,     0.99002,     0.99016,     0.99031,     0.99031,     0.99031,      0.9903,      0.9903,\n",
       "             0.9903,     0.99029,     0.99029,     0.99029,     0.99052,     0.99052,     0.99069,     0.99076,     0.99076,     0.99076,     0.99076,     0.99075,     0.99075,     0.99074,     0.99074,     0.99074,     0.99097,     0.99097,     0.99096,     0.99096,     0.99095,     0.99094,     0.99094,\n",
       "            0.99103,     0.99116,     0.99118,     0.99141,     0.99141,      0.9914,      0.9914,     0.99139,     0.99164,     0.99163,     0.99163,     0.99163,     0.99162,     0.99186,     0.99186,     0.99186,     0.99185,     0.99185,     0.99184,     0.99184,      0.9922,     0.99257,     0.99256,\n",
       "             0.9928,      0.9928,      0.9928,     0.99304,     0.99304,     0.99304,     0.99303,     0.99303,     0.99302,     0.99351,     0.99351,      0.9935,     0.99374,     0.99374,     0.99373,     0.99372,     0.99372,     0.99372,     0.99372,     0.99371,      0.9937,      0.9937,      0.9937,\n",
       "            0.99369,     0.99369,     0.99368,     0.99367,     0.99366,     0.99366,     0.99365,     0.99365,     0.99364,     0.99389,     0.99389,     0.99388,     0.99388,     0.99388,     0.99387,     0.99412,     0.99411,     0.99436,     0.99436,     0.99436,      0.9946,      0.9946,     0.99484,\n",
       "            0.99484,     0.99483,     0.99482,     0.99482,     0.99481,     0.99481,      0.9948,      0.9948,     0.99478,     0.99477,     0.99475,     0.99489,       0.995,     0.99525,     0.99524,     0.99523,     0.99522,     0.99522,     0.99521,     0.99519,     0.99518,     0.99517,     0.99517,\n",
       "            0.99516,     0.99515,     0.99513,     0.99513,     0.99512,     0.99511,      0.9951,     0.99509,     0.99507,     0.99505,     0.99503,     0.99503,     0.99502,       0.995,     0.99522,     0.99552,     0.99552,     0.99549,     0.99576,     0.99575,     0.99601,       0.996,       0.996,\n",
       "            0.99599,     0.99597,     0.99596,     0.99594,     0.99594,     0.99592,      0.9962,     0.99619,     0.99617,     0.99615,     0.99615,     0.99613,      0.9961,     0.99638,     0.99635,     0.99632,      0.9963,     0.99627,     0.99624,     0.99624,     0.99621,     0.99618,     0.99614,\n",
       "             0.9961,     0.99606,     0.99602,     0.99599,     0.99599,     0.99595,      0.9959,     0.99621,     0.99615,     0.99611,     0.99641,     0.99636,      0.9963,     0.99624,     0.99619,     0.99652,     0.99646,      0.9964,     0.99634,      0.9967,     0.99663,     0.99657,     0.99649,\n",
       "            0.99639,     0.99632,     0.99624,     0.99614,     0.99607,     0.99597,     0.99585,     0.99572,     0.99562,     0.99534,      0.9952,     0.99502,     0.99484,     0.99468,     0.99521,     0.99508,     0.99492,     0.99473,     0.99453,     0.99515,     0.99498,     0.99462,      0.9944,\n",
       "            0.99418,     0.99397,     0.99364,     0.99344,     0.99435,     0.99395,     0.99373,     0.99341,     0.99315,     0.99281,     0.99408,     0.99534,      0.9949,     0.99469,     0.99441,      0.9942,     0.99342,     0.99316,     0.99281,     0.99469,     0.99434,     0.99415,      0.9936,\n",
       "            0.99338,     0.99301,     0.99217,     0.99119,     0.99031,     0.98964,     0.99438,     0.99375,     0.99349,     0.99302,     0.99197,     0.99757,           1,           1,           1,           1,           1,           1,           1,           1,           1,           1,           1,\n",
       "                  1,           1,           1,           1,           1,           1,           1,           1,           1,           1,           1,           1,           1,           1,           1,           1,           1,           1,           1,           1,           1,           1,           1,\n",
       "                  1,           1,           1,           1,           1,           1,           1,           1,           1,           1,           1,           1,           1,           1,           1,           1,           1,           1,           1,           1,           1,           1,           1,\n",
       "                  1,           1,           1,           1,           1,           1,           1,           1,           1,           1,           1,           1,           1,           1,           1,           1,           1,           1,           1,           1,           1,           1,           1,\n",
       "                  1,           1,           1,           1,           1,           1,           1,           1,           1,           1,           1]]), 'Confidence', 'Precision'], [array([          0,    0.001001,    0.002002,    0.003003,    0.004004,    0.005005,    0.006006,    0.007007,    0.008008,    0.009009,     0.01001,    0.011011,    0.012012,    0.013013,    0.014014,    0.015015,    0.016016,    0.017017,    0.018018,    0.019019,     0.02002,    0.021021,    0.022022,    0.023023,\n",
       "          0.024024,    0.025025,    0.026026,    0.027027,    0.028028,    0.029029,     0.03003,    0.031031,    0.032032,    0.033033,    0.034034,    0.035035,    0.036036,    0.037037,    0.038038,    0.039039,     0.04004,    0.041041,    0.042042,    0.043043,    0.044044,    0.045045,    0.046046,    0.047047,\n",
       "          0.048048,    0.049049,     0.05005,    0.051051,    0.052052,    0.053053,    0.054054,    0.055055,    0.056056,    0.057057,    0.058058,    0.059059,     0.06006,    0.061061,    0.062062,    0.063063,    0.064064,    0.065065,    0.066066,    0.067067,    0.068068,    0.069069,     0.07007,    0.071071,\n",
       "          0.072072,    0.073073,    0.074074,    0.075075,    0.076076,    0.077077,    0.078078,    0.079079,     0.08008,    0.081081,    0.082082,    0.083083,    0.084084,    0.085085,    0.086086,    0.087087,    0.088088,    0.089089,     0.09009,    0.091091,    0.092092,    0.093093,    0.094094,    0.095095,\n",
       "          0.096096,    0.097097,    0.098098,    0.099099,      0.1001,      0.1011,      0.1021,      0.1031,      0.1041,     0.10511,     0.10611,     0.10711,     0.10811,     0.10911,     0.11011,     0.11111,     0.11211,     0.11311,     0.11411,     0.11512,     0.11612,     0.11712,     0.11812,     0.11912,\n",
       "           0.12012,     0.12112,     0.12212,     0.12312,     0.12412,     0.12513,     0.12613,     0.12713,     0.12813,     0.12913,     0.13013,     0.13113,     0.13213,     0.13313,     0.13413,     0.13514,     0.13614,     0.13714,     0.13814,     0.13914,     0.14014,     0.14114,     0.14214,     0.14314,\n",
       "           0.14414,     0.14515,     0.14615,     0.14715,     0.14815,     0.14915,     0.15015,     0.15115,     0.15215,     0.15315,     0.15415,     0.15516,     0.15616,     0.15716,     0.15816,     0.15916,     0.16016,     0.16116,     0.16216,     0.16316,     0.16416,     0.16517,     0.16617,     0.16717,\n",
       "           0.16817,     0.16917,     0.17017,     0.17117,     0.17217,     0.17317,     0.17417,     0.17518,     0.17618,     0.17718,     0.17818,     0.17918,     0.18018,     0.18118,     0.18218,     0.18318,     0.18418,     0.18519,     0.18619,     0.18719,     0.18819,     0.18919,     0.19019,     0.19119,\n",
       "           0.19219,     0.19319,     0.19419,      0.1952,      0.1962,      0.1972,      0.1982,      0.1992,      0.2002,      0.2012,      0.2022,      0.2032,      0.2042,     0.20521,     0.20621,     0.20721,     0.20821,     0.20921,     0.21021,     0.21121,     0.21221,     0.21321,     0.21421,     0.21522,\n",
       "           0.21622,     0.21722,     0.21822,     0.21922,     0.22022,     0.22122,     0.22222,     0.22322,     0.22422,     0.22523,     0.22623,     0.22723,     0.22823,     0.22923,     0.23023,     0.23123,     0.23223,     0.23323,     0.23423,     0.23524,     0.23624,     0.23724,     0.23824,     0.23924,\n",
       "           0.24024,     0.24124,     0.24224,     0.24324,     0.24424,     0.24525,     0.24625,     0.24725,     0.24825,     0.24925,     0.25025,     0.25125,     0.25225,     0.25325,     0.25425,     0.25526,     0.25626,     0.25726,     0.25826,     0.25926,     0.26026,     0.26126,     0.26226,     0.26326,\n",
       "           0.26426,     0.26527,     0.26627,     0.26727,     0.26827,     0.26927,     0.27027,     0.27127,     0.27227,     0.27327,     0.27427,     0.27528,     0.27628,     0.27728,     0.27828,     0.27928,     0.28028,     0.28128,     0.28228,     0.28328,     0.28428,     0.28529,     0.28629,     0.28729,\n",
       "           0.28829,     0.28929,     0.29029,     0.29129,     0.29229,     0.29329,     0.29429,      0.2953,      0.2963,      0.2973,      0.2983,      0.2993,      0.3003,      0.3013,      0.3023,      0.3033,      0.3043,     0.30531,     0.30631,     0.30731,     0.30831,     0.30931,     0.31031,     0.31131,\n",
       "           0.31231,     0.31331,     0.31431,     0.31532,     0.31632,     0.31732,     0.31832,     0.31932,     0.32032,     0.32132,     0.32232,     0.32332,     0.32432,     0.32533,     0.32633,     0.32733,     0.32833,     0.32933,     0.33033,     0.33133,     0.33233,     0.33333,     0.33433,     0.33534,\n",
       "           0.33634,     0.33734,     0.33834,     0.33934,     0.34034,     0.34134,     0.34234,     0.34334,     0.34434,     0.34535,     0.34635,     0.34735,     0.34835,     0.34935,     0.35035,     0.35135,     0.35235,     0.35335,     0.35435,     0.35536,     0.35636,     0.35736,     0.35836,     0.35936,\n",
       "           0.36036,     0.36136,     0.36236,     0.36336,     0.36436,     0.36537,     0.36637,     0.36737,     0.36837,     0.36937,     0.37037,     0.37137,     0.37237,     0.37337,     0.37437,     0.37538,     0.37638,     0.37738,     0.37838,     0.37938,     0.38038,     0.38138,     0.38238,     0.38338,\n",
       "           0.38438,     0.38539,     0.38639,     0.38739,     0.38839,     0.38939,     0.39039,     0.39139,     0.39239,     0.39339,     0.39439,      0.3954,      0.3964,      0.3974,      0.3984,      0.3994,      0.4004,      0.4014,      0.4024,      0.4034,      0.4044,     0.40541,     0.40641,     0.40741,\n",
       "           0.40841,     0.40941,     0.41041,     0.41141,     0.41241,     0.41341,     0.41441,     0.41542,     0.41642,     0.41742,     0.41842,     0.41942,     0.42042,     0.42142,     0.42242,     0.42342,     0.42442,     0.42543,     0.42643,     0.42743,     0.42843,     0.42943,     0.43043,     0.43143,\n",
       "           0.43243,     0.43343,     0.43443,     0.43544,     0.43644,     0.43744,     0.43844,     0.43944,     0.44044,     0.44144,     0.44244,     0.44344,     0.44444,     0.44545,     0.44645,     0.44745,     0.44845,     0.44945,     0.45045,     0.45145,     0.45245,     0.45345,     0.45445,     0.45546,\n",
       "           0.45646,     0.45746,     0.45846,     0.45946,     0.46046,     0.46146,     0.46246,     0.46346,     0.46446,     0.46547,     0.46647,     0.46747,     0.46847,     0.46947,     0.47047,     0.47147,     0.47247,     0.47347,     0.47447,     0.47548,     0.47648,     0.47748,     0.47848,     0.47948,\n",
       "           0.48048,     0.48148,     0.48248,     0.48348,     0.48448,     0.48549,     0.48649,     0.48749,     0.48849,     0.48949,     0.49049,     0.49149,     0.49249,     0.49349,     0.49449,      0.4955,      0.4965,      0.4975,      0.4985,      0.4995,      0.5005,      0.5015,      0.5025,      0.5035,\n",
       "            0.5045,     0.50551,     0.50651,     0.50751,     0.50851,     0.50951,     0.51051,     0.51151,     0.51251,     0.51351,     0.51451,     0.51552,     0.51652,     0.51752,     0.51852,     0.51952,     0.52052,     0.52152,     0.52252,     0.52352,     0.52452,     0.52553,     0.52653,     0.52753,\n",
       "           0.52853,     0.52953,     0.53053,     0.53153,     0.53253,     0.53353,     0.53453,     0.53554,     0.53654,     0.53754,     0.53854,     0.53954,     0.54054,     0.54154,     0.54254,     0.54354,     0.54454,     0.54555,     0.54655,     0.54755,     0.54855,     0.54955,     0.55055,     0.55155,\n",
       "           0.55255,     0.55355,     0.55455,     0.55556,     0.55656,     0.55756,     0.55856,     0.55956,     0.56056,     0.56156,     0.56256,     0.56356,     0.56456,     0.56557,     0.56657,     0.56757,     0.56857,     0.56957,     0.57057,     0.57157,     0.57257,     0.57357,     0.57457,     0.57558,\n",
       "           0.57658,     0.57758,     0.57858,     0.57958,     0.58058,     0.58158,     0.58258,     0.58358,     0.58458,     0.58559,     0.58659,     0.58759,     0.58859,     0.58959,     0.59059,     0.59159,     0.59259,     0.59359,     0.59459,      0.5956,      0.5966,      0.5976,      0.5986,      0.5996,\n",
       "            0.6006,      0.6016,      0.6026,      0.6036,      0.6046,     0.60561,     0.60661,     0.60761,     0.60861,     0.60961,     0.61061,     0.61161,     0.61261,     0.61361,     0.61461,     0.61562,     0.61662,     0.61762,     0.61862,     0.61962,     0.62062,     0.62162,     0.62262,     0.62362,\n",
       "           0.62462,     0.62563,     0.62663,     0.62763,     0.62863,     0.62963,     0.63063,     0.63163,     0.63263,     0.63363,     0.63463,     0.63564,     0.63664,     0.63764,     0.63864,     0.63964,     0.64064,     0.64164,     0.64264,     0.64364,     0.64464,     0.64565,     0.64665,     0.64765,\n",
       "           0.64865,     0.64965,     0.65065,     0.65165,     0.65265,     0.65365,     0.65465,     0.65566,     0.65666,     0.65766,     0.65866,     0.65966,     0.66066,     0.66166,     0.66266,     0.66366,     0.66466,     0.66567,     0.66667,     0.66767,     0.66867,     0.66967,     0.67067,     0.67167,\n",
       "           0.67267,     0.67367,     0.67467,     0.67568,     0.67668,     0.67768,     0.67868,     0.67968,     0.68068,     0.68168,     0.68268,     0.68368,     0.68468,     0.68569,     0.68669,     0.68769,     0.68869,     0.68969,     0.69069,     0.69169,     0.69269,     0.69369,     0.69469,      0.6957,\n",
       "            0.6967,      0.6977,      0.6987,      0.6997,      0.7007,      0.7017,      0.7027,      0.7037,      0.7047,     0.70571,     0.70671,     0.70771,     0.70871,     0.70971,     0.71071,     0.71171,     0.71271,     0.71371,     0.71471,     0.71572,     0.71672,     0.71772,     0.71872,     0.71972,\n",
       "           0.72072,     0.72172,     0.72272,     0.72372,     0.72472,     0.72573,     0.72673,     0.72773,     0.72873,     0.72973,     0.73073,     0.73173,     0.73273,     0.73373,     0.73473,     0.73574,     0.73674,     0.73774,     0.73874,     0.73974,     0.74074,     0.74174,     0.74274,     0.74374,\n",
       "           0.74474,     0.74575,     0.74675,     0.74775,     0.74875,     0.74975,     0.75075,     0.75175,     0.75275,     0.75375,     0.75475,     0.75576,     0.75676,     0.75776,     0.75876,     0.75976,     0.76076,     0.76176,     0.76276,     0.76376,     0.76476,     0.76577,     0.76677,     0.76777,\n",
       "           0.76877,     0.76977,     0.77077,     0.77177,     0.77277,     0.77377,     0.77477,     0.77578,     0.77678,     0.77778,     0.77878,     0.77978,     0.78078,     0.78178,     0.78278,     0.78378,     0.78478,     0.78579,     0.78679,     0.78779,     0.78879,     0.78979,     0.79079,     0.79179,\n",
       "           0.79279,     0.79379,     0.79479,      0.7958,      0.7968,      0.7978,      0.7988,      0.7998,      0.8008,      0.8018,      0.8028,      0.8038,      0.8048,     0.80581,     0.80681,     0.80781,     0.80881,     0.80981,     0.81081,     0.81181,     0.81281,     0.81381,     0.81481,     0.81582,\n",
       "           0.81682,     0.81782,     0.81882,     0.81982,     0.82082,     0.82182,     0.82282,     0.82382,     0.82482,     0.82583,     0.82683,     0.82783,     0.82883,     0.82983,     0.83083,     0.83183,     0.83283,     0.83383,     0.83483,     0.83584,     0.83684,     0.83784,     0.83884,     0.83984,\n",
       "           0.84084,     0.84184,     0.84284,     0.84384,     0.84484,     0.84585,     0.84685,     0.84785,     0.84885,     0.84985,     0.85085,     0.85185,     0.85285,     0.85385,     0.85485,     0.85586,     0.85686,     0.85786,     0.85886,     0.85986,     0.86086,     0.86186,     0.86286,     0.86386,\n",
       "           0.86486,     0.86587,     0.86687,     0.86787,     0.86887,     0.86987,     0.87087,     0.87187,     0.87287,     0.87387,     0.87487,     0.87588,     0.87688,     0.87788,     0.87888,     0.87988,     0.88088,     0.88188,     0.88288,     0.88388,     0.88488,     0.88589,     0.88689,     0.88789,\n",
       "           0.88889,     0.88989,     0.89089,     0.89189,     0.89289,     0.89389,     0.89489,      0.8959,      0.8969,      0.8979,      0.8989,      0.8999,      0.9009,      0.9019,      0.9029,      0.9039,      0.9049,     0.90591,     0.90691,     0.90791,     0.90891,     0.90991,     0.91091,     0.91191,\n",
       "           0.91291,     0.91391,     0.91491,     0.91592,     0.91692,     0.91792,     0.91892,     0.91992,     0.92092,     0.92192,     0.92292,     0.92392,     0.92492,     0.92593,     0.92693,     0.92793,     0.92893,     0.92993,     0.93093,     0.93193,     0.93293,     0.93393,     0.93493,     0.93594,\n",
       "           0.93694,     0.93794,     0.93894,     0.93994,     0.94094,     0.94194,     0.94294,     0.94394,     0.94494,     0.94595,     0.94695,     0.94795,     0.94895,     0.94995,     0.95095,     0.95195,     0.95295,     0.95395,     0.95495,     0.95596,     0.95696,     0.95796,     0.95896,     0.95996,\n",
       "           0.96096,     0.96196,     0.96296,     0.96396,     0.96496,     0.96597,     0.96697,     0.96797,     0.96897,     0.96997,     0.97097,     0.97197,     0.97297,     0.97397,     0.97497,     0.97598,     0.97698,     0.97798,     0.97898,     0.97998,     0.98098,     0.98198,     0.98298,     0.98398,\n",
       "           0.98498,     0.98599,     0.98699,     0.98799,     0.98899,     0.98999,     0.99099,     0.99199,     0.99299,     0.99399,     0.99499,       0.996,       0.997,       0.998,       0.999,           1]), array([[     0.9692,      0.9692,     0.96831,     0.96787,     0.96656,      0.9661,     0.96477,     0.96433,     0.96366,     0.96366,     0.96344,     0.96344,       0.963,       0.963,       0.963,     0.96277,     0.96233,     0.96233,     0.96233,     0.96211,     0.96189,     0.96189,     0.96144,\n",
       "            0.96144,     0.96144,     0.96122,     0.96122,       0.961,       0.961,       0.961,     0.96073,     0.96012,     0.95993,     0.95989,     0.95989,     0.95945,     0.95945,     0.95945,     0.95923,     0.95923,     0.95923,     0.95909,     0.95901,     0.95901,     0.95901,     0.95901,\n",
       "            0.95901,     0.95863,     0.95834,     0.95834,     0.95834,     0.95834,     0.95827,     0.95816,     0.95768,     0.95768,     0.95768,     0.95768,     0.95768,     0.95764,     0.95728,     0.95723,     0.95701,     0.95679,     0.95665,     0.95635,     0.95614,     0.95607,     0.95591,\n",
       "            0.95591,     0.95591,     0.95591,     0.95591,     0.95591,     0.95591,     0.95591,     0.95591,     0.95576,     0.95568,     0.95568,     0.95563,     0.95553,     0.95546,     0.95546,     0.95546,     0.95546,     0.95546,     0.95546,     0.95546,     0.95533,     0.95502,     0.95502,\n",
       "            0.95502,     0.95502,     0.95502,     0.95502,     0.95502,       0.955,     0.95468,     0.95458,     0.95458,     0.95458,     0.95458,     0.95435,     0.95391,     0.95391,     0.95391,     0.95388,     0.95369,     0.95369,     0.95369,     0.95369,     0.95364,     0.95352,     0.95347,\n",
       "            0.95342,     0.95328,     0.95325,     0.95325,     0.95325,     0.95258,     0.95258,     0.95258,     0.95255,     0.95237,     0.95229,     0.95222,     0.95214,     0.95198,     0.95192,     0.95192,     0.95192,     0.95192,     0.95192,     0.95186,      0.9517,      0.9517,     0.95169,\n",
       "            0.95152,     0.95109,     0.95092,     0.95081,     0.95062,     0.95059,     0.95059,     0.95059,     0.95058,     0.95037,     0.95037,     0.95037,     0.95009,     0.94988,      0.9498,     0.94973,     0.94961,     0.94948,     0.94948,     0.94948,     0.94948,     0.94948,     0.94948,\n",
       "            0.94948,     0.94942,     0.94924,     0.94913,     0.94904,     0.94881,     0.94881,     0.94881,     0.94859,     0.94859,     0.94859,     0.94859,     0.94846,     0.94833,      0.9482,     0.94815,     0.94808,     0.94795,     0.94793,     0.94793,     0.94793,     0.94793,     0.94793,\n",
       "            0.94793,     0.94793,     0.94793,     0.94793,     0.94793,     0.94778,     0.94771,     0.94771,     0.94771,     0.94771,     0.94771,     0.94766,     0.94749,     0.94733,     0.94703,     0.94685,     0.94674,     0.94665,     0.94653,     0.94638,     0.94638,     0.94638,     0.94638,\n",
       "            0.94621,     0.94616,     0.94616,     0.94616,     0.94616,     0.94616,     0.94607,     0.94593,     0.94593,     0.94593,     0.94593,     0.94593,     0.94593,     0.94593,     0.94593,     0.94571,     0.94554,     0.94549,     0.94549,     0.94549,     0.94549,     0.94549,     0.94549,\n",
       "            0.94549,     0.94549,     0.94536,     0.94527,     0.94527,     0.94527,     0.94524,     0.94518,     0.94512,     0.94506,      0.9448,     0.94464,     0.94449,     0.94438,     0.94438,     0.94438,     0.94438,     0.94433,     0.94425,     0.94417,     0.94411,     0.94405,     0.94399,\n",
       "            0.94394,      0.9439,     0.94386,     0.94382,     0.94379,     0.94375,     0.94365,     0.94335,     0.94327,     0.94327,     0.94327,     0.94322,     0.94311,     0.94301,     0.94291,     0.94282,     0.94276,     0.94271,     0.94265,     0.94261,     0.94261,     0.94261,     0.94261,\n",
       "            0.94261,     0.94261,     0.94261,     0.94232,     0.94202,     0.94185,     0.94172,     0.94172,     0.94172,     0.94172,     0.94172,     0.94172,     0.94172,     0.94172,     0.94172,     0.94172,     0.94172,     0.94172,     0.94172,     0.94172,     0.94172,     0.94172,     0.94172,\n",
       "            0.94172,     0.94161,      0.9415,      0.9415,      0.9415,      0.9415,      0.9415,      0.9415,      0.9415,      0.9415,      0.9415,     0.94149,     0.94147,     0.94145,     0.94143,     0.94141,     0.94138,     0.94136,     0.94134,     0.94132,      0.9413,     0.94125,     0.94112,\n",
       "            0.94102,     0.94096,     0.94089,     0.94084,     0.94084,     0.94084,     0.94084,     0.94084,     0.94084,     0.94084,     0.94084,     0.94084,     0.94084,     0.94084,     0.94084,     0.94059,     0.94046,     0.94039,     0.94039,     0.94039,     0.94022,     0.93995,     0.93995,\n",
       "            0.93995,     0.93995,     0.93995,     0.93995,     0.93995,     0.93995,     0.93987,     0.93979,     0.93947,     0.93936,     0.93928,     0.93926,     0.93923,     0.93921,     0.93919,     0.93916,     0.93914,     0.93912,      0.9391,     0.93907,     0.93899,     0.93888,     0.93837,\n",
       "            0.93832,     0.93827,     0.93822,     0.93818,     0.93818,     0.93818,     0.93818,     0.93818,     0.93818,     0.93818,     0.93797,     0.93796,     0.93796,     0.93796,     0.93796,     0.93796,     0.93796,     0.93791,     0.93778,     0.93774,     0.93774,     0.93774,     0.93773,\n",
       "            0.93762,      0.9375,     0.93707,     0.93707,     0.93707,     0.93707,     0.93702,     0.93691,     0.93634,     0.93621,     0.93601,     0.93596,     0.93596,     0.93596,     0.93596,     0.93573,     0.93571,     0.93569,     0.93568,     0.93566,     0.93564,     0.93563,     0.93561,\n",
       "            0.93559,     0.93557,     0.93556,     0.93554,     0.93552,     0.93552,     0.93552,     0.93552,     0.93552,     0.93541,     0.93529,     0.93521,     0.93514,     0.93504,     0.93485,     0.93484,     0.93482,     0.93481,     0.93479,     0.93477,     0.93476,     0.93474,     0.93473,\n",
       "            0.93471,      0.9347,     0.93468,     0.93467,     0.93465,     0.93464,     0.93463,     0.93463,     0.93463,     0.93463,     0.93463,     0.93463,     0.93463,     0.93463,      0.9344,     0.93419,     0.93419,     0.93419,     0.93415,     0.93403,     0.93394,     0.93386,     0.93378,\n",
       "            0.93363,     0.93349,     0.93341,     0.93333,     0.93324,     0.93312,     0.93308,     0.93293,      0.9327,     0.93258,     0.93251,     0.93243,     0.93224,     0.93201,     0.93197,     0.93194,      0.9319,     0.93187,     0.93183,     0.93179,     0.93175,     0.93175,     0.93175,\n",
       "            0.93175,     0.93175,     0.93169,     0.93163,     0.93158,     0.93152,     0.93144,     0.93136,     0.93131,     0.93127,     0.93116,     0.93109,     0.93109,     0.93109,     0.93109,     0.93109,     0.93105,     0.93098,      0.9309,     0.93082,     0.93075,     0.93067,      0.9305,\n",
       "            0.93028,      0.9302,     0.93004,     0.92982,     0.92949,     0.92944,     0.92938,     0.92932,     0.92932,     0.92932,     0.92921,      0.9291,     0.92909,     0.92909,     0.92909,     0.92886,     0.92865,     0.92865,     0.92865,     0.92865,     0.92861,     0.92843,     0.92843,\n",
       "            0.92843,     0.92843,     0.92843,     0.92836,     0.92821,     0.92821,     0.92794,     0.92783,     0.92767,     0.92744,     0.92705,     0.92693,     0.92654,     0.92615,     0.92604,      0.9257,     0.92559,     0.92553,     0.92549,     0.92546,     0.92543,      0.9254,     0.92537,\n",
       "            0.92533,     0.92526,     0.92519,     0.92511,     0.92488,     0.92485,     0.92478,      0.9247,     0.92466,     0.92438,     0.92427,     0.92393,     0.92382,     0.92378,     0.92378,     0.92374,     0.92368,     0.92362,     0.92357,     0.92347,     0.92335,     0.92324,     0.92313,\n",
       "            0.92301,      0.9229,     0.92246,     0.92223,     0.92167,     0.92134,     0.92127,     0.92121,     0.92114,     0.92076,     0.92067,     0.92067,     0.92067,     0.92062,     0.92055,     0.92047,     0.92028,     0.92001,     0.92001,     0.91969,     0.91958,     0.91899,     0.91863,\n",
       "            0.91852,     0.91835,     0.91812,     0.91789,     0.91773,     0.91762,     0.91699,     0.91691,     0.91691,     0.91691,     0.91689,     0.91684,     0.91678,     0.91672,     0.91665,     0.91654,     0.91594,     0.91571,     0.91485,      0.9147,     0.91458,     0.91447,     0.91436,\n",
       "             0.9138,     0.91375,      0.9137,     0.91365,      0.9136,     0.91353,     0.91346,     0.91338,     0.91336,     0.91336,     0.91319,     0.91267,      0.9126,     0.91252,     0.91248,     0.91219,     0.91204,      0.9117,     0.91159,     0.91081,     0.91047,     0.91024,     0.90936,\n",
       "            0.90921,     0.90864,     0.90852,     0.90844,     0.90838,     0.90831,     0.90779,     0.90768,     0.90714,      0.9071,     0.90706,     0.90702,     0.90698,     0.90694,     0.90679,     0.90649,     0.90649,     0.90605,      0.9056,     0.90549,     0.90537,     0.90526,     0.90492,\n",
       "            0.90477,      0.9042,     0.90408,     0.90372,     0.90336,     0.90324,     0.90317,     0.90298,     0.90285,     0.90273,     0.90236,     0.90157,     0.90145,     0.90095,      0.9005,     0.90039,     0.89983,     0.89968,     0.89889,     0.89877,     0.89753,     0.89715,       0.897,\n",
       "            0.89674,     0.89674,     0.89612,     0.89515,     0.89504,     0.89413,     0.89388,     0.89328,     0.89315,     0.89303,     0.89223,     0.89208,     0.89193,     0.89136,     0.89125,     0.89067,     0.88985,      0.8897,     0.88891,     0.88879,      0.8881,     0.88759,      0.8873,\n",
       "            0.88624,     0.88612,     0.88575,     0.88538,     0.88523,     0.88486,     0.88445,     0.88422,     0.88322,     0.88189,     0.88174,     0.88087,     0.87988,     0.87973,     0.87781,     0.87722,     0.87711,      0.8761,     0.87594,     0.87496,     0.87409,     0.87394,     0.87312,\n",
       "            0.87209,     0.87193,     0.87082,     0.86938,     0.86838,     0.86792,     0.86699,     0.86687,     0.86607,     0.86504,     0.86488,     0.86429,     0.86341,     0.86312,     0.86184,     0.86094,     0.86067,     0.85965,     0.85953,     0.85932,     0.85732,     0.85665,     0.85479,\n",
       "            0.85464,     0.85308,     0.85142,     0.85042,     0.85027,     0.84945,     0.84771,      0.8474,     0.84441,     0.84258,     0.84019,     0.84002,     0.83807,     0.83529,     0.83477,     0.83174,     0.82999,     0.82984,     0.82852,     0.82606,     0.82407,     0.82228,     0.82173,\n",
       "            0.81973,     0.81777,     0.81452,     0.81437,     0.81269,     0.81177,     0.80934,     0.80905,     0.80533,     0.80217,      0.7992,     0.79905,     0.79684,     0.79395,     0.79149,      0.7874,     0.78707,     0.78315,     0.78085,     0.77819,     0.77484,     0.77176,      0.7716,\n",
       "            0.76963,     0.76664,     0.76415,     0.76126,     0.76097,     0.75742,     0.75464,     0.75235,     0.74954,     0.74532,     0.74501,     0.74077,     0.73622,     0.73256,     0.72646,     0.72006,     0.71635,     0.71103,     0.70459,     0.70427,     0.69895,     0.69362,     0.68702,\n",
       "            0.67954,     0.67267,     0.66624,     0.65983,     0.65968,     0.65348,     0.64638,     0.64084,     0.63108,     0.62361,     0.61501,     0.60614,     0.59661,     0.58707,     0.57953,     0.57066,     0.56179,     0.55142,     0.54306,     0.53486,     0.52421,      0.5149,      0.5036,\n",
       "            0.48985,     0.47988,     0.46968,     0.45748,     0.44884,      0.4382,     0.42534,     0.41248,     0.40273,     0.37846,     0.36737,     0.35407,     0.34166,     0.33168,     0.32259,     0.31372,     0.30348,     0.29277,     0.28191,      0.2726,     0.26373,     0.24566,     0.23613,\n",
       "            0.22704,     0.21897,     0.20764,     0.20121,       0.195,     0.18203,      0.1756,     0.16706,     0.16063,     0.15307,     0.14877,     0.14189,     0.12959,     0.12444,     0.11816,     0.11395,     0.10032,    0.096478,    0.091774,    0.083016,    0.077832,    0.075361,    0.068818,\n",
       "           0.066498,    0.062935,    0.056172,    0.049846,    0.045303,    0.040771,    0.039177,    0.035204,    0.033837,    0.031537,    0.027389,    0.025039,    0.022048,     0.01966,    0.017816,    0.014774,    0.013584,    0.010914,    0.010437,   0.0086759,   0.0073353,    0.006875,    0.004986,\n",
       "          0.0043544,   0.0041888,   0.0030698,   0.0028364,   0.0027607,    0.002685,   0.0023777,   0.0022869,   0.0021993,   0.0021236,   0.0020479,   0.0019777,   0.0019209,   0.0018642,   0.0018074,   0.0017138,   0.0015624,   0.0012798,   0.0011662,   0.0010803,   0.0010235,  0.00096673,  0.00090995,\n",
       "          0.0007979,  0.00043221,  0.00034136,  0.00025051,           0,           0,           0,           0,           0,           0,           0,           0,           0,           0,           0,           0,           0,           0,           0,           0,           0,           0,           0,\n",
       "                  0,           0,           0,           0,           0,           0,           0,           0,           0,           0,           0,           0,           0,           0,           0,           0,           0,           0,           0,           0,           0,           0,           0,\n",
       "                  0,           0,           0,           0,           0,           0,           0,           0,           0,           0,           0]]), 'Confidence', 'Recall']]\n",
       "fitness: 0.7779144434917427\n",
       "keys: ['metrics/precision(B)', 'metrics/recall(B)', 'metrics/mAP50(B)', 'metrics/mAP50-95(B)']\n",
       "maps: array([    0.75616,     0.75616])\n",
       "names: {0: 'football_player', 1: 'ball'}\n",
       "plot: True\n",
       "results_dict: {'metrics/precision(B)': 0.979568400870118, 'metrics/recall(B)': 0.9399512519388433, 'metrics/mAP50(B)': 0.9736661920829659, 'metrics/mAP50-95(B)': 0.756164249203829, 'fitness': 0.7779144434917427}\n",
       "save_dir: PosixPath('/home/omar/TUM/05_projects/2D-Object-Detection/runs/detect/football_yolov83')\n",
       "speed: {'preprocess': 0.43369222570348664, 'inference': 22.849896317156254, 'loss': 0.0028472868993939682, 'postprocess': 1.4389993722546737}\n",
       "task: 'detect'"
      ]
     },
     "execution_count": 5,
     "metadata": {},
     "output_type": "execute_result"
    }
   ],
   "source": [
    "\n",
    "# Load a YOLOv8 model pre-trained on COCO\n",
    "model = YOLO('yolov8m.pt')  # 'n' stands for nano, 's', 'm', 'l'.\n",
    "\n",
    "# Train the model on your dataset\n",
    "model.train(\n",
    "    data=\"data.yaml\",  # Define the dataset configuration in a YAML file\n",
    "    epochs=100,\n",
    "    imgsz=720,  # Adjust this to match your image size\n",
    "    batch=4,  # Adjust based on your GPU capacity\n",
    "    name='football_yolov8'  # Name the training run\n",
    ")"
   ]
  },
  {
   "cell_type": "code",
   "execution_count": 6,
   "metadata": {},
   "outputs": [
    {
     "name": "stdout",
     "output_type": "stream",
     "text": [
      "Ultralytics YOLOv8.2.99 🚀 Python-3.10.12 torch-2.4.1+cu121 CUDA:0 (NVIDIA GeForce RTX 2050, 3905MiB)\n",
      "Model summary (fused): 218 layers, 25,840,918 parameters, 0 gradients, 78.7 GFLOPs\n"
     ]
    },
    {
     "name": "stderr",
     "output_type": "stream",
     "text": [
      "\u001b[34m\u001b[1mval: \u001b[0mScanning /home/omar/TUM/05_projects/2D-Object-Detection/yolo_football_dataset/val/labels.cache... 243 images, 0 backgrounds, 0 corrupt: 100%|██████████| 243/243 [00:00<?, ?it/s]\n",
      "                 Class     Images  Instances      Box(P          R      mAP50  mAP50-95): 100%|██████████| 61/61 [00:11<00:00,  5.40it/s]\n"
     ]
    },
    {
     "name": "stdout",
     "output_type": "stream",
     "text": [
      "                   all        243       4513      0.976      0.943      0.975      0.763\n",
      "       football_player        243       4513      0.976      0.943      0.975      0.763\n",
      "Speed: 0.5ms preprocess, 38.9ms inference, 0.0ms loss, 1.2ms postprocess per image\n",
      "Results saved to \u001b[1m/home/omar/TUM/05_projects/2D-Object-Detection/runs/detect/football_yolov832\u001b[0m\n",
      "ultralytics.utils.metrics.DetMetrics object with attributes:\n",
      "\n",
      "ap_class_index: array([0])\n",
      "box: ultralytics.utils.metrics.Metric object\n",
      "confusion_matrix: <ultralytics.utils.metrics.ConfusionMatrix object at 0x7a1443966c80>\n",
      "curves: ['Precision-Recall(B)', 'F1-Confidence(B)', 'Precision-Confidence(B)', 'Recall-Confidence(B)']\n",
      "curves_results: [[array([          0,    0.001001,    0.002002,    0.003003,    0.004004,    0.005005,    0.006006,    0.007007,    0.008008,    0.009009,     0.01001,    0.011011,    0.012012,    0.013013,    0.014014,    0.015015,    0.016016,    0.017017,    0.018018,    0.019019,     0.02002,    0.021021,    0.022022,    0.023023,\n",
      "          0.024024,    0.025025,    0.026026,    0.027027,    0.028028,    0.029029,     0.03003,    0.031031,    0.032032,    0.033033,    0.034034,    0.035035,    0.036036,    0.037037,    0.038038,    0.039039,     0.04004,    0.041041,    0.042042,    0.043043,    0.044044,    0.045045,    0.046046,    0.047047,\n",
      "          0.048048,    0.049049,     0.05005,    0.051051,    0.052052,    0.053053,    0.054054,    0.055055,    0.056056,    0.057057,    0.058058,    0.059059,     0.06006,    0.061061,    0.062062,    0.063063,    0.064064,    0.065065,    0.066066,    0.067067,    0.068068,    0.069069,     0.07007,    0.071071,\n",
      "          0.072072,    0.073073,    0.074074,    0.075075,    0.076076,    0.077077,    0.078078,    0.079079,     0.08008,    0.081081,    0.082082,    0.083083,    0.084084,    0.085085,    0.086086,    0.087087,    0.088088,    0.089089,     0.09009,    0.091091,    0.092092,    0.093093,    0.094094,    0.095095,\n",
      "          0.096096,    0.097097,    0.098098,    0.099099,      0.1001,      0.1011,      0.1021,      0.1031,      0.1041,     0.10511,     0.10611,     0.10711,     0.10811,     0.10911,     0.11011,     0.11111,     0.11211,     0.11311,     0.11411,     0.11512,     0.11612,     0.11712,     0.11812,     0.11912,\n",
      "           0.12012,     0.12112,     0.12212,     0.12312,     0.12412,     0.12513,     0.12613,     0.12713,     0.12813,     0.12913,     0.13013,     0.13113,     0.13213,     0.13313,     0.13413,     0.13514,     0.13614,     0.13714,     0.13814,     0.13914,     0.14014,     0.14114,     0.14214,     0.14314,\n",
      "           0.14414,     0.14515,     0.14615,     0.14715,     0.14815,     0.14915,     0.15015,     0.15115,     0.15215,     0.15315,     0.15415,     0.15516,     0.15616,     0.15716,     0.15816,     0.15916,     0.16016,     0.16116,     0.16216,     0.16316,     0.16416,     0.16517,     0.16617,     0.16717,\n",
      "           0.16817,     0.16917,     0.17017,     0.17117,     0.17217,     0.17317,     0.17417,     0.17518,     0.17618,     0.17718,     0.17818,     0.17918,     0.18018,     0.18118,     0.18218,     0.18318,     0.18418,     0.18519,     0.18619,     0.18719,     0.18819,     0.18919,     0.19019,     0.19119,\n",
      "           0.19219,     0.19319,     0.19419,      0.1952,      0.1962,      0.1972,      0.1982,      0.1992,      0.2002,      0.2012,      0.2022,      0.2032,      0.2042,     0.20521,     0.20621,     0.20721,     0.20821,     0.20921,     0.21021,     0.21121,     0.21221,     0.21321,     0.21421,     0.21522,\n",
      "           0.21622,     0.21722,     0.21822,     0.21922,     0.22022,     0.22122,     0.22222,     0.22322,     0.22422,     0.22523,     0.22623,     0.22723,     0.22823,     0.22923,     0.23023,     0.23123,     0.23223,     0.23323,     0.23423,     0.23524,     0.23624,     0.23724,     0.23824,     0.23924,\n",
      "           0.24024,     0.24124,     0.24224,     0.24324,     0.24424,     0.24525,     0.24625,     0.24725,     0.24825,     0.24925,     0.25025,     0.25125,     0.25225,     0.25325,     0.25425,     0.25526,     0.25626,     0.25726,     0.25826,     0.25926,     0.26026,     0.26126,     0.26226,     0.26326,\n",
      "           0.26426,     0.26527,     0.26627,     0.26727,     0.26827,     0.26927,     0.27027,     0.27127,     0.27227,     0.27327,     0.27427,     0.27528,     0.27628,     0.27728,     0.27828,     0.27928,     0.28028,     0.28128,     0.28228,     0.28328,     0.28428,     0.28529,     0.28629,     0.28729,\n",
      "           0.28829,     0.28929,     0.29029,     0.29129,     0.29229,     0.29329,     0.29429,      0.2953,      0.2963,      0.2973,      0.2983,      0.2993,      0.3003,      0.3013,      0.3023,      0.3033,      0.3043,     0.30531,     0.30631,     0.30731,     0.30831,     0.30931,     0.31031,     0.31131,\n",
      "           0.31231,     0.31331,     0.31431,     0.31532,     0.31632,     0.31732,     0.31832,     0.31932,     0.32032,     0.32132,     0.32232,     0.32332,     0.32432,     0.32533,     0.32633,     0.32733,     0.32833,     0.32933,     0.33033,     0.33133,     0.33233,     0.33333,     0.33433,     0.33534,\n",
      "           0.33634,     0.33734,     0.33834,     0.33934,     0.34034,     0.34134,     0.34234,     0.34334,     0.34434,     0.34535,     0.34635,     0.34735,     0.34835,     0.34935,     0.35035,     0.35135,     0.35235,     0.35335,     0.35435,     0.35536,     0.35636,     0.35736,     0.35836,     0.35936,\n",
      "           0.36036,     0.36136,     0.36236,     0.36336,     0.36436,     0.36537,     0.36637,     0.36737,     0.36837,     0.36937,     0.37037,     0.37137,     0.37237,     0.37337,     0.37437,     0.37538,     0.37638,     0.37738,     0.37838,     0.37938,     0.38038,     0.38138,     0.38238,     0.38338,\n",
      "           0.38438,     0.38539,     0.38639,     0.38739,     0.38839,     0.38939,     0.39039,     0.39139,     0.39239,     0.39339,     0.39439,      0.3954,      0.3964,      0.3974,      0.3984,      0.3994,      0.4004,      0.4014,      0.4024,      0.4034,      0.4044,     0.40541,     0.40641,     0.40741,\n",
      "           0.40841,     0.40941,     0.41041,     0.41141,     0.41241,     0.41341,     0.41441,     0.41542,     0.41642,     0.41742,     0.41842,     0.41942,     0.42042,     0.42142,     0.42242,     0.42342,     0.42442,     0.42543,     0.42643,     0.42743,     0.42843,     0.42943,     0.43043,     0.43143,\n",
      "           0.43243,     0.43343,     0.43443,     0.43544,     0.43644,     0.43744,     0.43844,     0.43944,     0.44044,     0.44144,     0.44244,     0.44344,     0.44444,     0.44545,     0.44645,     0.44745,     0.44845,     0.44945,     0.45045,     0.45145,     0.45245,     0.45345,     0.45445,     0.45546,\n",
      "           0.45646,     0.45746,     0.45846,     0.45946,     0.46046,     0.46146,     0.46246,     0.46346,     0.46446,     0.46547,     0.46647,     0.46747,     0.46847,     0.46947,     0.47047,     0.47147,     0.47247,     0.47347,     0.47447,     0.47548,     0.47648,     0.47748,     0.47848,     0.47948,\n",
      "           0.48048,     0.48148,     0.48248,     0.48348,     0.48448,     0.48549,     0.48649,     0.48749,     0.48849,     0.48949,     0.49049,     0.49149,     0.49249,     0.49349,     0.49449,      0.4955,      0.4965,      0.4975,      0.4985,      0.4995,      0.5005,      0.5015,      0.5025,      0.5035,\n",
      "            0.5045,     0.50551,     0.50651,     0.50751,     0.50851,     0.50951,     0.51051,     0.51151,     0.51251,     0.51351,     0.51451,     0.51552,     0.51652,     0.51752,     0.51852,     0.51952,     0.52052,     0.52152,     0.52252,     0.52352,     0.52452,     0.52553,     0.52653,     0.52753,\n",
      "           0.52853,     0.52953,     0.53053,     0.53153,     0.53253,     0.53353,     0.53453,     0.53554,     0.53654,     0.53754,     0.53854,     0.53954,     0.54054,     0.54154,     0.54254,     0.54354,     0.54454,     0.54555,     0.54655,     0.54755,     0.54855,     0.54955,     0.55055,     0.55155,\n",
      "           0.55255,     0.55355,     0.55455,     0.55556,     0.55656,     0.55756,     0.55856,     0.55956,     0.56056,     0.56156,     0.56256,     0.56356,     0.56456,     0.56557,     0.56657,     0.56757,     0.56857,     0.56957,     0.57057,     0.57157,     0.57257,     0.57357,     0.57457,     0.57558,\n",
      "           0.57658,     0.57758,     0.57858,     0.57958,     0.58058,     0.58158,     0.58258,     0.58358,     0.58458,     0.58559,     0.58659,     0.58759,     0.58859,     0.58959,     0.59059,     0.59159,     0.59259,     0.59359,     0.59459,      0.5956,      0.5966,      0.5976,      0.5986,      0.5996,\n",
      "            0.6006,      0.6016,      0.6026,      0.6036,      0.6046,     0.60561,     0.60661,     0.60761,     0.60861,     0.60961,     0.61061,     0.61161,     0.61261,     0.61361,     0.61461,     0.61562,     0.61662,     0.61762,     0.61862,     0.61962,     0.62062,     0.62162,     0.62262,     0.62362,\n",
      "           0.62462,     0.62563,     0.62663,     0.62763,     0.62863,     0.62963,     0.63063,     0.63163,     0.63263,     0.63363,     0.63463,     0.63564,     0.63664,     0.63764,     0.63864,     0.63964,     0.64064,     0.64164,     0.64264,     0.64364,     0.64464,     0.64565,     0.64665,     0.64765,\n",
      "           0.64865,     0.64965,     0.65065,     0.65165,     0.65265,     0.65365,     0.65465,     0.65566,     0.65666,     0.65766,     0.65866,     0.65966,     0.66066,     0.66166,     0.66266,     0.66366,     0.66466,     0.66567,     0.66667,     0.66767,     0.66867,     0.66967,     0.67067,     0.67167,\n",
      "           0.67267,     0.67367,     0.67467,     0.67568,     0.67668,     0.67768,     0.67868,     0.67968,     0.68068,     0.68168,     0.68268,     0.68368,     0.68468,     0.68569,     0.68669,     0.68769,     0.68869,     0.68969,     0.69069,     0.69169,     0.69269,     0.69369,     0.69469,      0.6957,\n",
      "            0.6967,      0.6977,      0.6987,      0.6997,      0.7007,      0.7017,      0.7027,      0.7037,      0.7047,     0.70571,     0.70671,     0.70771,     0.70871,     0.70971,     0.71071,     0.71171,     0.71271,     0.71371,     0.71471,     0.71572,     0.71672,     0.71772,     0.71872,     0.71972,\n",
      "           0.72072,     0.72172,     0.72272,     0.72372,     0.72472,     0.72573,     0.72673,     0.72773,     0.72873,     0.72973,     0.73073,     0.73173,     0.73273,     0.73373,     0.73473,     0.73574,     0.73674,     0.73774,     0.73874,     0.73974,     0.74074,     0.74174,     0.74274,     0.74374,\n",
      "           0.74474,     0.74575,     0.74675,     0.74775,     0.74875,     0.74975,     0.75075,     0.75175,     0.75275,     0.75375,     0.75475,     0.75576,     0.75676,     0.75776,     0.75876,     0.75976,     0.76076,     0.76176,     0.76276,     0.76376,     0.76476,     0.76577,     0.76677,     0.76777,\n",
      "           0.76877,     0.76977,     0.77077,     0.77177,     0.77277,     0.77377,     0.77477,     0.77578,     0.77678,     0.77778,     0.77878,     0.77978,     0.78078,     0.78178,     0.78278,     0.78378,     0.78478,     0.78579,     0.78679,     0.78779,     0.78879,     0.78979,     0.79079,     0.79179,\n",
      "           0.79279,     0.79379,     0.79479,      0.7958,      0.7968,      0.7978,      0.7988,      0.7998,      0.8008,      0.8018,      0.8028,      0.8038,      0.8048,     0.80581,     0.80681,     0.80781,     0.80881,     0.80981,     0.81081,     0.81181,     0.81281,     0.81381,     0.81481,     0.81582,\n",
      "           0.81682,     0.81782,     0.81882,     0.81982,     0.82082,     0.82182,     0.82282,     0.82382,     0.82482,     0.82583,     0.82683,     0.82783,     0.82883,     0.82983,     0.83083,     0.83183,     0.83283,     0.83383,     0.83483,     0.83584,     0.83684,     0.83784,     0.83884,     0.83984,\n",
      "           0.84084,     0.84184,     0.84284,     0.84384,     0.84484,     0.84585,     0.84685,     0.84785,     0.84885,     0.84985,     0.85085,     0.85185,     0.85285,     0.85385,     0.85485,     0.85586,     0.85686,     0.85786,     0.85886,     0.85986,     0.86086,     0.86186,     0.86286,     0.86386,\n",
      "           0.86486,     0.86587,     0.86687,     0.86787,     0.86887,     0.86987,     0.87087,     0.87187,     0.87287,     0.87387,     0.87487,     0.87588,     0.87688,     0.87788,     0.87888,     0.87988,     0.88088,     0.88188,     0.88288,     0.88388,     0.88488,     0.88589,     0.88689,     0.88789,\n",
      "           0.88889,     0.88989,     0.89089,     0.89189,     0.89289,     0.89389,     0.89489,      0.8959,      0.8969,      0.8979,      0.8989,      0.8999,      0.9009,      0.9019,      0.9029,      0.9039,      0.9049,     0.90591,     0.90691,     0.90791,     0.90891,     0.90991,     0.91091,     0.91191,\n",
      "           0.91291,     0.91391,     0.91491,     0.91592,     0.91692,     0.91792,     0.91892,     0.91992,     0.92092,     0.92192,     0.92292,     0.92392,     0.92492,     0.92593,     0.92693,     0.92793,     0.92893,     0.92993,     0.93093,     0.93193,     0.93293,     0.93393,     0.93493,     0.93594,\n",
      "           0.93694,     0.93794,     0.93894,     0.93994,     0.94094,     0.94194,     0.94294,     0.94394,     0.94494,     0.94595,     0.94695,     0.94795,     0.94895,     0.94995,     0.95095,     0.95195,     0.95295,     0.95395,     0.95495,     0.95596,     0.95696,     0.95796,     0.95896,     0.95996,\n",
      "           0.96096,     0.96196,     0.96296,     0.96396,     0.96496,     0.96597,     0.96697,     0.96797,     0.96897,     0.96997,     0.97097,     0.97197,     0.97297,     0.97397,     0.97497,     0.97598,     0.97698,     0.97798,     0.97898,     0.97998,     0.98098,     0.98198,     0.98298,     0.98398,\n",
      "           0.98498,     0.98599,     0.98699,     0.98799,     0.98899,     0.98999,     0.99099,     0.99199,     0.99299,     0.99399,     0.99499,       0.996,       0.997,       0.998,       0.999,           1]), array([[          1,           1,           1,           1,           1,           1,           1,           1,           1,           1,           1,           1,           1,           1,           1,           1,           1,           1,           1,           1,           1,           1,           1,\n",
      "                  1,           1,           1,     0.99674,     0.99674,     0.99674,     0.99674,     0.99674,     0.99674,     0.99674,     0.99674,     0.99674,     0.99674,     0.99674,     0.99674,     0.99674,     0.99674,     0.99674,     0.99674,     0.99674,     0.99674,     0.99674,     0.99674,\n",
      "            0.99674,     0.99674,     0.99674,     0.99674,     0.99674,     0.99674,     0.99674,     0.99674,     0.99674,     0.99674,     0.99674,     0.99674,     0.99674,     0.99674,     0.99674,     0.99674,     0.99674,     0.99674,     0.99674,     0.99674,     0.99674,     0.99674,     0.99674,\n",
      "            0.99674,     0.99674,     0.99674,     0.99674,     0.99674,     0.99674,     0.99674,     0.99674,     0.99674,     0.99674,     0.99674,     0.99674,     0.99674,     0.99674,     0.99674,     0.99674,     0.99674,     0.99674,     0.99674,     0.99674,     0.99674,     0.99674,     0.99674,\n",
      "            0.99674,     0.99674,     0.99674,     0.99674,     0.99674,     0.99674,     0.99674,     0.99674,     0.99674,     0.99674,     0.99674,     0.99674,     0.99674,     0.99674,     0.99674,     0.99674,     0.99674,     0.99674,     0.99674,     0.99674,     0.99674,     0.99674,     0.99674,\n",
      "            0.99674,     0.99674,     0.99674,     0.99674,     0.99674,     0.99674,     0.99674,     0.99674,     0.99674,     0.99674,     0.99674,     0.99674,     0.99674,     0.99674,     0.99674,     0.99674,     0.99674,     0.99674,     0.99674,     0.99674,     0.99674,     0.99674,     0.99674,\n",
      "            0.99674,     0.99674,     0.99674,     0.99674,     0.99674,     0.99674,     0.99674,     0.99674,     0.99674,     0.99674,     0.99674,     0.99674,     0.99674,     0.99674,     0.99674,     0.99674,     0.99674,     0.99674,     0.99674,     0.99674,     0.99674,     0.99674,     0.99674,\n",
      "            0.99674,     0.99674,     0.99674,     0.99674,     0.99674,     0.99674,     0.99674,     0.99674,     0.99674,     0.99674,     0.99674,     0.99674,     0.99674,     0.99674,     0.99674,     0.99674,     0.99674,     0.99674,     0.99674,     0.99674,     0.99674,     0.99674,     0.99674,\n",
      "            0.99674,     0.99674,     0.99674,     0.99674,     0.99674,     0.99674,     0.99674,     0.99674,     0.99674,     0.99674,     0.99674,     0.99674,     0.99674,     0.99674,     0.99674,     0.99674,     0.99674,     0.99674,     0.99674,     0.99674,     0.99674,     0.99674,     0.99674,\n",
      "            0.99674,     0.99674,     0.99674,     0.99674,     0.99674,     0.99674,     0.99674,     0.99674,     0.99674,     0.99674,     0.99674,     0.99674,     0.99674,     0.99674,     0.99674,     0.99674,     0.99674,     0.99674,     0.99674,     0.99674,     0.99674,     0.99674,     0.99674,\n",
      "            0.99674,     0.99674,     0.99674,     0.99674,     0.99674,     0.99674,     0.99674,     0.99674,     0.99674,     0.99674,     0.99674,     0.99674,     0.99674,     0.99674,     0.99674,     0.99674,     0.99674,     0.99674,     0.99674,     0.99674,     0.99674,     0.99674,     0.99674,\n",
      "            0.99674,     0.99674,     0.99674,     0.99674,     0.99674,     0.99674,     0.99674,     0.99674,     0.99674,     0.99674,     0.99674,     0.99674,     0.99674,     0.99674,     0.99674,     0.99674,     0.99674,     0.99674,     0.99674,     0.99674,     0.99674,     0.99674,     0.99674,\n",
      "            0.99674,     0.99674,     0.99674,     0.99674,     0.99674,     0.99674,     0.99674,     0.99674,     0.99674,     0.99674,     0.99674,     0.99674,     0.99674,     0.99674,     0.99674,     0.99674,     0.99674,     0.99674,     0.99674,     0.99674,     0.99674,     0.99674,     0.99674,\n",
      "            0.99674,     0.99674,     0.99674,     0.99674,     0.99674,     0.99674,     0.99674,     0.99674,     0.99674,     0.99674,     0.99674,     0.99674,     0.99674,     0.99674,     0.99674,     0.99674,     0.99674,     0.99674,     0.99674,     0.99674,     0.99674,     0.99674,     0.99674,\n",
      "            0.99674,     0.99674,     0.99674,     0.99674,     0.99674,     0.99674,     0.99674,     0.99674,     0.99674,     0.99674,     0.99674,     0.99674,     0.99674,     0.99674,     0.99674,     0.99674,     0.99674,     0.99674,     0.99674,     0.99674,     0.99674,     0.99674,     0.99674,\n",
      "            0.99674,     0.99674,     0.99674,     0.99674,     0.99674,     0.99674,     0.99674,     0.99674,     0.99674,     0.99674,     0.99674,     0.99674,     0.99674,     0.99674,     0.99674,     0.99674,     0.99674,     0.99674,     0.99674,     0.99674,     0.99674,     0.99674,     0.99674,\n",
      "            0.99674,     0.99674,     0.99674,     0.99674,     0.99674,     0.99674,     0.99674,     0.99674,     0.99674,     0.99674,     0.99674,     0.99674,     0.99674,     0.99674,     0.99674,     0.99674,     0.99674,     0.99674,     0.99674,     0.99674,     0.99674,     0.99674,     0.99674,\n",
      "            0.99674,     0.99674,     0.99674,     0.99674,     0.99674,     0.99674,     0.99674,     0.99674,     0.99674,     0.99674,     0.99674,     0.99674,     0.99674,     0.99674,     0.99674,     0.99674,     0.99674,     0.99674,     0.99674,     0.99674,     0.99674,     0.99674,     0.99674,\n",
      "            0.99674,     0.99674,     0.99674,     0.99674,     0.99674,     0.99674,     0.99674,     0.99674,     0.99674,     0.99674,     0.99674,     0.99674,     0.99674,     0.99674,     0.99674,     0.99674,     0.99674,     0.99674,     0.99674,     0.99674,     0.99674,     0.99674,     0.99674,\n",
      "            0.99674,     0.99674,     0.99674,     0.99674,     0.99674,     0.99674,     0.99674,     0.99674,     0.99674,     0.99674,     0.99674,     0.99674,     0.99674,     0.99674,     0.99674,     0.99674,     0.99674,     0.99674,     0.99674,     0.99674,     0.99674,     0.99674,     0.99674,\n",
      "            0.99674,     0.99674,     0.99674,     0.99674,     0.99674,     0.99674,     0.99674,     0.99674,     0.99674,     0.99674,     0.99674,     0.99674,     0.99674,     0.99674,     0.99674,     0.99674,     0.99674,     0.99674,     0.99674,     0.99674,     0.99674,     0.99674,     0.99674,\n",
      "            0.99674,     0.99674,     0.99674,     0.99674,     0.99674,     0.99674,     0.99674,     0.99674,     0.99674,     0.99674,     0.99674,     0.99674,     0.99674,     0.99674,     0.99674,     0.99674,     0.99674,     0.99674,     0.99674,     0.99674,     0.99674,     0.99674,     0.99674,\n",
      "            0.99674,     0.99674,     0.99674,     0.99674,     0.99674,     0.99674,     0.99674,     0.99674,     0.99674,     0.99674,     0.99674,     0.99674,     0.99674,     0.99674,     0.99674,     0.99674,     0.99674,     0.99674,     0.99674,     0.99674,     0.99674,     0.99674,     0.99674,\n",
      "            0.99674,     0.99674,     0.99674,     0.99674,     0.99674,     0.99674,     0.99674,     0.99674,     0.99674,     0.99674,     0.99674,     0.99674,     0.99674,     0.99653,     0.99653,     0.99653,     0.99653,     0.99653,     0.99653,     0.99653,     0.99653,     0.99653,     0.99653,\n",
      "            0.99653,     0.99653,     0.99653,     0.99653,     0.99653,     0.99653,     0.99653,     0.99653,     0.99653,     0.99653,     0.99653,     0.99653,     0.99653,     0.99653,     0.99653,     0.99653,     0.99653,     0.99653,     0.99653,     0.99653,     0.99646,     0.99646,     0.99646,\n",
      "            0.99646,     0.99646,     0.99646,     0.99646,     0.99646,     0.99646,     0.99646,     0.99646,     0.99646,     0.99646,     0.99646,     0.99646,     0.99646,     0.99646,     0.99646,     0.99646,     0.99646,     0.99646,     0.99646,     0.99646,     0.99646,     0.99646,     0.99646,\n",
      "            0.99646,     0.99646,     0.99646,     0.99646,     0.99646,     0.99646,     0.99646,     0.99646,     0.99646,     0.99646,     0.99646,     0.99646,     0.99646,     0.99646,     0.99646,     0.99646,     0.99646,     0.99646,     0.99646,     0.99646,     0.99646,     0.99646,     0.99646,\n",
      "            0.99646,     0.99646,     0.99646,     0.99639,     0.99639,     0.99639,     0.99639,     0.99639,     0.99639,     0.99639,     0.99639,     0.99639,     0.99639,     0.99639,     0.99639,     0.99639,     0.99639,     0.99639,     0.99639,     0.99639,     0.99639,     0.99639,     0.99639,\n",
      "            0.99639,     0.99639,     0.99639,     0.99639,     0.99639,     0.99639,     0.99639,     0.99639,     0.99639,     0.99639,     0.99639,     0.99639,     0.99639,     0.99639,     0.99639,     0.99639,     0.99639,     0.99639,     0.99639,     0.99639,     0.99639,     0.99639,     0.99639,\n",
      "            0.99639,     0.99639,     0.99639,     0.99639,     0.99639,     0.99639,     0.99639,     0.99639,     0.99639,     0.99639,     0.99639,     0.99639,     0.99639,     0.99639,     0.99639,     0.99639,     0.99639,     0.99639,     0.99639,     0.99639,     0.99639,     0.99639,     0.99639,\n",
      "            0.99639,     0.99639,     0.99639,     0.99639,     0.99639,     0.99639,     0.99639,     0.99639,     0.99639,     0.99639,     0.99639,     0.99639,     0.99639,     0.99639,     0.99639,     0.99639,     0.99639,     0.99639,     0.99639,     0.99639,     0.99639,     0.99639,     0.99639,\n",
      "            0.99639,     0.99639,     0.99639,     0.99639,     0.99639,     0.99639,     0.99639,     0.99639,     0.99639,     0.99639,     0.99639,     0.99639,     0.99639,     0.99639,     0.99639,     0.99639,     0.99639,     0.99639,     0.99639,     0.99639,     0.99639,     0.99621,     0.99621,\n",
      "            0.99621,     0.99621,     0.99621,     0.99621,     0.99621,     0.99621,     0.99621,     0.99621,     0.99621,     0.99621,     0.99621,     0.99621,     0.99621,     0.99621,     0.99621,     0.99621,     0.99621,     0.99621,     0.99621,     0.99621,     0.99604,     0.99604,     0.99604,\n",
      "            0.99604,     0.99604,     0.99604,     0.99604,     0.99604,     0.99604,     0.99604,     0.99604,     0.99604,     0.99604,     0.99604,     0.99604,     0.99604,     0.99604,     0.99604,     0.99604,     0.99604,     0.99604,     0.99604,     0.99604,     0.99577,     0.99577,     0.99577,\n",
      "            0.99554,     0.99554,     0.99554,     0.99554,     0.99554,     0.99554,     0.99554,     0.99554,     0.99554,      0.9951,      0.9951,      0.9951,      0.9951,      0.9951,      0.9951,      0.9951,      0.9951,      0.9951,      0.9951,      0.9951,      0.9951,      0.9951,      0.9951,\n",
      "             0.9951,      0.9951,      0.9951,      0.9951,      0.9951,     0.99499,     0.99499,     0.99499,     0.99499,     0.99499,     0.99499,     0.99499,     0.99499,     0.99499,     0.99499,     0.99499,     0.99499,     0.99499,     0.99499,     0.99499,     0.99499,     0.99499,     0.99499,\n",
      "            0.99499,     0.99499,     0.99499,     0.99499,     0.99499,     0.99499,     0.99499,     0.99475,     0.99475,     0.99475,     0.99475,     0.99459,     0.99459,     0.99459,     0.99459,     0.99459,     0.99459,     0.99459,     0.99459,     0.99459,     0.99459,     0.99459,     0.99459,\n",
      "            0.99459,     0.99459,     0.99459,     0.99459,     0.99436,     0.99436,     0.99436,      0.9941,     0.99364,     0.99364,     0.99364,     0.99364,     0.99364,     0.99364,      0.9935,      0.9935,      0.9935,      0.9935,      0.9935,      0.9935,      0.9935,      0.9935,      0.9935,\n",
      "             0.9935,      0.9935,      0.9935,      0.9935,      0.9935,      0.9935,     0.99326,     0.99279,     0.99279,     0.99279,     0.99279,     0.99256,     0.99256,     0.99186,     0.99186,     0.99186,     0.99186,     0.99164,     0.99164,     0.99141,     0.99141,     0.99119,     0.99119,\n",
      "            0.99097,     0.99097,     0.99097,     0.99076,     0.99076,     0.99076,     0.99032,     0.99032,     0.99032,      0.9899,      0.9899,      0.9899,      0.9899,      0.9899,      0.9899,     0.98968,     0.98948,     0.98948,     0.98948,     0.98879,     0.98879,     0.98856,     0.98811,\n",
      "            0.98788,     0.98768,     0.98768,     0.98745,     0.98679,     0.98679,     0.98658,     0.98658,     0.98566,     0.98499,     0.98454,     0.98409,     0.98365,     0.98344,     0.98255,     0.98233,     0.98167,     0.98122,     0.97991,     0.97991,     0.97925,     0.97792,     0.97637,\n",
      "            0.97553,     0.97553,     0.97377,     0.97116,     0.97074,     0.96682,     0.96577,     0.96449,     0.96345,     0.96198,     0.96095,     0.95757,     0.95401,     0.94653,      0.9439,     0.94005,     0.93424,     0.92513,     0.91972,     0.90617,     0.88151,      0.8588,     0.84562,\n",
      "            0.83778,     0.81344,     0.77936,     0.73137,     0.68819,     0.66446,     0.64073,       0.617,     0.59327,     0.56954,     0.54581,     0.52207,     0.49834,     0.47461,     0.45088,     0.42715,     0.40342,     0.37969,     0.35596,     0.33223,      0.3085,     0.28477,     0.26104,\n",
      "            0.23731,     0.21358,     0.18985,     0.16611,     0.14238,     0.11865,    0.094923,    0.071192,    0.047461,    0.023731,           0]]), 'Recall', 'Precision'], [array([          0,    0.001001,    0.002002,    0.003003,    0.004004,    0.005005,    0.006006,    0.007007,    0.008008,    0.009009,     0.01001,    0.011011,    0.012012,    0.013013,    0.014014,    0.015015,    0.016016,    0.017017,    0.018018,    0.019019,     0.02002,    0.021021,    0.022022,    0.023023,\n",
      "          0.024024,    0.025025,    0.026026,    0.027027,    0.028028,    0.029029,     0.03003,    0.031031,    0.032032,    0.033033,    0.034034,    0.035035,    0.036036,    0.037037,    0.038038,    0.039039,     0.04004,    0.041041,    0.042042,    0.043043,    0.044044,    0.045045,    0.046046,    0.047047,\n",
      "          0.048048,    0.049049,     0.05005,    0.051051,    0.052052,    0.053053,    0.054054,    0.055055,    0.056056,    0.057057,    0.058058,    0.059059,     0.06006,    0.061061,    0.062062,    0.063063,    0.064064,    0.065065,    0.066066,    0.067067,    0.068068,    0.069069,     0.07007,    0.071071,\n",
      "          0.072072,    0.073073,    0.074074,    0.075075,    0.076076,    0.077077,    0.078078,    0.079079,     0.08008,    0.081081,    0.082082,    0.083083,    0.084084,    0.085085,    0.086086,    0.087087,    0.088088,    0.089089,     0.09009,    0.091091,    0.092092,    0.093093,    0.094094,    0.095095,\n",
      "          0.096096,    0.097097,    0.098098,    0.099099,      0.1001,      0.1011,      0.1021,      0.1031,      0.1041,     0.10511,     0.10611,     0.10711,     0.10811,     0.10911,     0.11011,     0.11111,     0.11211,     0.11311,     0.11411,     0.11512,     0.11612,     0.11712,     0.11812,     0.11912,\n",
      "           0.12012,     0.12112,     0.12212,     0.12312,     0.12412,     0.12513,     0.12613,     0.12713,     0.12813,     0.12913,     0.13013,     0.13113,     0.13213,     0.13313,     0.13413,     0.13514,     0.13614,     0.13714,     0.13814,     0.13914,     0.14014,     0.14114,     0.14214,     0.14314,\n",
      "           0.14414,     0.14515,     0.14615,     0.14715,     0.14815,     0.14915,     0.15015,     0.15115,     0.15215,     0.15315,     0.15415,     0.15516,     0.15616,     0.15716,     0.15816,     0.15916,     0.16016,     0.16116,     0.16216,     0.16316,     0.16416,     0.16517,     0.16617,     0.16717,\n",
      "           0.16817,     0.16917,     0.17017,     0.17117,     0.17217,     0.17317,     0.17417,     0.17518,     0.17618,     0.17718,     0.17818,     0.17918,     0.18018,     0.18118,     0.18218,     0.18318,     0.18418,     0.18519,     0.18619,     0.18719,     0.18819,     0.18919,     0.19019,     0.19119,\n",
      "           0.19219,     0.19319,     0.19419,      0.1952,      0.1962,      0.1972,      0.1982,      0.1992,      0.2002,      0.2012,      0.2022,      0.2032,      0.2042,     0.20521,     0.20621,     0.20721,     0.20821,     0.20921,     0.21021,     0.21121,     0.21221,     0.21321,     0.21421,     0.21522,\n",
      "           0.21622,     0.21722,     0.21822,     0.21922,     0.22022,     0.22122,     0.22222,     0.22322,     0.22422,     0.22523,     0.22623,     0.22723,     0.22823,     0.22923,     0.23023,     0.23123,     0.23223,     0.23323,     0.23423,     0.23524,     0.23624,     0.23724,     0.23824,     0.23924,\n",
      "           0.24024,     0.24124,     0.24224,     0.24324,     0.24424,     0.24525,     0.24625,     0.24725,     0.24825,     0.24925,     0.25025,     0.25125,     0.25225,     0.25325,     0.25425,     0.25526,     0.25626,     0.25726,     0.25826,     0.25926,     0.26026,     0.26126,     0.26226,     0.26326,\n",
      "           0.26426,     0.26527,     0.26627,     0.26727,     0.26827,     0.26927,     0.27027,     0.27127,     0.27227,     0.27327,     0.27427,     0.27528,     0.27628,     0.27728,     0.27828,     0.27928,     0.28028,     0.28128,     0.28228,     0.28328,     0.28428,     0.28529,     0.28629,     0.28729,\n",
      "           0.28829,     0.28929,     0.29029,     0.29129,     0.29229,     0.29329,     0.29429,      0.2953,      0.2963,      0.2973,      0.2983,      0.2993,      0.3003,      0.3013,      0.3023,      0.3033,      0.3043,     0.30531,     0.30631,     0.30731,     0.30831,     0.30931,     0.31031,     0.31131,\n",
      "           0.31231,     0.31331,     0.31431,     0.31532,     0.31632,     0.31732,     0.31832,     0.31932,     0.32032,     0.32132,     0.32232,     0.32332,     0.32432,     0.32533,     0.32633,     0.32733,     0.32833,     0.32933,     0.33033,     0.33133,     0.33233,     0.33333,     0.33433,     0.33534,\n",
      "           0.33634,     0.33734,     0.33834,     0.33934,     0.34034,     0.34134,     0.34234,     0.34334,     0.34434,     0.34535,     0.34635,     0.34735,     0.34835,     0.34935,     0.35035,     0.35135,     0.35235,     0.35335,     0.35435,     0.35536,     0.35636,     0.35736,     0.35836,     0.35936,\n",
      "           0.36036,     0.36136,     0.36236,     0.36336,     0.36436,     0.36537,     0.36637,     0.36737,     0.36837,     0.36937,     0.37037,     0.37137,     0.37237,     0.37337,     0.37437,     0.37538,     0.37638,     0.37738,     0.37838,     0.37938,     0.38038,     0.38138,     0.38238,     0.38338,\n",
      "           0.38438,     0.38539,     0.38639,     0.38739,     0.38839,     0.38939,     0.39039,     0.39139,     0.39239,     0.39339,     0.39439,      0.3954,      0.3964,      0.3974,      0.3984,      0.3994,      0.4004,      0.4014,      0.4024,      0.4034,      0.4044,     0.40541,     0.40641,     0.40741,\n",
      "           0.40841,     0.40941,     0.41041,     0.41141,     0.41241,     0.41341,     0.41441,     0.41542,     0.41642,     0.41742,     0.41842,     0.41942,     0.42042,     0.42142,     0.42242,     0.42342,     0.42442,     0.42543,     0.42643,     0.42743,     0.42843,     0.42943,     0.43043,     0.43143,\n",
      "           0.43243,     0.43343,     0.43443,     0.43544,     0.43644,     0.43744,     0.43844,     0.43944,     0.44044,     0.44144,     0.44244,     0.44344,     0.44444,     0.44545,     0.44645,     0.44745,     0.44845,     0.44945,     0.45045,     0.45145,     0.45245,     0.45345,     0.45445,     0.45546,\n",
      "           0.45646,     0.45746,     0.45846,     0.45946,     0.46046,     0.46146,     0.46246,     0.46346,     0.46446,     0.46547,     0.46647,     0.46747,     0.46847,     0.46947,     0.47047,     0.47147,     0.47247,     0.47347,     0.47447,     0.47548,     0.47648,     0.47748,     0.47848,     0.47948,\n",
      "           0.48048,     0.48148,     0.48248,     0.48348,     0.48448,     0.48549,     0.48649,     0.48749,     0.48849,     0.48949,     0.49049,     0.49149,     0.49249,     0.49349,     0.49449,      0.4955,      0.4965,      0.4975,      0.4985,      0.4995,      0.5005,      0.5015,      0.5025,      0.5035,\n",
      "            0.5045,     0.50551,     0.50651,     0.50751,     0.50851,     0.50951,     0.51051,     0.51151,     0.51251,     0.51351,     0.51451,     0.51552,     0.51652,     0.51752,     0.51852,     0.51952,     0.52052,     0.52152,     0.52252,     0.52352,     0.52452,     0.52553,     0.52653,     0.52753,\n",
      "           0.52853,     0.52953,     0.53053,     0.53153,     0.53253,     0.53353,     0.53453,     0.53554,     0.53654,     0.53754,     0.53854,     0.53954,     0.54054,     0.54154,     0.54254,     0.54354,     0.54454,     0.54555,     0.54655,     0.54755,     0.54855,     0.54955,     0.55055,     0.55155,\n",
      "           0.55255,     0.55355,     0.55455,     0.55556,     0.55656,     0.55756,     0.55856,     0.55956,     0.56056,     0.56156,     0.56256,     0.56356,     0.56456,     0.56557,     0.56657,     0.56757,     0.56857,     0.56957,     0.57057,     0.57157,     0.57257,     0.57357,     0.57457,     0.57558,\n",
      "           0.57658,     0.57758,     0.57858,     0.57958,     0.58058,     0.58158,     0.58258,     0.58358,     0.58458,     0.58559,     0.58659,     0.58759,     0.58859,     0.58959,     0.59059,     0.59159,     0.59259,     0.59359,     0.59459,      0.5956,      0.5966,      0.5976,      0.5986,      0.5996,\n",
      "            0.6006,      0.6016,      0.6026,      0.6036,      0.6046,     0.60561,     0.60661,     0.60761,     0.60861,     0.60961,     0.61061,     0.61161,     0.61261,     0.61361,     0.61461,     0.61562,     0.61662,     0.61762,     0.61862,     0.61962,     0.62062,     0.62162,     0.62262,     0.62362,\n",
      "           0.62462,     0.62563,     0.62663,     0.62763,     0.62863,     0.62963,     0.63063,     0.63163,     0.63263,     0.63363,     0.63463,     0.63564,     0.63664,     0.63764,     0.63864,     0.63964,     0.64064,     0.64164,     0.64264,     0.64364,     0.64464,     0.64565,     0.64665,     0.64765,\n",
      "           0.64865,     0.64965,     0.65065,     0.65165,     0.65265,     0.65365,     0.65465,     0.65566,     0.65666,     0.65766,     0.65866,     0.65966,     0.66066,     0.66166,     0.66266,     0.66366,     0.66466,     0.66567,     0.66667,     0.66767,     0.66867,     0.66967,     0.67067,     0.67167,\n",
      "           0.67267,     0.67367,     0.67467,     0.67568,     0.67668,     0.67768,     0.67868,     0.67968,     0.68068,     0.68168,     0.68268,     0.68368,     0.68468,     0.68569,     0.68669,     0.68769,     0.68869,     0.68969,     0.69069,     0.69169,     0.69269,     0.69369,     0.69469,      0.6957,\n",
      "            0.6967,      0.6977,      0.6987,      0.6997,      0.7007,      0.7017,      0.7027,      0.7037,      0.7047,     0.70571,     0.70671,     0.70771,     0.70871,     0.70971,     0.71071,     0.71171,     0.71271,     0.71371,     0.71471,     0.71572,     0.71672,     0.71772,     0.71872,     0.71972,\n",
      "           0.72072,     0.72172,     0.72272,     0.72372,     0.72472,     0.72573,     0.72673,     0.72773,     0.72873,     0.72973,     0.73073,     0.73173,     0.73273,     0.73373,     0.73473,     0.73574,     0.73674,     0.73774,     0.73874,     0.73974,     0.74074,     0.74174,     0.74274,     0.74374,\n",
      "           0.74474,     0.74575,     0.74675,     0.74775,     0.74875,     0.74975,     0.75075,     0.75175,     0.75275,     0.75375,     0.75475,     0.75576,     0.75676,     0.75776,     0.75876,     0.75976,     0.76076,     0.76176,     0.76276,     0.76376,     0.76476,     0.76577,     0.76677,     0.76777,\n",
      "           0.76877,     0.76977,     0.77077,     0.77177,     0.77277,     0.77377,     0.77477,     0.77578,     0.77678,     0.77778,     0.77878,     0.77978,     0.78078,     0.78178,     0.78278,     0.78378,     0.78478,     0.78579,     0.78679,     0.78779,     0.78879,     0.78979,     0.79079,     0.79179,\n",
      "           0.79279,     0.79379,     0.79479,      0.7958,      0.7968,      0.7978,      0.7988,      0.7998,      0.8008,      0.8018,      0.8028,      0.8038,      0.8048,     0.80581,     0.80681,     0.80781,     0.80881,     0.80981,     0.81081,     0.81181,     0.81281,     0.81381,     0.81481,     0.81582,\n",
      "           0.81682,     0.81782,     0.81882,     0.81982,     0.82082,     0.82182,     0.82282,     0.82382,     0.82482,     0.82583,     0.82683,     0.82783,     0.82883,     0.82983,     0.83083,     0.83183,     0.83283,     0.83383,     0.83483,     0.83584,     0.83684,     0.83784,     0.83884,     0.83984,\n",
      "           0.84084,     0.84184,     0.84284,     0.84384,     0.84484,     0.84585,     0.84685,     0.84785,     0.84885,     0.84985,     0.85085,     0.85185,     0.85285,     0.85385,     0.85485,     0.85586,     0.85686,     0.85786,     0.85886,     0.85986,     0.86086,     0.86186,     0.86286,     0.86386,\n",
      "           0.86486,     0.86587,     0.86687,     0.86787,     0.86887,     0.86987,     0.87087,     0.87187,     0.87287,     0.87387,     0.87487,     0.87588,     0.87688,     0.87788,     0.87888,     0.87988,     0.88088,     0.88188,     0.88288,     0.88388,     0.88488,     0.88589,     0.88689,     0.88789,\n",
      "           0.88889,     0.88989,     0.89089,     0.89189,     0.89289,     0.89389,     0.89489,      0.8959,      0.8969,      0.8979,      0.8989,      0.8999,      0.9009,      0.9019,      0.9029,      0.9039,      0.9049,     0.90591,     0.90691,     0.90791,     0.90891,     0.90991,     0.91091,     0.91191,\n",
      "           0.91291,     0.91391,     0.91491,     0.91592,     0.91692,     0.91792,     0.91892,     0.91992,     0.92092,     0.92192,     0.92292,     0.92392,     0.92492,     0.92593,     0.92693,     0.92793,     0.92893,     0.92993,     0.93093,     0.93193,     0.93293,     0.93393,     0.93493,     0.93594,\n",
      "           0.93694,     0.93794,     0.93894,     0.93994,     0.94094,     0.94194,     0.94294,     0.94394,     0.94494,     0.94595,     0.94695,     0.94795,     0.94895,     0.94995,     0.95095,     0.95195,     0.95295,     0.95395,     0.95495,     0.95596,     0.95696,     0.95796,     0.95896,     0.95996,\n",
      "           0.96096,     0.96196,     0.96296,     0.96396,     0.96496,     0.96597,     0.96697,     0.96797,     0.96897,     0.96997,     0.97097,     0.97197,     0.97297,     0.97397,     0.97497,     0.97598,     0.97698,     0.97798,     0.97898,     0.97998,     0.98098,     0.98198,     0.98298,     0.98398,\n",
      "           0.98498,     0.98599,     0.98699,     0.98799,     0.98899,     0.98999,     0.99099,     0.99199,     0.99299,     0.99399,     0.99499,       0.996,       0.997,       0.998,       0.999,           1]), array([[    0.81591,     0.81591,     0.85488,     0.87574,     0.88834,     0.89747,     0.90271,     0.90795,     0.91118,     0.91495,     0.91712,     0.91975,     0.92232,     0.92422,      0.9265,     0.92754,     0.92903,     0.93092,     0.93259,     0.93371,     0.93516,      0.9368,     0.93738,\n",
      "            0.93779,     0.93852,     0.93897,     0.93969,     0.94033,     0.94096,     0.94171,     0.94191,     0.94254,     0.94263,     0.94352,     0.94414,     0.94471,     0.94484,     0.94519,      0.9456,      0.9461,     0.94636,     0.94697,     0.94738,     0.94761,     0.94781,     0.94811,\n",
      "            0.94832,     0.94849,     0.94846,     0.94879,     0.94926,     0.94942,     0.94939,     0.94934,     0.94954,     0.94952,     0.94971,     0.95002,     0.95023,     0.95041,     0.95055,      0.9508,     0.95094,     0.95111,     0.95143,     0.95146,     0.95163,     0.95168,     0.95194,\n",
      "            0.95209,     0.95218,     0.95231,     0.95249,      0.9526,     0.95282,     0.95302,     0.95308,     0.95302,     0.95345,     0.95357,     0.95351,     0.95358,     0.95374,     0.95403,     0.95409,     0.95445,     0.95453,     0.95472,     0.95487,     0.95478,     0.95506,       0.955,\n",
      "            0.95498,     0.95505,      0.9553,     0.95543,     0.95556,     0.95569,     0.95556,     0.95574,       0.956,     0.95605,     0.95616,     0.95632,     0.95639,     0.95623,      0.9563,     0.95645,     0.95665,     0.95684,     0.95714,     0.95718,     0.95723,     0.95713,     0.95722,\n",
      "            0.95723,     0.95726,     0.95731,     0.95735,     0.95739,     0.95744,     0.95735,     0.95718,     0.95718,     0.95722,     0.95728,     0.95736,     0.95747,     0.95741,     0.95758,     0.95762,     0.95766,      0.9578,     0.95785,      0.9579,      0.9578,     0.95773,     0.95769,\n",
      "            0.95769,     0.95759,     0.95753,     0.95757,     0.95744,     0.95748,     0.95754,     0.95759,     0.95759,     0.95753,     0.95758,     0.95766,      0.9577,     0.95747,     0.95738,     0.95742,     0.95746,     0.95756,     0.95748,     0.95758,     0.95765,     0.95772,     0.95778,\n",
      "            0.95783,     0.95787,      0.9577,     0.95772,     0.95768,     0.95772,     0.95774,     0.95765,     0.95787,      0.9579,     0.95782,     0.95779,     0.95775,     0.95771,     0.95765,      0.9577,     0.95771,     0.95775,     0.95779,     0.95785,     0.95806,     0.95813,     0.95834,\n",
      "            0.95842,     0.95857,     0.95865,     0.95872,     0.95878,     0.95868,     0.95871,     0.95877,     0.95887,     0.95908,     0.95923,     0.95926,      0.9591,     0.95929,     0.95917,     0.95908,       0.959,     0.95893,     0.95888,     0.95883,     0.95889,     0.95885,     0.95883,\n",
      "            0.95889,     0.95903,     0.95906,     0.95909,     0.95912,     0.95924,     0.95917,     0.95937,     0.95951,     0.95961,     0.95968,      0.9597,     0.95972,     0.95974,     0.95977,     0.95974,     0.95967,     0.95969,     0.95976,      0.9598,     0.95984,     0.95999,     0.96009,\n",
      "            0.96012,     0.96015,     0.96018,     0.96008,     0.96015,     0.96016,     0.96014,     0.96012,     0.96009,     0.96007,     0.95997,     0.95989,     0.95983,     0.95993,     0.96002,     0.95999,     0.95996,     0.95992,     0.95989,     0.95985,     0.95982,     0.95979,     0.95977,\n",
      "            0.95975,     0.95973,     0.95971,     0.95968,     0.95963,     0.95956,     0.95942,     0.95937,     0.95936,      0.9594,     0.95944,     0.95934,     0.95931,     0.95928,     0.95925,     0.95922,     0.95919,     0.95915,     0.95912,     0.95913,     0.95923,     0.95928,     0.95933,\n",
      "            0.95937,     0.95941,     0.95936,     0.95918,     0.95906,     0.95901,     0.95896,     0.95903,     0.95914,     0.95919,     0.95921,     0.95924,     0.95926,     0.95928,      0.9593,     0.95931,     0.95932,     0.95933,     0.95934,     0.95936,     0.95937,     0.95938,      0.9594,\n",
      "            0.95945,     0.95949,     0.95939,      0.9594,     0.95941,     0.95943,     0.95944,     0.95945,     0.95947,     0.95948,     0.95957,     0.95948,     0.95949,     0.95951,     0.95952,     0.95953,     0.95954,     0.95955,     0.95956,     0.95957,     0.95958,     0.95953,     0.95947,\n",
      "            0.95944,     0.95941,     0.95939,     0.95936,     0.95937,     0.95941,     0.95944,      0.9596,     0.95968,     0.95969,     0.95971,     0.95973,     0.95975,     0.95977,     0.95969,     0.95974,     0.95975,      0.9597,     0.95966,     0.95959,     0.95957,     0.95957,     0.95961,\n",
      "            0.95965,      0.9597,     0.95974,     0.95971,     0.95968,     0.95965,     0.95962,     0.95955,     0.95948,     0.95941,     0.95928,     0.95926,     0.95925,     0.95924,     0.95923,     0.95922,     0.95921,      0.9592,     0.95919,     0.95918,     0.95917,     0.95907,       0.959,\n",
      "            0.95895,     0.95879,     0.95874,     0.95869,     0.95872,     0.95875,     0.95878,     0.95878,     0.95876,     0.95874,     0.95872,     0.95869,     0.95869,     0.95871,     0.95874,     0.95877,     0.95869,      0.9587,     0.95873,     0.95876,     0.95881,     0.95896,     0.95906,\n",
      "            0.95901,     0.95906,     0.95908,     0.95905,     0.95901,     0.95897,     0.95872,      0.9586,     0.95851,     0.95844,     0.95849,     0.95852,     0.95856,     0.95859,     0.95869,     0.95858,     0.95857,     0.95856,     0.95855,     0.95854,     0.95853,     0.95852,     0.95852,\n",
      "            0.95851,      0.9585,     0.95849,     0.95848,     0.95847,     0.95848,     0.95851,     0.95854,     0.95857,      0.9585,     0.95832,     0.95828,     0.95825,     0.95819,     0.95811,     0.95812,     0.95813,     0.95814,     0.95815,     0.95817,     0.95818,     0.95819,      0.9582,\n",
      "            0.95821,     0.95823,     0.95825,     0.95827,     0.95829,     0.95831,     0.95832,     0.95834,     0.95836,     0.95838,      0.9584,     0.95842,     0.95839,     0.95831,     0.95828,     0.95825,     0.95821,     0.95817,     0.95811,     0.95808,     0.95811,     0.95813,     0.95816,\n",
      "            0.95811,     0.95782,     0.95779,     0.95775,     0.95772,     0.95775,      0.9578,     0.95773,     0.95765,     0.95758,     0.95753,     0.95748,     0.95733,     0.95725,     0.95727,     0.95733,      0.9573,     0.95727,     0.95724,     0.95722,     0.95725,     0.95728,     0.95731,\n",
      "            0.95731,     0.95729,     0.95726,     0.95724,     0.95722,     0.95719,     0.95716,     0.95712,     0.95709,       0.957,     0.95705,     0.95709,     0.95711,     0.95713,     0.95715,     0.95717,     0.95718,     0.95712,     0.95706,     0.95702,     0.95699,     0.95695,     0.95678,\n",
      "            0.95682,     0.95691,     0.95684,     0.95657,     0.95654,     0.95651,     0.95648,     0.95645,     0.95652,     0.95662,     0.95662,     0.95657,     0.95662,     0.95663,     0.95653,     0.95647,     0.95643,     0.95646,      0.9565,     0.95653,     0.95645,     0.95647,     0.95655,\n",
      "             0.9566,     0.95661,     0.95656,      0.9565,      0.9564,     0.95647,      0.9564,     0.95617,     0.95603,     0.95591,     0.95584,     0.95577,      0.9557,      0.9555,     0.95529,     0.95524,      0.9552,     0.95517,     0.95515,     0.95513,     0.95511,     0.95509,     0.95507,\n",
      "            0.95505,     0.95499,     0.95489,     0.95485,     0.95488,      0.9549,     0.95492,     0.95484,     0.95466,     0.95456,     0.95466,     0.95462,     0.95457,     0.95459,     0.95465,     0.95464,     0.95461,     0.95458,     0.95456,     0.95452,     0.95445,     0.95439,     0.95433,\n",
      "            0.95426,     0.95417,     0.95399,     0.95366,     0.95354,     0.95348,     0.95334,      0.9533,     0.95326,      0.9533,     0.95319,     0.95315,     0.95312,     0.95308,     0.95298,     0.95302,     0.95307,     0.95292,     0.95281,     0.95267,      0.9527,     0.95256,     0.95247,\n",
      "            0.95235,     0.95225,     0.95207,     0.95202,     0.95198,     0.95169,      0.9515,      0.9516,     0.95165,      0.9517,      0.9516,     0.95163,     0.95165,     0.95168,     0.95166,     0.95161,     0.95124,     0.95089,     0.95077,     0.95062,     0.95054,     0.95047,     0.95041,\n",
      "            0.95027,     0.95012,     0.95008,     0.95005,     0.95001,     0.94996,      0.9499,     0.94991,     0.94996,     0.94986,     0.94975,     0.94968,     0.94962,     0.94954,     0.94939,     0.94933,     0.94924,     0.94916,     0.94904,     0.94873,     0.94844,      0.9483,      0.9479,\n",
      "            0.94774,     0.94761,     0.94748,      0.9474,     0.94736,     0.94732,     0.94709,     0.94691,     0.94684,     0.94669,     0.94666,     0.94663,     0.94659,     0.94654,     0.94647,     0.94653,     0.94647,     0.94642,     0.94611,       0.946,     0.94591,     0.94585,     0.94574,\n",
      "            0.94549,     0.94529,     0.94516,     0.94501,     0.94507,     0.94483,     0.94488,     0.94493,     0.94478,     0.94453,     0.94428,     0.94421,     0.94402,      0.9437,     0.94343,     0.94334,     0.94325,      0.9433,     0.94288,     0.94234,     0.94184,     0.94175,     0.94165,\n",
      "            0.94165,      0.9414,     0.94117,     0.94101,     0.94065,     0.94033,     0.93994,     0.93981,     0.93983,      0.9396,     0.93933,     0.93916,     0.93901,     0.93887,     0.93858,     0.93839,      0.9382,     0.93797,     0.93757,     0.93733,     0.93702,     0.93692,     0.93662,\n",
      "             0.9363,     0.93613,     0.93597,     0.93581,     0.93578,     0.93551,     0.93545,     0.93506,     0.93471,     0.93412,     0.93382,     0.93355,     0.93347,     0.93286,       0.932,     0.93188,     0.93132,     0.93093,     0.93076,     0.93018,     0.92988,      0.9295,     0.92923,\n",
      "            0.92885,     0.92831,     0.92792,     0.92726,     0.92676,     0.92635,      0.9261,      0.9256,     0.92516,     0.92472,     0.92439,     0.92428,       0.924,     0.92312,     0.92289,     0.92232,     0.92209,     0.92171,     0.92178,      0.9214,     0.92049,     0.92021,     0.91942,\n",
      "            0.91895,     0.91797,      0.9176,     0.91692,     0.91639,     0.91611,     0.91565,     0.91423,     0.91296,     0.91232,     0.91146,     0.91051,     0.90937,     0.90824,     0.90707,       0.906,     0.90489,     0.90435,     0.90371,     0.90235,      0.9014,      0.9005,     0.89974,\n",
      "            0.89843,     0.89764,     0.89639,     0.89531,     0.89439,       0.894,     0.89343,     0.89133,     0.88965,     0.88806,     0.88695,     0.88558,     0.88468,     0.88304,     0.88166,     0.88006,     0.87791,     0.87642,     0.87499,     0.87362,     0.87225,     0.87027,     0.86923,\n",
      "            0.86806,     0.86673,      0.8649,     0.86386,     0.86138,     0.85979,     0.85853,     0.85701,     0.85577,     0.85364,     0.85123,     0.84908,     0.84627,     0.84403,     0.84043,     0.83656,     0.83377,     0.83077,     0.82752,     0.82374,     0.82077,       0.817,       0.813,\n",
      "            0.80824,     0.80381,     0.79998,     0.79548,     0.79135,      0.7871,     0.78252,     0.77741,     0.77024,     0.76609,      0.7597,     0.75305,     0.74579,     0.73851,     0.73258,     0.72599,     0.71901,     0.71116,     0.70366,     0.69741,     0.68808,      0.6798,     0.67047,\n",
      "            0.65852,      0.6479,     0.63848,     0.62642,      0.6181,     0.60764,     0.59404,     0.58207,      0.5697,     0.55459,     0.54411,      0.5306,     0.51239,     0.50229,     0.49001,     0.47894,     0.46509,     0.45175,     0.43665,     0.42387,      0.4121,     0.39916,     0.38375,\n",
      "            0.36998,      0.3568,     0.34122,     0.33103,     0.31989,      0.3087,     0.29753,     0.29058,     0.28076,     0.26663,     0.25782,      0.2447,     0.23456,     0.22238,     0.21023,     0.20052,     0.18365,     0.17416,     0.16519,     0.15549,     0.14267,     0.13689,     0.12872,\n",
      "            0.12432,     0.11549,      0.1061,    0.098049,    0.086831,    0.079817,    0.075228,    0.069859,    0.065163,    0.060309,    0.053366,    0.047549,    0.043094,    0.039068,    0.034675,    0.029521,    0.026259,    0.021768,    0.020192,    0.016773,    0.014674,    0.013542,   0.0099258,\n",
      "          0.0087493,   0.0082893,   0.0062146,   0.0056693,   0.0054834,   0.0052384,   0.0047179,   0.0045369,    0.004374,   0.0042429,   0.0041118,   0.0039807,   0.0038669,   0.0037532,   0.0036394,   0.0034883,    0.003032,   0.0025176,   0.0022377,   0.0021271,   0.0020327,   0.0019382,   0.0018437,\n",
      "          0.0016669,  0.00093476,  0.00069543,  0.00049885,           0,           0,           0,           0,           0,           0,           0,           0,           0,           0,           0,           0,           0,           0,           0,           0,           0,           0,           0,\n",
      "                  0,           0,           0,           0,           0,           0,           0,           0,           0,           0,           0,           0,           0,           0,           0,           0,           0,           0,           0,           0,           0,           0,           0,\n",
      "                  0,           0,           0,           0,           0,           0,           0,           0,           0,           0,           0]]), 'Confidence', 'F1'], [array([          0,    0.001001,    0.002002,    0.003003,    0.004004,    0.005005,    0.006006,    0.007007,    0.008008,    0.009009,     0.01001,    0.011011,    0.012012,    0.013013,    0.014014,    0.015015,    0.016016,    0.017017,    0.018018,    0.019019,     0.02002,    0.021021,    0.022022,    0.023023,\n",
      "          0.024024,    0.025025,    0.026026,    0.027027,    0.028028,    0.029029,     0.03003,    0.031031,    0.032032,    0.033033,    0.034034,    0.035035,    0.036036,    0.037037,    0.038038,    0.039039,     0.04004,    0.041041,    0.042042,    0.043043,    0.044044,    0.045045,    0.046046,    0.047047,\n",
      "          0.048048,    0.049049,     0.05005,    0.051051,    0.052052,    0.053053,    0.054054,    0.055055,    0.056056,    0.057057,    0.058058,    0.059059,     0.06006,    0.061061,    0.062062,    0.063063,    0.064064,    0.065065,    0.066066,    0.067067,    0.068068,    0.069069,     0.07007,    0.071071,\n",
      "          0.072072,    0.073073,    0.074074,    0.075075,    0.076076,    0.077077,    0.078078,    0.079079,     0.08008,    0.081081,    0.082082,    0.083083,    0.084084,    0.085085,    0.086086,    0.087087,    0.088088,    0.089089,     0.09009,    0.091091,    0.092092,    0.093093,    0.094094,    0.095095,\n",
      "          0.096096,    0.097097,    0.098098,    0.099099,      0.1001,      0.1011,      0.1021,      0.1031,      0.1041,     0.10511,     0.10611,     0.10711,     0.10811,     0.10911,     0.11011,     0.11111,     0.11211,     0.11311,     0.11411,     0.11512,     0.11612,     0.11712,     0.11812,     0.11912,\n",
      "           0.12012,     0.12112,     0.12212,     0.12312,     0.12412,     0.12513,     0.12613,     0.12713,     0.12813,     0.12913,     0.13013,     0.13113,     0.13213,     0.13313,     0.13413,     0.13514,     0.13614,     0.13714,     0.13814,     0.13914,     0.14014,     0.14114,     0.14214,     0.14314,\n",
      "           0.14414,     0.14515,     0.14615,     0.14715,     0.14815,     0.14915,     0.15015,     0.15115,     0.15215,     0.15315,     0.15415,     0.15516,     0.15616,     0.15716,     0.15816,     0.15916,     0.16016,     0.16116,     0.16216,     0.16316,     0.16416,     0.16517,     0.16617,     0.16717,\n",
      "           0.16817,     0.16917,     0.17017,     0.17117,     0.17217,     0.17317,     0.17417,     0.17518,     0.17618,     0.17718,     0.17818,     0.17918,     0.18018,     0.18118,     0.18218,     0.18318,     0.18418,     0.18519,     0.18619,     0.18719,     0.18819,     0.18919,     0.19019,     0.19119,\n",
      "           0.19219,     0.19319,     0.19419,      0.1952,      0.1962,      0.1972,      0.1982,      0.1992,      0.2002,      0.2012,      0.2022,      0.2032,      0.2042,     0.20521,     0.20621,     0.20721,     0.20821,     0.20921,     0.21021,     0.21121,     0.21221,     0.21321,     0.21421,     0.21522,\n",
      "           0.21622,     0.21722,     0.21822,     0.21922,     0.22022,     0.22122,     0.22222,     0.22322,     0.22422,     0.22523,     0.22623,     0.22723,     0.22823,     0.22923,     0.23023,     0.23123,     0.23223,     0.23323,     0.23423,     0.23524,     0.23624,     0.23724,     0.23824,     0.23924,\n",
      "           0.24024,     0.24124,     0.24224,     0.24324,     0.24424,     0.24525,     0.24625,     0.24725,     0.24825,     0.24925,     0.25025,     0.25125,     0.25225,     0.25325,     0.25425,     0.25526,     0.25626,     0.25726,     0.25826,     0.25926,     0.26026,     0.26126,     0.26226,     0.26326,\n",
      "           0.26426,     0.26527,     0.26627,     0.26727,     0.26827,     0.26927,     0.27027,     0.27127,     0.27227,     0.27327,     0.27427,     0.27528,     0.27628,     0.27728,     0.27828,     0.27928,     0.28028,     0.28128,     0.28228,     0.28328,     0.28428,     0.28529,     0.28629,     0.28729,\n",
      "           0.28829,     0.28929,     0.29029,     0.29129,     0.29229,     0.29329,     0.29429,      0.2953,      0.2963,      0.2973,      0.2983,      0.2993,      0.3003,      0.3013,      0.3023,      0.3033,      0.3043,     0.30531,     0.30631,     0.30731,     0.30831,     0.30931,     0.31031,     0.31131,\n",
      "           0.31231,     0.31331,     0.31431,     0.31532,     0.31632,     0.31732,     0.31832,     0.31932,     0.32032,     0.32132,     0.32232,     0.32332,     0.32432,     0.32533,     0.32633,     0.32733,     0.32833,     0.32933,     0.33033,     0.33133,     0.33233,     0.33333,     0.33433,     0.33534,\n",
      "           0.33634,     0.33734,     0.33834,     0.33934,     0.34034,     0.34134,     0.34234,     0.34334,     0.34434,     0.34535,     0.34635,     0.34735,     0.34835,     0.34935,     0.35035,     0.35135,     0.35235,     0.35335,     0.35435,     0.35536,     0.35636,     0.35736,     0.35836,     0.35936,\n",
      "           0.36036,     0.36136,     0.36236,     0.36336,     0.36436,     0.36537,     0.36637,     0.36737,     0.36837,     0.36937,     0.37037,     0.37137,     0.37237,     0.37337,     0.37437,     0.37538,     0.37638,     0.37738,     0.37838,     0.37938,     0.38038,     0.38138,     0.38238,     0.38338,\n",
      "           0.38438,     0.38539,     0.38639,     0.38739,     0.38839,     0.38939,     0.39039,     0.39139,     0.39239,     0.39339,     0.39439,      0.3954,      0.3964,      0.3974,      0.3984,      0.3994,      0.4004,      0.4014,      0.4024,      0.4034,      0.4044,     0.40541,     0.40641,     0.40741,\n",
      "           0.40841,     0.40941,     0.41041,     0.41141,     0.41241,     0.41341,     0.41441,     0.41542,     0.41642,     0.41742,     0.41842,     0.41942,     0.42042,     0.42142,     0.42242,     0.42342,     0.42442,     0.42543,     0.42643,     0.42743,     0.42843,     0.42943,     0.43043,     0.43143,\n",
      "           0.43243,     0.43343,     0.43443,     0.43544,     0.43644,     0.43744,     0.43844,     0.43944,     0.44044,     0.44144,     0.44244,     0.44344,     0.44444,     0.44545,     0.44645,     0.44745,     0.44845,     0.44945,     0.45045,     0.45145,     0.45245,     0.45345,     0.45445,     0.45546,\n",
      "           0.45646,     0.45746,     0.45846,     0.45946,     0.46046,     0.46146,     0.46246,     0.46346,     0.46446,     0.46547,     0.46647,     0.46747,     0.46847,     0.46947,     0.47047,     0.47147,     0.47247,     0.47347,     0.47447,     0.47548,     0.47648,     0.47748,     0.47848,     0.47948,\n",
      "           0.48048,     0.48148,     0.48248,     0.48348,     0.48448,     0.48549,     0.48649,     0.48749,     0.48849,     0.48949,     0.49049,     0.49149,     0.49249,     0.49349,     0.49449,      0.4955,      0.4965,      0.4975,      0.4985,      0.4995,      0.5005,      0.5015,      0.5025,      0.5035,\n",
      "            0.5045,     0.50551,     0.50651,     0.50751,     0.50851,     0.50951,     0.51051,     0.51151,     0.51251,     0.51351,     0.51451,     0.51552,     0.51652,     0.51752,     0.51852,     0.51952,     0.52052,     0.52152,     0.52252,     0.52352,     0.52452,     0.52553,     0.52653,     0.52753,\n",
      "           0.52853,     0.52953,     0.53053,     0.53153,     0.53253,     0.53353,     0.53453,     0.53554,     0.53654,     0.53754,     0.53854,     0.53954,     0.54054,     0.54154,     0.54254,     0.54354,     0.54454,     0.54555,     0.54655,     0.54755,     0.54855,     0.54955,     0.55055,     0.55155,\n",
      "           0.55255,     0.55355,     0.55455,     0.55556,     0.55656,     0.55756,     0.55856,     0.55956,     0.56056,     0.56156,     0.56256,     0.56356,     0.56456,     0.56557,     0.56657,     0.56757,     0.56857,     0.56957,     0.57057,     0.57157,     0.57257,     0.57357,     0.57457,     0.57558,\n",
      "           0.57658,     0.57758,     0.57858,     0.57958,     0.58058,     0.58158,     0.58258,     0.58358,     0.58458,     0.58559,     0.58659,     0.58759,     0.58859,     0.58959,     0.59059,     0.59159,     0.59259,     0.59359,     0.59459,      0.5956,      0.5966,      0.5976,      0.5986,      0.5996,\n",
      "            0.6006,      0.6016,      0.6026,      0.6036,      0.6046,     0.60561,     0.60661,     0.60761,     0.60861,     0.60961,     0.61061,     0.61161,     0.61261,     0.61361,     0.61461,     0.61562,     0.61662,     0.61762,     0.61862,     0.61962,     0.62062,     0.62162,     0.62262,     0.62362,\n",
      "           0.62462,     0.62563,     0.62663,     0.62763,     0.62863,     0.62963,     0.63063,     0.63163,     0.63263,     0.63363,     0.63463,     0.63564,     0.63664,     0.63764,     0.63864,     0.63964,     0.64064,     0.64164,     0.64264,     0.64364,     0.64464,     0.64565,     0.64665,     0.64765,\n",
      "           0.64865,     0.64965,     0.65065,     0.65165,     0.65265,     0.65365,     0.65465,     0.65566,     0.65666,     0.65766,     0.65866,     0.65966,     0.66066,     0.66166,     0.66266,     0.66366,     0.66466,     0.66567,     0.66667,     0.66767,     0.66867,     0.66967,     0.67067,     0.67167,\n",
      "           0.67267,     0.67367,     0.67467,     0.67568,     0.67668,     0.67768,     0.67868,     0.67968,     0.68068,     0.68168,     0.68268,     0.68368,     0.68468,     0.68569,     0.68669,     0.68769,     0.68869,     0.68969,     0.69069,     0.69169,     0.69269,     0.69369,     0.69469,      0.6957,\n",
      "            0.6967,      0.6977,      0.6987,      0.6997,      0.7007,      0.7017,      0.7027,      0.7037,      0.7047,     0.70571,     0.70671,     0.70771,     0.70871,     0.70971,     0.71071,     0.71171,     0.71271,     0.71371,     0.71471,     0.71572,     0.71672,     0.71772,     0.71872,     0.71972,\n",
      "           0.72072,     0.72172,     0.72272,     0.72372,     0.72472,     0.72573,     0.72673,     0.72773,     0.72873,     0.72973,     0.73073,     0.73173,     0.73273,     0.73373,     0.73473,     0.73574,     0.73674,     0.73774,     0.73874,     0.73974,     0.74074,     0.74174,     0.74274,     0.74374,\n",
      "           0.74474,     0.74575,     0.74675,     0.74775,     0.74875,     0.74975,     0.75075,     0.75175,     0.75275,     0.75375,     0.75475,     0.75576,     0.75676,     0.75776,     0.75876,     0.75976,     0.76076,     0.76176,     0.76276,     0.76376,     0.76476,     0.76577,     0.76677,     0.76777,\n",
      "           0.76877,     0.76977,     0.77077,     0.77177,     0.77277,     0.77377,     0.77477,     0.77578,     0.77678,     0.77778,     0.77878,     0.77978,     0.78078,     0.78178,     0.78278,     0.78378,     0.78478,     0.78579,     0.78679,     0.78779,     0.78879,     0.78979,     0.79079,     0.79179,\n",
      "           0.79279,     0.79379,     0.79479,      0.7958,      0.7968,      0.7978,      0.7988,      0.7998,      0.8008,      0.8018,      0.8028,      0.8038,      0.8048,     0.80581,     0.80681,     0.80781,     0.80881,     0.80981,     0.81081,     0.81181,     0.81281,     0.81381,     0.81481,     0.81582,\n",
      "           0.81682,     0.81782,     0.81882,     0.81982,     0.82082,     0.82182,     0.82282,     0.82382,     0.82482,     0.82583,     0.82683,     0.82783,     0.82883,     0.82983,     0.83083,     0.83183,     0.83283,     0.83383,     0.83483,     0.83584,     0.83684,     0.83784,     0.83884,     0.83984,\n",
      "           0.84084,     0.84184,     0.84284,     0.84384,     0.84484,     0.84585,     0.84685,     0.84785,     0.84885,     0.84985,     0.85085,     0.85185,     0.85285,     0.85385,     0.85485,     0.85586,     0.85686,     0.85786,     0.85886,     0.85986,     0.86086,     0.86186,     0.86286,     0.86386,\n",
      "           0.86486,     0.86587,     0.86687,     0.86787,     0.86887,     0.86987,     0.87087,     0.87187,     0.87287,     0.87387,     0.87487,     0.87588,     0.87688,     0.87788,     0.87888,     0.87988,     0.88088,     0.88188,     0.88288,     0.88388,     0.88488,     0.88589,     0.88689,     0.88789,\n",
      "           0.88889,     0.88989,     0.89089,     0.89189,     0.89289,     0.89389,     0.89489,      0.8959,      0.8969,      0.8979,      0.8989,      0.8999,      0.9009,      0.9019,      0.9029,      0.9039,      0.9049,     0.90591,     0.90691,     0.90791,     0.90891,     0.90991,     0.91091,     0.91191,\n",
      "           0.91291,     0.91391,     0.91491,     0.91592,     0.91692,     0.91792,     0.91892,     0.91992,     0.92092,     0.92192,     0.92292,     0.92392,     0.92492,     0.92593,     0.92693,     0.92793,     0.92893,     0.92993,     0.93093,     0.93193,     0.93293,     0.93393,     0.93493,     0.93594,\n",
      "           0.93694,     0.93794,     0.93894,     0.93994,     0.94094,     0.94194,     0.94294,     0.94394,     0.94494,     0.94595,     0.94695,     0.94795,     0.94895,     0.94995,     0.95095,     0.95195,     0.95295,     0.95395,     0.95495,     0.95596,     0.95696,     0.95796,     0.95896,     0.95996,\n",
      "           0.96096,     0.96196,     0.96296,     0.96396,     0.96496,     0.96597,     0.96697,     0.96797,     0.96897,     0.96997,     0.97097,     0.97197,     0.97297,     0.97397,     0.97497,     0.97598,     0.97698,     0.97798,     0.97898,     0.97998,     0.98098,     0.98198,     0.98298,     0.98398,\n",
      "           0.98498,     0.98599,     0.98699,     0.98799,     0.98899,     0.98999,     0.99099,     0.99199,     0.99299,     0.99399,     0.99499,       0.996,       0.997,       0.998,       0.999,           1]), array([[    0.70391,     0.70391,     0.76454,     0.79902,     0.82136,     0.83728,     0.84747,     0.85711,     0.86341,     0.87021,     0.87432,     0.87911,      0.8842,      0.8877,     0.89191,     0.89421,     0.89719,     0.90072,     0.90385,     0.90615,     0.90908,     0.91219,     0.91369,\n",
      "            0.91447,     0.91586,     0.91692,     0.91829,      0.9197,     0.92093,     0.92236,     0.92301,     0.92477,     0.92516,     0.92688,     0.92806,     0.92958,     0.92983,     0.93051,     0.93143,     0.93248,     0.93299,     0.93417,      0.9352,     0.93563,     0.93602,      0.9366,\n",
      "            0.93702,     0.93784,     0.93793,     0.93858,     0.93949,     0.93982,     0.93986,     0.93985,     0.94046,     0.94064,     0.94102,     0.94163,     0.94203,     0.94248,     0.94309,      0.9436,     0.94407,     0.94464,     0.94551,     0.94597,     0.94631,     0.94663,     0.94714,\n",
      "            0.94744,     0.94762,     0.94787,     0.94822,     0.94844,     0.94888,     0.94928,      0.9494,     0.94942,     0.95035,     0.95067,      0.9507,     0.95083,     0.95114,     0.95172,     0.95185,     0.95255,     0.95271,      0.9531,     0.95339,     0.95338,     0.95401,     0.95401,\n",
      "            0.95405,      0.9542,     0.95469,     0.95496,     0.95521,     0.95548,     0.95547,     0.95602,     0.95653,     0.95665,     0.95686,      0.9574,     0.95753,     0.95756,     0.95781,     0.95812,     0.95862,     0.95911,     0.95971,      0.9598,     0.95989,     0.95989,     0.96011,\n",
      "            0.96031,      0.9604,     0.96051,     0.96059,     0.96067,     0.96099,     0.96114,     0.96114,     0.96133,     0.96145,     0.96157,     0.96173,     0.96195,     0.96205,      0.9624,     0.96248,     0.96257,     0.96286,     0.96295,     0.96305,     0.96308,     0.96324,     0.96331,\n",
      "            0.96345,     0.96344,     0.96344,     0.96365,     0.96364,     0.96378,     0.96391,     0.96401,     0.96407,     0.96406,     0.96422,     0.96438,     0.96449,     0.96448,      0.9645,     0.96458,     0.96465,      0.9649,      0.9649,     0.96514,     0.96528,     0.96542,     0.96555,\n",
      "            0.96564,     0.96573,     0.96575,     0.96597,     0.96603,     0.96611,     0.96618,     0.96617,     0.96664,     0.96682,     0.96682,     0.96681,     0.96681,     0.96681,      0.9668,     0.96698,     0.96724,     0.96732,     0.96739,     0.96753,     0.96795,     0.96809,     0.96852,\n",
      "            0.96868,       0.969,     0.96916,     0.96929,     0.96941,     0.96942,     0.96951,     0.96962,     0.96985,     0.97027,     0.97056,     0.97073,     0.97072,     0.97115,     0.97116,     0.97115,     0.97115,     0.97114,     0.97114,     0.97114,     0.97136,     0.97135,     0.97139,\n",
      "             0.9715,      0.9718,     0.97185,     0.97191,     0.97197,     0.97223,      0.9723,     0.97273,     0.97301,     0.97322,     0.97335,      0.9734,     0.97345,     0.97349,     0.97354,     0.97377,     0.97377,     0.97385,     0.97399,     0.97407,     0.97415,     0.97448,     0.97468,\n",
      "            0.97474,      0.9748,     0.97486,     0.97488,     0.97504,      0.9751,      0.9751,     0.97509,     0.97509,     0.97509,     0.97509,     0.97508,     0.97508,     0.97529,     0.97553,     0.97552,     0.97552,     0.97552,     0.97552,     0.97552,     0.97552,     0.97551,     0.97551,\n",
      "            0.97551,     0.97551,     0.97551,     0.97551,     0.97551,      0.9755,      0.9755,     0.97549,     0.97552,     0.97561,      0.9757,     0.97571,     0.97571,     0.97571,     0.97571,      0.9757,      0.9757,      0.9757,      0.9757,     0.97576,     0.97597,     0.97608,     0.97618,\n",
      "            0.97626,     0.97635,     0.97637,     0.97636,     0.97635,     0.97635,     0.97635,      0.9765,     0.97674,     0.97684,     0.97689,     0.97694,     0.97699,     0.97703,     0.97706,     0.97708,     0.97711,     0.97713,     0.97716,     0.97718,     0.97721,     0.97723,     0.97728,\n",
      "            0.97737,     0.97746,     0.97749,     0.97752,     0.97754,     0.97757,      0.9776,     0.97763,     0.97765,     0.97768,     0.97787,     0.97792,     0.97795,     0.97797,     0.97799,     0.97802,     0.97804,     0.97806,     0.97809,     0.97811,     0.97813,     0.97813,     0.97813,\n",
      "            0.97813,     0.97813,     0.97813,     0.97813,     0.97817,     0.97825,     0.97832,     0.97865,      0.9788,     0.97884,     0.97888,     0.97892,     0.97896,       0.979,     0.97902,     0.97918,     0.97925,     0.97925,     0.97924,     0.97924,     0.97946,     0.97954,     0.97962,\n",
      "            0.97971,     0.97982,     0.97991,     0.97991,     0.97991,     0.97991,     0.97991,      0.9799,      0.9799,      0.9799,     0.97989,     0.97989,     0.97989,     0.97989,     0.97989,     0.97989,     0.97989,     0.97989,     0.97989,     0.97989,     0.97989,     0.97989,     0.97988,\n",
      "            0.97988,     0.97987,     0.97987,     0.97987,     0.97993,        0.98,     0.98006,      0.9801,      0.9801,     0.98009,     0.98009,     0.98009,     0.98011,     0.98017,     0.98023,     0.98029,     0.98032,     0.98037,     0.98043,      0.9805,     0.98061,     0.98092,     0.98122,\n",
      "            0.98122,     0.98138,     0.98167,     0.98167,     0.98167,     0.98167,     0.98166,     0.98165,     0.98165,     0.98165,     0.98188,     0.98195,     0.98202,     0.98209,     0.98231,     0.98233,     0.98233,     0.98232,     0.98232,     0.98232,     0.98232,     0.98232,     0.98232,\n",
      "            0.98232,     0.98232,     0.98232,     0.98232,     0.98232,     0.98235,     0.98241,     0.98247,     0.98254,     0.98255,     0.98254,     0.98254,     0.98254,     0.98254,     0.98255,     0.98257,      0.9826,     0.98262,     0.98264,     0.98267,     0.98269,     0.98272,     0.98274,\n",
      "            0.98276,      0.9828,     0.98284,     0.98288,     0.98292,     0.98296,       0.983,     0.98304,     0.98308,     0.98312,     0.98316,      0.9832,     0.98322,     0.98322,     0.98322,     0.98321,     0.98321,     0.98321,     0.98321,     0.98323,     0.98328,     0.98334,     0.98339,\n",
      "            0.98344,     0.98343,     0.98343,     0.98342,     0.98342,      0.9835,     0.98362,     0.98365,     0.98365,     0.98364,     0.98364,     0.98364,     0.98364,     0.98363,     0.98374,     0.98386,     0.98386,     0.98386,     0.98386,     0.98386,     0.98393,       0.984,     0.98407,\n",
      "            0.98409,     0.98409,     0.98409,     0.98409,     0.98409,     0.98409,     0.98408,     0.98408,     0.98408,     0.98415,     0.98426,     0.98433,     0.98438,     0.98442,     0.98446,      0.9845,     0.98454,     0.98454,     0.98454,     0.98453,     0.98453,     0.98453,     0.98453,\n",
      "            0.98476,     0.98499,     0.98498,     0.98498,     0.98498,     0.98497,     0.98497,     0.98497,     0.98513,     0.98532,     0.98543,     0.98548,     0.98558,     0.98566,     0.98566,     0.98566,     0.98567,     0.98575,     0.98582,     0.98589,     0.98589,     0.98601,     0.98617,\n",
      "            0.98629,     0.98635,     0.98635,     0.98635,     0.98635,      0.9865,     0.98657,     0.98657,     0.98656,     0.98656,     0.98667,     0.98679,     0.98678,     0.98678,     0.98677,     0.98677,     0.98677,     0.98677,     0.98677,     0.98677,     0.98677,     0.98677,     0.98677,\n",
      "            0.98677,     0.98677,     0.98676,     0.98682,     0.98688,     0.98694,     0.98699,     0.98699,     0.98699,     0.98722,     0.98745,     0.98745,     0.98745,     0.98753,     0.98766,     0.98768,     0.98768,     0.98768,     0.98768,     0.98768,     0.98768,     0.98767,     0.98767,\n",
      "            0.98767,     0.98767,     0.98766,     0.98766,     0.98765,     0.98765,     0.98765,     0.98765,     0.98765,     0.98788,     0.98788,     0.98788,     0.98788,     0.98787,     0.98787,     0.98797,     0.98809,      0.9881,      0.9881,      0.9881,     0.98856,     0.98856,     0.98856,\n",
      "            0.98879,     0.98879,     0.98878,     0.98878,     0.98878,     0.98877,     0.98881,     0.98903,     0.98913,     0.98923,     0.98929,     0.98934,      0.9894,     0.98945,     0.98948,     0.98947,     0.98947,     0.98946,     0.98946,     0.98945,     0.98945,     0.98945,     0.98945,\n",
      "            0.98945,     0.98944,     0.98944,     0.98944,     0.98944,     0.98944,     0.98944,      0.9895,     0.98961,     0.98967,     0.98967,     0.98967,     0.98967,     0.98967,     0.98968,      0.9899,      0.9899,     0.98989,     0.98989,     0.98989,     0.98988,     0.98988,     0.98987,\n",
      "            0.98987,     0.98986,     0.98986,     0.98986,     0.98986,     0.98986,     0.98985,     0.98985,     0.98985,     0.98985,     0.98984,     0.98984,     0.98984,     0.98984,     0.98984,     0.99001,     0.99008,     0.99031,     0.99031,     0.99031,      0.9903,      0.9903,      0.9903,\n",
      "             0.9903,     0.99029,     0.99029,     0.99029,     0.99053,     0.99053,     0.99064,     0.99075,     0.99076,     0.99076,     0.99075,     0.99075,     0.99075,     0.99074,     0.99074,     0.99073,     0.99078,     0.99097,     0.99097,     0.99096,     0.99095,     0.99094,     0.99094,\n",
      "            0.99118,     0.99118,     0.99118,     0.99117,     0.99141,      0.9914,      0.9914,     0.99139,     0.99164,     0.99163,     0.99163,     0.99162,     0.99162,     0.99164,     0.99186,     0.99185,     0.99185,     0.99185,     0.99184,     0.99184,     0.99193,     0.99232,     0.99256,\n",
      "            0.99255,     0.99255,     0.99255,     0.99255,     0.99279,     0.99279,     0.99279,     0.99278,     0.99278,     0.99277,     0.99326,     0.99325,     0.99342,     0.99349,     0.99348,     0.99348,     0.99347,     0.99346,     0.99346,     0.99346,     0.99345,     0.99345,     0.99344,\n",
      "            0.99344,     0.99343,     0.99343,     0.99342,     0.99341,      0.9934,      0.9934,     0.99339,     0.99339,     0.99363,     0.99363,     0.99363,     0.99363,     0.99361,     0.99361,      0.9936,      0.9936,      0.9939,     0.99406,     0.99435,     0.99434,     0.99434,     0.99459,\n",
      "            0.99458,     0.99457,     0.99457,     0.99456,     0.99455,     0.99455,     0.99454,     0.99453,     0.99452,     0.99451,      0.9945,     0.99475,     0.99474,     0.99499,     0.99497,     0.99496,     0.99495,     0.99495,     0.99494,     0.99493,     0.99492,     0.99491,      0.9949,\n",
      "            0.99489,     0.99488,     0.99486,     0.99485,     0.99484,     0.99484,      0.9951,     0.99508,     0.99507,     0.99505,     0.99504,     0.99503,     0.99502,       0.995,     0.99499,     0.99552,      0.9955,     0.99577,     0.99576,     0.99603,     0.99602,       0.996,     0.99599,\n",
      "            0.99598,     0.99597,     0.99596,     0.99595,     0.99593,     0.99615,      0.9962,     0.99618,     0.99617,     0.99616,     0.99614,     0.99612,      0.9961,     0.99638,     0.99635,     0.99633,      0.9963,     0.99628,     0.99626,     0.99623,      0.9962,     0.99617,     0.99614,\n",
      "             0.9961,     0.99607,     0.99604,       0.996,     0.99597,     0.99593,     0.99589,     0.99619,     0.99613,     0.99645,      0.9964,     0.99635,      0.9963,     0.99624,     0.99619,     0.99652,     0.99647,     0.99641,     0.99635,     0.99671,     0.99664,     0.99658,      0.9965,\n",
      "            0.99641,     0.99632,     0.99624,     0.99613,     0.99606,     0.99596,     0.99583,     0.99571,     0.99558,     0.99541,     0.99529,     0.99512,     0.99489,     0.99475,     0.99525,     0.99511,     0.99492,     0.99472,     0.99449,     0.99509,     0.99491,      0.9947,     0.99444,\n",
      "            0.99418,     0.99392,     0.99359,     0.99445,     0.99422,     0.99397,     0.99371,     0.99353,     0.99327,     0.99286,     0.99553,     0.99526,     0.99503,     0.99472,     0.99438,     0.99407,     0.99347,     0.99308,     0.99268,     0.99477,     0.99427,     0.99401,      0.9936,\n",
      "            0.99336,     0.99282,     0.99216,     0.99148,     0.99033,      0.9947,     0.99436,     0.99392,     0.99347,     0.99293,     0.99198,           1,           1,           1,           1,           1,           1,           1,           1,           1,           1,           1,           1,\n",
      "                  1,           1,           1,           1,           1,           1,           1,           1,           1,           1,           1,           1,           1,           1,           1,           1,           1,           1,           1,           1,           1,           1,           1,\n",
      "                  1,           1,           1,           1,           1,           1,           1,           1,           1,           1,           1,           1,           1,           1,           1,           1,           1,           1,           1,           1,           1,           1,           1,\n",
      "                  1,           1,           1,           1,           1,           1,           1,           1,           1,           1,           1,           1,           1,           1,           1,           1,           1,           1,           1,           1,           1,           1,           1,\n",
      "                  1,           1,           1,           1,           1,           1,           1,           1,           1,           1,           1]]), 'Confidence', 'Precision'], [array([          0,    0.001001,    0.002002,    0.003003,    0.004004,    0.005005,    0.006006,    0.007007,    0.008008,    0.009009,     0.01001,    0.011011,    0.012012,    0.013013,    0.014014,    0.015015,    0.016016,    0.017017,    0.018018,    0.019019,     0.02002,    0.021021,    0.022022,    0.023023,\n",
      "          0.024024,    0.025025,    0.026026,    0.027027,    0.028028,    0.029029,     0.03003,    0.031031,    0.032032,    0.033033,    0.034034,    0.035035,    0.036036,    0.037037,    0.038038,    0.039039,     0.04004,    0.041041,    0.042042,    0.043043,    0.044044,    0.045045,    0.046046,    0.047047,\n",
      "          0.048048,    0.049049,     0.05005,    0.051051,    0.052052,    0.053053,    0.054054,    0.055055,    0.056056,    0.057057,    0.058058,    0.059059,     0.06006,    0.061061,    0.062062,    0.063063,    0.064064,    0.065065,    0.066066,    0.067067,    0.068068,    0.069069,     0.07007,    0.071071,\n",
      "          0.072072,    0.073073,    0.074074,    0.075075,    0.076076,    0.077077,    0.078078,    0.079079,     0.08008,    0.081081,    0.082082,    0.083083,    0.084084,    0.085085,    0.086086,    0.087087,    0.088088,    0.089089,     0.09009,    0.091091,    0.092092,    0.093093,    0.094094,    0.095095,\n",
      "          0.096096,    0.097097,    0.098098,    0.099099,      0.1001,      0.1011,      0.1021,      0.1031,      0.1041,     0.10511,     0.10611,     0.10711,     0.10811,     0.10911,     0.11011,     0.11111,     0.11211,     0.11311,     0.11411,     0.11512,     0.11612,     0.11712,     0.11812,     0.11912,\n",
      "           0.12012,     0.12112,     0.12212,     0.12312,     0.12412,     0.12513,     0.12613,     0.12713,     0.12813,     0.12913,     0.13013,     0.13113,     0.13213,     0.13313,     0.13413,     0.13514,     0.13614,     0.13714,     0.13814,     0.13914,     0.14014,     0.14114,     0.14214,     0.14314,\n",
      "           0.14414,     0.14515,     0.14615,     0.14715,     0.14815,     0.14915,     0.15015,     0.15115,     0.15215,     0.15315,     0.15415,     0.15516,     0.15616,     0.15716,     0.15816,     0.15916,     0.16016,     0.16116,     0.16216,     0.16316,     0.16416,     0.16517,     0.16617,     0.16717,\n",
      "           0.16817,     0.16917,     0.17017,     0.17117,     0.17217,     0.17317,     0.17417,     0.17518,     0.17618,     0.17718,     0.17818,     0.17918,     0.18018,     0.18118,     0.18218,     0.18318,     0.18418,     0.18519,     0.18619,     0.18719,     0.18819,     0.18919,     0.19019,     0.19119,\n",
      "           0.19219,     0.19319,     0.19419,      0.1952,      0.1962,      0.1972,      0.1982,      0.1992,      0.2002,      0.2012,      0.2022,      0.2032,      0.2042,     0.20521,     0.20621,     0.20721,     0.20821,     0.20921,     0.21021,     0.21121,     0.21221,     0.21321,     0.21421,     0.21522,\n",
      "           0.21622,     0.21722,     0.21822,     0.21922,     0.22022,     0.22122,     0.22222,     0.22322,     0.22422,     0.22523,     0.22623,     0.22723,     0.22823,     0.22923,     0.23023,     0.23123,     0.23223,     0.23323,     0.23423,     0.23524,     0.23624,     0.23724,     0.23824,     0.23924,\n",
      "           0.24024,     0.24124,     0.24224,     0.24324,     0.24424,     0.24525,     0.24625,     0.24725,     0.24825,     0.24925,     0.25025,     0.25125,     0.25225,     0.25325,     0.25425,     0.25526,     0.25626,     0.25726,     0.25826,     0.25926,     0.26026,     0.26126,     0.26226,     0.26326,\n",
      "           0.26426,     0.26527,     0.26627,     0.26727,     0.26827,     0.26927,     0.27027,     0.27127,     0.27227,     0.27327,     0.27427,     0.27528,     0.27628,     0.27728,     0.27828,     0.27928,     0.28028,     0.28128,     0.28228,     0.28328,     0.28428,     0.28529,     0.28629,     0.28729,\n",
      "           0.28829,     0.28929,     0.29029,     0.29129,     0.29229,     0.29329,     0.29429,      0.2953,      0.2963,      0.2973,      0.2983,      0.2993,      0.3003,      0.3013,      0.3023,      0.3033,      0.3043,     0.30531,     0.30631,     0.30731,     0.30831,     0.30931,     0.31031,     0.31131,\n",
      "           0.31231,     0.31331,     0.31431,     0.31532,     0.31632,     0.31732,     0.31832,     0.31932,     0.32032,     0.32132,     0.32232,     0.32332,     0.32432,     0.32533,     0.32633,     0.32733,     0.32833,     0.32933,     0.33033,     0.33133,     0.33233,     0.33333,     0.33433,     0.33534,\n",
      "           0.33634,     0.33734,     0.33834,     0.33934,     0.34034,     0.34134,     0.34234,     0.34334,     0.34434,     0.34535,     0.34635,     0.34735,     0.34835,     0.34935,     0.35035,     0.35135,     0.35235,     0.35335,     0.35435,     0.35536,     0.35636,     0.35736,     0.35836,     0.35936,\n",
      "           0.36036,     0.36136,     0.36236,     0.36336,     0.36436,     0.36537,     0.36637,     0.36737,     0.36837,     0.36937,     0.37037,     0.37137,     0.37237,     0.37337,     0.37437,     0.37538,     0.37638,     0.37738,     0.37838,     0.37938,     0.38038,     0.38138,     0.38238,     0.38338,\n",
      "           0.38438,     0.38539,     0.38639,     0.38739,     0.38839,     0.38939,     0.39039,     0.39139,     0.39239,     0.39339,     0.39439,      0.3954,      0.3964,      0.3974,      0.3984,      0.3994,      0.4004,      0.4014,      0.4024,      0.4034,      0.4044,     0.40541,     0.40641,     0.40741,\n",
      "           0.40841,     0.40941,     0.41041,     0.41141,     0.41241,     0.41341,     0.41441,     0.41542,     0.41642,     0.41742,     0.41842,     0.41942,     0.42042,     0.42142,     0.42242,     0.42342,     0.42442,     0.42543,     0.42643,     0.42743,     0.42843,     0.42943,     0.43043,     0.43143,\n",
      "           0.43243,     0.43343,     0.43443,     0.43544,     0.43644,     0.43744,     0.43844,     0.43944,     0.44044,     0.44144,     0.44244,     0.44344,     0.44444,     0.44545,     0.44645,     0.44745,     0.44845,     0.44945,     0.45045,     0.45145,     0.45245,     0.45345,     0.45445,     0.45546,\n",
      "           0.45646,     0.45746,     0.45846,     0.45946,     0.46046,     0.46146,     0.46246,     0.46346,     0.46446,     0.46547,     0.46647,     0.46747,     0.46847,     0.46947,     0.47047,     0.47147,     0.47247,     0.47347,     0.47447,     0.47548,     0.47648,     0.47748,     0.47848,     0.47948,\n",
      "           0.48048,     0.48148,     0.48248,     0.48348,     0.48448,     0.48549,     0.48649,     0.48749,     0.48849,     0.48949,     0.49049,     0.49149,     0.49249,     0.49349,     0.49449,      0.4955,      0.4965,      0.4975,      0.4985,      0.4995,      0.5005,      0.5015,      0.5025,      0.5035,\n",
      "            0.5045,     0.50551,     0.50651,     0.50751,     0.50851,     0.50951,     0.51051,     0.51151,     0.51251,     0.51351,     0.51451,     0.51552,     0.51652,     0.51752,     0.51852,     0.51952,     0.52052,     0.52152,     0.52252,     0.52352,     0.52452,     0.52553,     0.52653,     0.52753,\n",
      "           0.52853,     0.52953,     0.53053,     0.53153,     0.53253,     0.53353,     0.53453,     0.53554,     0.53654,     0.53754,     0.53854,     0.53954,     0.54054,     0.54154,     0.54254,     0.54354,     0.54454,     0.54555,     0.54655,     0.54755,     0.54855,     0.54955,     0.55055,     0.55155,\n",
      "           0.55255,     0.55355,     0.55455,     0.55556,     0.55656,     0.55756,     0.55856,     0.55956,     0.56056,     0.56156,     0.56256,     0.56356,     0.56456,     0.56557,     0.56657,     0.56757,     0.56857,     0.56957,     0.57057,     0.57157,     0.57257,     0.57357,     0.57457,     0.57558,\n",
      "           0.57658,     0.57758,     0.57858,     0.57958,     0.58058,     0.58158,     0.58258,     0.58358,     0.58458,     0.58559,     0.58659,     0.58759,     0.58859,     0.58959,     0.59059,     0.59159,     0.59259,     0.59359,     0.59459,      0.5956,      0.5966,      0.5976,      0.5986,      0.5996,\n",
      "            0.6006,      0.6016,      0.6026,      0.6036,      0.6046,     0.60561,     0.60661,     0.60761,     0.60861,     0.60961,     0.61061,     0.61161,     0.61261,     0.61361,     0.61461,     0.61562,     0.61662,     0.61762,     0.61862,     0.61962,     0.62062,     0.62162,     0.62262,     0.62362,\n",
      "           0.62462,     0.62563,     0.62663,     0.62763,     0.62863,     0.62963,     0.63063,     0.63163,     0.63263,     0.63363,     0.63463,     0.63564,     0.63664,     0.63764,     0.63864,     0.63964,     0.64064,     0.64164,     0.64264,     0.64364,     0.64464,     0.64565,     0.64665,     0.64765,\n",
      "           0.64865,     0.64965,     0.65065,     0.65165,     0.65265,     0.65365,     0.65465,     0.65566,     0.65666,     0.65766,     0.65866,     0.65966,     0.66066,     0.66166,     0.66266,     0.66366,     0.66466,     0.66567,     0.66667,     0.66767,     0.66867,     0.66967,     0.67067,     0.67167,\n",
      "           0.67267,     0.67367,     0.67467,     0.67568,     0.67668,     0.67768,     0.67868,     0.67968,     0.68068,     0.68168,     0.68268,     0.68368,     0.68468,     0.68569,     0.68669,     0.68769,     0.68869,     0.68969,     0.69069,     0.69169,     0.69269,     0.69369,     0.69469,      0.6957,\n",
      "            0.6967,      0.6977,      0.6987,      0.6997,      0.7007,      0.7017,      0.7027,      0.7037,      0.7047,     0.70571,     0.70671,     0.70771,     0.70871,     0.70971,     0.71071,     0.71171,     0.71271,     0.71371,     0.71471,     0.71572,     0.71672,     0.71772,     0.71872,     0.71972,\n",
      "           0.72072,     0.72172,     0.72272,     0.72372,     0.72472,     0.72573,     0.72673,     0.72773,     0.72873,     0.72973,     0.73073,     0.73173,     0.73273,     0.73373,     0.73473,     0.73574,     0.73674,     0.73774,     0.73874,     0.73974,     0.74074,     0.74174,     0.74274,     0.74374,\n",
      "           0.74474,     0.74575,     0.74675,     0.74775,     0.74875,     0.74975,     0.75075,     0.75175,     0.75275,     0.75375,     0.75475,     0.75576,     0.75676,     0.75776,     0.75876,     0.75976,     0.76076,     0.76176,     0.76276,     0.76376,     0.76476,     0.76577,     0.76677,     0.76777,\n",
      "           0.76877,     0.76977,     0.77077,     0.77177,     0.77277,     0.77377,     0.77477,     0.77578,     0.77678,     0.77778,     0.77878,     0.77978,     0.78078,     0.78178,     0.78278,     0.78378,     0.78478,     0.78579,     0.78679,     0.78779,     0.78879,     0.78979,     0.79079,     0.79179,\n",
      "           0.79279,     0.79379,     0.79479,      0.7958,      0.7968,      0.7978,      0.7988,      0.7998,      0.8008,      0.8018,      0.8028,      0.8038,      0.8048,     0.80581,     0.80681,     0.80781,     0.80881,     0.80981,     0.81081,     0.81181,     0.81281,     0.81381,     0.81481,     0.81582,\n",
      "           0.81682,     0.81782,     0.81882,     0.81982,     0.82082,     0.82182,     0.82282,     0.82382,     0.82482,     0.82583,     0.82683,     0.82783,     0.82883,     0.82983,     0.83083,     0.83183,     0.83283,     0.83383,     0.83483,     0.83584,     0.83684,     0.83784,     0.83884,     0.83984,\n",
      "           0.84084,     0.84184,     0.84284,     0.84384,     0.84484,     0.84585,     0.84685,     0.84785,     0.84885,     0.84985,     0.85085,     0.85185,     0.85285,     0.85385,     0.85485,     0.85586,     0.85686,     0.85786,     0.85886,     0.85986,     0.86086,     0.86186,     0.86286,     0.86386,\n",
      "           0.86486,     0.86587,     0.86687,     0.86787,     0.86887,     0.86987,     0.87087,     0.87187,     0.87287,     0.87387,     0.87487,     0.87588,     0.87688,     0.87788,     0.87888,     0.87988,     0.88088,     0.88188,     0.88288,     0.88388,     0.88488,     0.88589,     0.88689,     0.88789,\n",
      "           0.88889,     0.88989,     0.89089,     0.89189,     0.89289,     0.89389,     0.89489,      0.8959,      0.8969,      0.8979,      0.8989,      0.8999,      0.9009,      0.9019,      0.9029,      0.9039,      0.9049,     0.90591,     0.90691,     0.90791,     0.90891,     0.90991,     0.91091,     0.91191,\n",
      "           0.91291,     0.91391,     0.91491,     0.91592,     0.91692,     0.91792,     0.91892,     0.91992,     0.92092,     0.92192,     0.92292,     0.92392,     0.92492,     0.92593,     0.92693,     0.92793,     0.92893,     0.92993,     0.93093,     0.93193,     0.93293,     0.93393,     0.93493,     0.93594,\n",
      "           0.93694,     0.93794,     0.93894,     0.93994,     0.94094,     0.94194,     0.94294,     0.94394,     0.94494,     0.94595,     0.94695,     0.94795,     0.94895,     0.94995,     0.95095,     0.95195,     0.95295,     0.95395,     0.95495,     0.95596,     0.95696,     0.95796,     0.95896,     0.95996,\n",
      "           0.96096,     0.96196,     0.96296,     0.96396,     0.96496,     0.96597,     0.96697,     0.96797,     0.96897,     0.96997,     0.97097,     0.97197,     0.97297,     0.97397,     0.97497,     0.97598,     0.97698,     0.97798,     0.97898,     0.97998,     0.98098,     0.98198,     0.98298,     0.98398,\n",
      "           0.98498,     0.98599,     0.98699,     0.98799,     0.98899,     0.98999,     0.99099,     0.99199,     0.99299,     0.99399,     0.99499,       0.996,       0.997,       0.998,       0.999,           1]), array([[    0.97031,     0.97031,     0.96942,     0.96876,     0.96721,     0.96698,     0.96565,     0.96521,     0.96455,     0.96455,     0.96433,     0.96433,     0.96388,     0.96388,     0.96388,     0.96344,     0.96322,     0.96322,     0.96322,       0.963,     0.96277,     0.96277,     0.96233,\n",
      "            0.96233,     0.96233,     0.96211,     0.96211,      0.9619,     0.96189,     0.96189,     0.96161,       0.961,     0.96078,     0.96078,     0.96078,     0.96034,     0.96034,     0.96034,      0.9602,     0.96012,     0.96012,     0.96012,     0.95989,     0.95989,     0.95989,     0.95989,\n",
      "            0.95989,      0.9594,     0.95923,     0.95923,     0.95923,     0.95923,     0.95913,     0.95902,     0.95879,     0.95856,     0.95856,     0.95856,     0.95856,     0.95848,     0.95812,     0.95812,      0.9579,     0.95768,     0.95743,     0.95701,     0.95701,     0.95679,     0.95679,\n",
      "            0.95679,     0.95679,     0.95679,     0.95679,     0.95679,     0.95679,     0.95679,     0.95679,     0.95665,     0.95657,      0.9565,     0.95635,     0.95635,     0.95635,     0.95635,     0.95635,     0.95635,     0.95635,     0.95635,     0.95635,     0.95619,     0.95612,     0.95599,\n",
      "            0.95591,     0.95591,     0.95591,     0.95591,     0.95591,      0.9559,     0.95565,     0.95546,     0.95546,     0.95546,     0.95546,     0.95524,     0.95524,      0.9549,      0.9548,      0.9548,      0.9547,     0.95458,     0.95458,     0.95458,     0.95458,     0.95439,     0.95435,\n",
      "            0.95418,     0.95413,     0.95413,     0.95413,     0.95413,     0.95391,     0.95359,     0.95325,     0.95307,     0.95302,     0.95302,     0.95302,     0.95302,      0.9528,      0.9528,      0.9528,      0.9528,      0.9528,      0.9528,      0.9528,     0.95258,     0.95228,     0.95214,\n",
      "            0.95201,     0.95182,      0.9517,     0.95158,     0.95132,     0.95125,     0.95125,     0.95125,      0.9512,     0.95109,     0.95103,     0.95103,       0.951,     0.95056,     0.95037,     0.95037,     0.95037,     0.95034,     0.95017,     0.95014,     0.95014,     0.95014,     0.95014,\n",
      "            0.95014,     0.95014,     0.94978,     0.94962,     0.94948,     0.94948,     0.94945,     0.94928,     0.94926,     0.94914,     0.94899,     0.94893,     0.94886,     0.94879,     0.94866,     0.94859,     0.94837,     0.94837,     0.94837,     0.94837,     0.94837,     0.94837,     0.94837,\n",
      "            0.94837,     0.94837,     0.94837,     0.94837,     0.94837,     0.94817,     0.94815,     0.94815,     0.94815,     0.94815,     0.94815,     0.94806,     0.94776,     0.94771,     0.94748,     0.94731,     0.94716,     0.94702,     0.94692,     0.94682,     0.94675,     0.94666,      0.9466,\n",
      "             0.9466,      0.9466,      0.9466,      0.9466,      0.9466,     0.94659,     0.94638,     0.94638,     0.94638,     0.94638,     0.94638,     0.94638,     0.94638,     0.94638,     0.94638,     0.94611,     0.94598,     0.94593,     0.94593,     0.94593,     0.94593,     0.94593,     0.94593,\n",
      "            0.94593,     0.94593,     0.94593,     0.94571,     0.94571,     0.94568,     0.94564,     0.94559,     0.94554,      0.9455,     0.94531,     0.94517,     0.94505,     0.94505,     0.94501,     0.94494,     0.94488,     0.94482,     0.94475,     0.94468,     0.94461,     0.94457,     0.94453,\n",
      "            0.94449,     0.94445,     0.94441,     0.94435,     0.94425,     0.94414,     0.94387,     0.94378,     0.94372,     0.94372,     0.94372,     0.94352,     0.94345,     0.94339,     0.94333,     0.94328,     0.94322,     0.94316,      0.9431,     0.94305,     0.94305,     0.94305,     0.94305,\n",
      "            0.94305,     0.94305,     0.94293,      0.9426,     0.94237,     0.94227,     0.94218,     0.94217,     0.94217,     0.94217,     0.94217,     0.94217,     0.94217,     0.94217,     0.94217,     0.94217,     0.94217,     0.94217,     0.94217,     0.94217,     0.94217,     0.94217,     0.94217,\n",
      "            0.94217,     0.94217,     0.94195,     0.94195,     0.94195,     0.94195,     0.94195,     0.94195,     0.94195,     0.94195,     0.94195,     0.94172,     0.94172,     0.94172,     0.94172,     0.94172,     0.94172,     0.94172,     0.94172,     0.94172,     0.94172,     0.94162,      0.9415,\n",
      "            0.94145,      0.9414,     0.94135,      0.9413,     0.94128,     0.94128,     0.94128,     0.94128,     0.94128,     0.94128,     0.94128,     0.94128,     0.94128,     0.94128,     0.94111,     0.94106,     0.94101,     0.94092,     0.94084,     0.94071,     0.94048,     0.94039,     0.94039,\n",
      "            0.94039,     0.94039,     0.94038,     0.94033,     0.94027,     0.94022,     0.94015,     0.94002,     0.93989,     0.93975,     0.93951,     0.93949,     0.93947,     0.93945,     0.93942,      0.9394,     0.93938,     0.93936,     0.93934,     0.93932,      0.9393,     0.93912,     0.93898,\n",
      "            0.93889,     0.93859,      0.9385,     0.93841,      0.9384,      0.9384,      0.9384,     0.93838,     0.93834,     0.93829,     0.93825,     0.93821,     0.93818,     0.93818,     0.93818,     0.93818,     0.93799,     0.93796,     0.93796,     0.93796,     0.93796,     0.93796,     0.93788,\n",
      "            0.93777,     0.93774,     0.93751,     0.93744,     0.93737,     0.93731,     0.93684,     0.93661,     0.93644,      0.9363,     0.93618,     0.93618,     0.93618,     0.93618,     0.93618,     0.93595,     0.93594,     0.93592,      0.9359,     0.93589,     0.93587,     0.93585,     0.93583,\n",
      "            0.93582,      0.9358,     0.93578,     0.93577,     0.93575,     0.93574,     0.93574,     0.93574,     0.93574,     0.93559,     0.93526,      0.9352,     0.93513,     0.93502,     0.93485,     0.93485,     0.93485,     0.93485,     0.93485,     0.93485,     0.93485,     0.93485,     0.93485,\n",
      "            0.93485,     0.93485,     0.93485,     0.93485,     0.93485,     0.93485,     0.93485,     0.93485,     0.93485,     0.93485,     0.93485,     0.93485,     0.93479,     0.93464,     0.93457,     0.93451,     0.93445,     0.93437,     0.93426,     0.93419,     0.93419,     0.93419,     0.93419,\n",
      "            0.93405,     0.93352,     0.93345,     0.93339,     0.93332,      0.9333,      0.9333,     0.93315,     0.93299,     0.93285,     0.93277,     0.93268,     0.93239,     0.93225,      0.9322,     0.93218,     0.93213,     0.93208,     0.93203,     0.93197,     0.93197,     0.93197,     0.93197,\n",
      "            0.93195,      0.9319,     0.93186,     0.93182,     0.93177,     0.93172,     0.93166,      0.9316,     0.93154,     0.93131,     0.93131,     0.93131,     0.93131,     0.93131,     0.93131,     0.93131,      0.9313,     0.93119,     0.93108,     0.93101,     0.93094,     0.93086,     0.93055,\n",
      "            0.93042,     0.93038,     0.93025,     0.92975,      0.9297,     0.92965,     0.92959,     0.92954,     0.92954,     0.92954,     0.92943,     0.92932,     0.92932,     0.92926,     0.92907,     0.92896,     0.92887,     0.92887,     0.92887,     0.92887,     0.92872,     0.92865,     0.92865,\n",
      "            0.92865,     0.92861,     0.92851,      0.9284,     0.92821,     0.92821,     0.92802,     0.92759,     0.92733,     0.92711,     0.92688,     0.92664,     0.92651,     0.92614,     0.92575,     0.92567,     0.92558,     0.92553,     0.92549,     0.92546,     0.92542,     0.92539,     0.92535,\n",
      "             0.9253,      0.9252,     0.92501,     0.92488,     0.92488,     0.92488,     0.92487,     0.92471,     0.92438,       0.924,     0.92399,      0.9239,      0.9238,     0.92378,     0.92378,     0.92374,     0.92369,     0.92364,     0.92359,     0.92351,     0.92338,     0.92327,     0.92317,\n",
      "            0.92304,     0.92286,     0.92254,     0.92192,      0.9217,     0.92159,     0.92134,     0.92126,     0.92118,     0.92105,     0.92085,     0.92079,     0.92073,     0.92065,     0.92047,     0.92045,     0.92045,     0.92016,     0.91996,     0.91969,     0.91934,      0.9191,     0.91893,\n",
      "             0.9185,     0.91831,     0.91798,      0.9179,     0.91782,     0.91729,     0.91691,     0.91691,     0.91691,     0.91691,     0.91669,     0.91669,     0.91669,     0.91669,     0.91663,     0.91653,     0.91586,     0.91521,       0.915,     0.91472,     0.91457,     0.91445,     0.91433,\n",
      "            0.91408,     0.91381,     0.91374,     0.91367,      0.9136,      0.9135,      0.9134,     0.91336,     0.91336,     0.91312,     0.91293,     0.91281,     0.91268,     0.91254,     0.91225,     0.91196,     0.91179,     0.91165,     0.91143,     0.91086,     0.91033,     0.91007,     0.90934,\n",
      "            0.90906,     0.90881,     0.90859,     0.90843,     0.90836,     0.90828,     0.90788,     0.90755,     0.90741,     0.90714,     0.90708,     0.90702,     0.90696,     0.90687,     0.90673,     0.90671,     0.90654,     0.90625,     0.90568,     0.90549,     0.90533,     0.90522,     0.90501,\n",
      "            0.90455,      0.9042,     0.90397,     0.90368,      0.9036,     0.90317,     0.90317,     0.90317,     0.90287,     0.90243,     0.90198,     0.90185,     0.90151,     0.90092,     0.90043,     0.90027,     0.90007,         0.9,     0.89925,     0.89828,     0.89736,     0.89721,     0.89703,\n",
      "            0.89683,     0.89637,     0.89597,     0.89569,     0.89483,     0.89427,     0.89356,     0.89333,     0.89318,     0.89276,     0.89228,     0.89198,     0.89169,     0.89142,     0.89073,     0.89039,     0.89006,     0.88965,     0.88894,     0.88851,     0.88788,     0.88739,     0.88665,\n",
      "            0.88608,     0.88578,      0.8855,      0.8852,     0.88496,     0.88448,     0.88437,     0.88368,     0.88307,     0.88202,     0.88109,     0.88061,     0.88035,     0.87921,     0.87768,     0.87747,     0.87649,     0.87581,     0.87551,     0.87449,     0.87395,      0.8733,     0.87282,\n",
      "            0.87215,      0.8712,     0.87052,     0.86936,      0.8685,     0.86777,     0.86733,     0.86647,     0.86571,     0.86474,     0.86417,     0.86398,     0.86349,     0.86196,     0.86156,     0.86059,     0.86018,      0.8593,      0.8593,     0.85842,     0.85685,     0.85636,     0.85482,\n",
      "              0.854,     0.85233,     0.85169,     0.85052,     0.84961,     0.84914,     0.84835,     0.84593,     0.84377,     0.84268,     0.84121,     0.83943,     0.83751,      0.8354,     0.83344,     0.83164,     0.82977,     0.82887,      0.8278,     0.82553,     0.82395,     0.82246,     0.82119,\n",
      "            0.81903,     0.81771,     0.81566,     0.81387,     0.81236,     0.81172,      0.8106,     0.80716,     0.80444,     0.80184,     0.80005,     0.79782,     0.79638,     0.79372,      0.7915,      0.7886,     0.78517,     0.78261,     0.78034,       0.778,     0.77584,     0.77272,     0.77109,\n",
      "            0.76925,     0.76718,     0.76432,      0.7627,     0.75886,     0.75626,     0.75429,     0.75195,     0.75006,      0.7468,     0.74313,     0.73986,     0.73563,     0.73209,      0.7267,     0.72095,     0.71683,     0.71241,     0.70766,     0.70216,     0.69788,     0.69246,     0.68674,\n",
      "            0.67999,     0.67376,     0.66841,     0.66216,     0.65648,     0.65066,     0.64445,     0.63742,     0.62786,     0.62223,     0.61387,     0.60525,     0.59594,     0.58672,     0.57928,     0.57098,     0.56242,     0.55289,     0.54388,     0.53635,     0.52542,     0.51584,     0.50518,\n",
      "            0.49176,     0.48003,     0.46978,     0.45686,     0.44808,     0.43718,     0.42326,     0.41123,     0.39902,     0.38437,     0.37439,     0.36174,     0.34505,     0.33597,     0.32502,     0.31536,     0.30348,     0.29223,     0.27973,     0.26929,     0.25987,     0.24967,     0.23775,\n",
      "            0.22728,     0.21743,     0.20598,     0.19857,     0.19061,     0.18273,     0.17496,     0.17017,     0.16348,     0.15399,     0.14809,      0.1395,     0.13295,     0.12518,     0.11754,     0.11151,     0.10118,    0.095447,     0.09009,    0.084335,    0.076851,    0.073509,    0.068818,\n",
      "           0.066311,    0.061312,    0.056048,    0.051575,    0.045406,    0.041577,    0.039093,    0.036202,    0.033686,    0.031099,    0.027421,    0.024353,    0.022021,    0.019923,    0.017644,    0.014981,    0.013304,    0.011004,    0.010199,   0.0084574,   0.0073912,   0.0068174,   0.0049877,\n",
      "          0.0043938,   0.0041619,    0.003117,   0.0028427,   0.0027492,   0.0026261,   0.0023645,   0.0022736,   0.0021918,    0.002126,   0.0020602,   0.0019943,   0.0019372,   0.0018801,    0.001823,   0.0017472,   0.0015183,   0.0012604,   0.0011201,   0.0010647,   0.0010174,  0.00097003,   0.0009227,\n",
      "         0.00083417,   0.0004676,  0.00034784,  0.00024949,           0,           0,           0,           0,           0,           0,           0,           0,           0,           0,           0,           0,           0,           0,           0,           0,           0,           0,           0,\n",
      "                  0,           0,           0,           0,           0,           0,           0,           0,           0,           0,           0,           0,           0,           0,           0,           0,           0,           0,           0,           0,           0,           0,           0,\n",
      "                  0,           0,           0,           0,           0,           0,           0,           0,           0,           0,           0]]), 'Confidence', 'Recall']]\n",
      "fitness: 0.7842475873877301\n",
      "keys: ['metrics/precision(B)', 'metrics/recall(B)', 'metrics/mAP50(B)', 'metrics/mAP50-95(B)']\n",
      "maps: array([     0.7631,      0.7631])\n",
      "names: {0: 'football_player', 1: 'ball'}\n",
      "plot: True\n",
      "results_dict: {'metrics/precision(B)': 0.9757076721133877, 'metrics/recall(B)': 0.9433896844161309, 'metrics/mAP50(B)': 0.974566568827734, 'metrics/mAP50-95(B)': 0.7631010338943964, 'fitness': 0.7842475873877301}\n",
      "save_dir: PosixPath('/home/omar/TUM/05_projects/2D-Object-Detection/runs/detect/football_yolov832')\n",
      "speed: {'preprocess': 0.5463504006342633, 'inference': 38.9210461589044, 'loss': 0.003270161004714024, 'postprocess': 1.2127499521514515}\n",
      "task: 'detect'\n"
     ]
    }
   ],
   "source": [
    "metrics = model.val()\n",
    "print(metrics)"
   ]
  },
  {
   "cell_type": "code",
   "execution_count": 8,
   "metadata": {},
   "outputs": [
    {
     "name": "stdout",
     "output_type": "stream",
     "text": [
      "\n"
     ]
    },
    {
     "ename": "RuntimeError",
     "evalue": "CUDA error: unspecified launch failure\nCUDA kernel errors might be asynchronously reported at some other API call, so the stacktrace below might be incorrect.\nFor debugging consider passing CUDA_LAUNCH_BLOCKING=1\nCompile with `TORCH_USE_CUDA_DSA` to enable device-side assertions.\n",
     "output_type": "error",
     "traceback": [
      "\u001b[0;31m---------------------------------------------------------------------------\u001b[0m",
      "\u001b[0;31mRuntimeError\u001b[0m                              Traceback (most recent call last)",
      "File \u001b[0;32m~/TUM/05_projects/2D-Object-Detection/objDet/lib/python3.10/site-packages/ultralytics/engine/predictor.py:250\u001b[0m, in \u001b[0;36mBasePredictor.stream_inference\u001b[0;34m(self, source, model, *args, **kwargs)\u001b[0m\n\u001b[1;32m    249\u001b[0m \u001b[38;5;28;01mwith\u001b[39;00m profilers[\u001b[38;5;241m0\u001b[39m]:\n\u001b[0;32m--> 250\u001b[0m     im \u001b[38;5;241m=\u001b[39m \u001b[38;5;28;43mself\u001b[39;49m\u001b[38;5;241;43m.\u001b[39;49m\u001b[43mpreprocess\u001b[49m\u001b[43m(\u001b[49m\u001b[43mim0s\u001b[49m\u001b[43m)\u001b[49m\n\u001b[1;32m    252\u001b[0m \u001b[38;5;66;03m# Inference\u001b[39;00m\n",
      "File \u001b[0;32m~/TUM/05_projects/2D-Object-Detection/objDet/lib/python3.10/site-packages/ultralytics/engine/predictor.py:129\u001b[0m, in \u001b[0;36mBasePredictor.preprocess\u001b[0;34m(self, im)\u001b[0m\n\u001b[1;32m    127\u001b[0m     im \u001b[38;5;241m=\u001b[39m torch\u001b[38;5;241m.\u001b[39mfrom_numpy(im)\n\u001b[0;32m--> 129\u001b[0m im \u001b[38;5;241m=\u001b[39m \u001b[43mim\u001b[49m\u001b[38;5;241;43m.\u001b[39;49m\u001b[43mto\u001b[49m\u001b[43m(\u001b[49m\u001b[38;5;28;43mself\u001b[39;49m\u001b[38;5;241;43m.\u001b[39;49m\u001b[43mdevice\u001b[49m\u001b[43m)\u001b[49m\n\u001b[1;32m    130\u001b[0m im \u001b[38;5;241m=\u001b[39m im\u001b[38;5;241m.\u001b[39mhalf() \u001b[38;5;28;01mif\u001b[39;00m \u001b[38;5;28mself\u001b[39m\u001b[38;5;241m.\u001b[39mmodel\u001b[38;5;241m.\u001b[39mfp16 \u001b[38;5;28;01melse\u001b[39;00m im\u001b[38;5;241m.\u001b[39mfloat()  \u001b[38;5;66;03m# uint8 to fp16/32\u001b[39;00m\n",
      "\u001b[0;31mRuntimeError\u001b[0m: CUDA error: unspecified launch failure\nCUDA kernel errors might be asynchronously reported at some other API call, so the stacktrace below might be incorrect.\nFor debugging consider passing CUDA_LAUNCH_BLOCKING=1\nCompile with `TORCH_USE_CUDA_DSA` to enable device-side assertions.\n",
      "\nDuring handling of the above exception, another exception occurred:\n",
      "\u001b[0;31mRuntimeError\u001b[0m                              Traceback (most recent call last)",
      "Cell \u001b[0;32mIn[8], line 1\u001b[0m\n\u001b[0;32m----> 1\u001b[0m results \u001b[38;5;241m=\u001b[39m \u001b[43mmodel\u001b[49m\u001b[43m(\u001b[49m\u001b[38;5;124;43m'\u001b[39;49m\u001b[38;5;124;43mfootball_dataset/test/images/7.png\u001b[39;49m\u001b[38;5;124;43m'\u001b[39;49m\u001b[43m)\u001b[49m\n\u001b[1;32m      3\u001b[0m \u001b[38;5;66;03m# Access the first result in the list\u001b[39;00m\n\u001b[1;32m      4\u001b[0m result \u001b[38;5;241m=\u001b[39m results[\u001b[38;5;241m0\u001b[39m]\n",
      "File \u001b[0;32m~/TUM/05_projects/2D-Object-Detection/objDet/lib/python3.10/site-packages/ultralytics/engine/model.py:176\u001b[0m, in \u001b[0;36mModel.__call__\u001b[0;34m(self, source, stream, **kwargs)\u001b[0m\n\u001b[1;32m    147\u001b[0m \u001b[38;5;28;01mdef\u001b[39;00m \u001b[38;5;21m__call__\u001b[39m(\n\u001b[1;32m    148\u001b[0m     \u001b[38;5;28mself\u001b[39m,\n\u001b[1;32m    149\u001b[0m     source: Union[\u001b[38;5;28mstr\u001b[39m, Path, \u001b[38;5;28mint\u001b[39m, Image\u001b[38;5;241m.\u001b[39mImage, \u001b[38;5;28mlist\u001b[39m, \u001b[38;5;28mtuple\u001b[39m, np\u001b[38;5;241m.\u001b[39mndarray, torch\u001b[38;5;241m.\u001b[39mTensor] \u001b[38;5;241m=\u001b[39m \u001b[38;5;28;01mNone\u001b[39;00m,\n\u001b[1;32m    150\u001b[0m     stream: \u001b[38;5;28mbool\u001b[39m \u001b[38;5;241m=\u001b[39m \u001b[38;5;28;01mFalse\u001b[39;00m,\n\u001b[1;32m    151\u001b[0m     \u001b[38;5;241m*\u001b[39m\u001b[38;5;241m*\u001b[39mkwargs,\n\u001b[1;32m    152\u001b[0m ) \u001b[38;5;241m-\u001b[39m\u001b[38;5;241m>\u001b[39m \u001b[38;5;28mlist\u001b[39m:\n\u001b[1;32m    153\u001b[0m \u001b[38;5;250m    \u001b[39m\u001b[38;5;124;03m\"\"\"\u001b[39;00m\n\u001b[1;32m    154\u001b[0m \u001b[38;5;124;03m    Alias for the predict method, enabling the model instance to be callable for predictions.\u001b[39;00m\n\u001b[1;32m    155\u001b[0m \n\u001b[0;32m   (...)\u001b[0m\n\u001b[1;32m    174\u001b[0m \u001b[38;5;124;03m        ...     print(f\"Detected {len(r)} objects in image\")\u001b[39;00m\n\u001b[1;32m    175\u001b[0m \u001b[38;5;124;03m    \"\"\"\u001b[39;00m\n\u001b[0;32m--> 176\u001b[0m     \u001b[38;5;28;01mreturn\u001b[39;00m \u001b[38;5;28;43mself\u001b[39;49m\u001b[38;5;241;43m.\u001b[39;49m\u001b[43mpredict\u001b[49m\u001b[43m(\u001b[49m\u001b[43msource\u001b[49m\u001b[43m,\u001b[49m\u001b[43m \u001b[49m\u001b[43mstream\u001b[49m\u001b[43m,\u001b[49m\u001b[43m \u001b[49m\u001b[38;5;241;43m*\u001b[39;49m\u001b[38;5;241;43m*\u001b[39;49m\u001b[43mkwargs\u001b[49m\u001b[43m)\u001b[49m\n",
      "File \u001b[0;32m~/TUM/05_projects/2D-Object-Detection/objDet/lib/python3.10/site-packages/ultralytics/engine/model.py:555\u001b[0m, in \u001b[0;36mModel.predict\u001b[0;34m(self, source, stream, predictor, **kwargs)\u001b[0m\n\u001b[1;32m    553\u001b[0m \u001b[38;5;28;01mif\u001b[39;00m prompts \u001b[38;5;129;01mand\u001b[39;00m \u001b[38;5;28mhasattr\u001b[39m(\u001b[38;5;28mself\u001b[39m\u001b[38;5;241m.\u001b[39mpredictor, \u001b[38;5;124m\"\u001b[39m\u001b[38;5;124mset_prompts\u001b[39m\u001b[38;5;124m\"\u001b[39m):  \u001b[38;5;66;03m# for SAM-type models\u001b[39;00m\n\u001b[1;32m    554\u001b[0m     \u001b[38;5;28mself\u001b[39m\u001b[38;5;241m.\u001b[39mpredictor\u001b[38;5;241m.\u001b[39mset_prompts(prompts)\n\u001b[0;32m--> 555\u001b[0m \u001b[38;5;28;01mreturn\u001b[39;00m \u001b[38;5;28mself\u001b[39m\u001b[38;5;241m.\u001b[39mpredictor\u001b[38;5;241m.\u001b[39mpredict_cli(source\u001b[38;5;241m=\u001b[39msource) \u001b[38;5;28;01mif\u001b[39;00m is_cli \u001b[38;5;28;01melse\u001b[39;00m \u001b[38;5;28;43mself\u001b[39;49m\u001b[38;5;241;43m.\u001b[39;49m\u001b[43mpredictor\u001b[49m\u001b[43m(\u001b[49m\u001b[43msource\u001b[49m\u001b[38;5;241;43m=\u001b[39;49m\u001b[43msource\u001b[49m\u001b[43m,\u001b[49m\u001b[43m \u001b[49m\u001b[43mstream\u001b[49m\u001b[38;5;241;43m=\u001b[39;49m\u001b[43mstream\u001b[49m\u001b[43m)\u001b[49m\n",
      "File \u001b[0;32m~/TUM/05_projects/2D-Object-Detection/objDet/lib/python3.10/site-packages/ultralytics/engine/predictor.py:168\u001b[0m, in \u001b[0;36mBasePredictor.__call__\u001b[0;34m(self, source, model, stream, *args, **kwargs)\u001b[0m\n\u001b[1;32m    166\u001b[0m     \u001b[38;5;28;01mreturn\u001b[39;00m \u001b[38;5;28mself\u001b[39m\u001b[38;5;241m.\u001b[39mstream_inference(source, model, \u001b[38;5;241m*\u001b[39margs, \u001b[38;5;241m*\u001b[39m\u001b[38;5;241m*\u001b[39mkwargs)\n\u001b[1;32m    167\u001b[0m \u001b[38;5;28;01melse\u001b[39;00m:\n\u001b[0;32m--> 168\u001b[0m     \u001b[38;5;28;01mreturn\u001b[39;00m \u001b[38;5;28;43mlist\u001b[39;49m\u001b[43m(\u001b[49m\u001b[38;5;28;43mself\u001b[39;49m\u001b[38;5;241;43m.\u001b[39;49m\u001b[43mstream_inference\u001b[49m\u001b[43m(\u001b[49m\u001b[43msource\u001b[49m\u001b[43m,\u001b[49m\u001b[43m \u001b[49m\u001b[43mmodel\u001b[49m\u001b[43m,\u001b[49m\u001b[43m \u001b[49m\u001b[38;5;241;43m*\u001b[39;49m\u001b[43margs\u001b[49m\u001b[43m,\u001b[49m\u001b[43m \u001b[49m\u001b[38;5;241;43m*\u001b[39;49m\u001b[38;5;241;43m*\u001b[39;49m\u001b[43mkwargs\u001b[49m\u001b[43m)\u001b[49m\u001b[43m)\u001b[49m\n",
      "File \u001b[0;32m~/TUM/05_projects/2D-Object-Detection/objDet/lib/python3.10/site-packages/torch/utils/_contextlib.py:36\u001b[0m, in \u001b[0;36m_wrap_generator.<locals>.generator_context\u001b[0;34m(*args, **kwargs)\u001b[0m\n\u001b[1;32m     33\u001b[0m \u001b[38;5;28;01mtry\u001b[39;00m:\n\u001b[1;32m     34\u001b[0m     \u001b[38;5;66;03m# Issuing `None` to a generator fires it up\u001b[39;00m\n\u001b[1;32m     35\u001b[0m     \u001b[38;5;28;01mwith\u001b[39;00m ctx_factory():\n\u001b[0;32m---> 36\u001b[0m         response \u001b[38;5;241m=\u001b[39m \u001b[43mgen\u001b[49m\u001b[38;5;241;43m.\u001b[39;49m\u001b[43msend\u001b[49m\u001b[43m(\u001b[49m\u001b[38;5;28;43;01mNone\u001b[39;49;00m\u001b[43m)\u001b[49m\n\u001b[1;32m     38\u001b[0m     \u001b[38;5;28;01mwhile\u001b[39;00m \u001b[38;5;28;01mTrue\u001b[39;00m:\n\u001b[1;32m     39\u001b[0m         \u001b[38;5;28;01mtry\u001b[39;00m:\n\u001b[1;32m     40\u001b[0m             \u001b[38;5;66;03m# Forward the response to our caller and get its next request\u001b[39;00m\n",
      "File \u001b[0;32m~/TUM/05_projects/2D-Object-Detection/objDet/lib/python3.10/site-packages/ultralytics/engine/predictor.py:249\u001b[0m, in \u001b[0;36mBasePredictor.stream_inference\u001b[0;34m(self, source, model, *args, **kwargs)\u001b[0m\n\u001b[1;32m    246\u001b[0m paths, im0s, s \u001b[38;5;241m=\u001b[39m \u001b[38;5;28mself\u001b[39m\u001b[38;5;241m.\u001b[39mbatch\n\u001b[1;32m    248\u001b[0m \u001b[38;5;66;03m# Preprocess\u001b[39;00m\n\u001b[0;32m--> 249\u001b[0m \u001b[38;5;28;01mwith\u001b[39;00m profilers[\u001b[38;5;241m0\u001b[39m]:\n\u001b[1;32m    250\u001b[0m     im \u001b[38;5;241m=\u001b[39m \u001b[38;5;28mself\u001b[39m\u001b[38;5;241m.\u001b[39mpreprocess(im0s)\n\u001b[1;32m    252\u001b[0m \u001b[38;5;66;03m# Inference\u001b[39;00m\n",
      "File \u001b[0;32m~/TUM/05_projects/2D-Object-Detection/objDet/lib/python3.10/site-packages/ultralytics/utils/ops.py:51\u001b[0m, in \u001b[0;36mProfile.__exit__\u001b[0;34m(self, type, value, traceback)\u001b[0m\n\u001b[1;32m     49\u001b[0m \u001b[38;5;28;01mdef\u001b[39;00m \u001b[38;5;21m__exit__\u001b[39m(\u001b[38;5;28mself\u001b[39m, \u001b[38;5;28mtype\u001b[39m, value, traceback):  \u001b[38;5;66;03m# noqa\u001b[39;00m\n\u001b[1;32m     50\u001b[0m \u001b[38;5;250m    \u001b[39m\u001b[38;5;124;03m\"\"\"Stop timing.\"\"\"\u001b[39;00m\n\u001b[0;32m---> 51\u001b[0m     \u001b[38;5;28mself\u001b[39m\u001b[38;5;241m.\u001b[39mdt \u001b[38;5;241m=\u001b[39m \u001b[38;5;28;43mself\u001b[39;49m\u001b[38;5;241;43m.\u001b[39;49m\u001b[43mtime\u001b[49m\u001b[43m(\u001b[49m\u001b[43m)\u001b[49m \u001b[38;5;241m-\u001b[39m \u001b[38;5;28mself\u001b[39m\u001b[38;5;241m.\u001b[39mstart  \u001b[38;5;66;03m# delta-time\u001b[39;00m\n\u001b[1;32m     52\u001b[0m     \u001b[38;5;28mself\u001b[39m\u001b[38;5;241m.\u001b[39mt \u001b[38;5;241m+\u001b[39m\u001b[38;5;241m=\u001b[39m \u001b[38;5;28mself\u001b[39m\u001b[38;5;241m.\u001b[39mdt\n",
      "File \u001b[0;32m~/TUM/05_projects/2D-Object-Detection/objDet/lib/python3.10/site-packages/ultralytics/utils/ops.py:61\u001b[0m, in \u001b[0;36mProfile.time\u001b[0;34m(self)\u001b[0m\n\u001b[1;32m     59\u001b[0m \u001b[38;5;250m\u001b[39m\u001b[38;5;124;03m\"\"\"Get current time.\"\"\"\u001b[39;00m\n\u001b[1;32m     60\u001b[0m \u001b[38;5;28;01mif\u001b[39;00m \u001b[38;5;28mself\u001b[39m\u001b[38;5;241m.\u001b[39mcuda:\n\u001b[0;32m---> 61\u001b[0m     \u001b[43mtorch\u001b[49m\u001b[38;5;241;43m.\u001b[39;49m\u001b[43mcuda\u001b[49m\u001b[38;5;241;43m.\u001b[39;49m\u001b[43msynchronize\u001b[49m\u001b[43m(\u001b[49m\u001b[38;5;28;43mself\u001b[39;49m\u001b[38;5;241;43m.\u001b[39;49m\u001b[43mdevice\u001b[49m\u001b[43m)\u001b[49m\n\u001b[1;32m     62\u001b[0m \u001b[38;5;28;01mreturn\u001b[39;00m time\u001b[38;5;241m.\u001b[39mtime()\n",
      "File \u001b[0;32m~/TUM/05_projects/2D-Object-Detection/objDet/lib/python3.10/site-packages/torch/cuda/__init__.py:892\u001b[0m, in \u001b[0;36msynchronize\u001b[0;34m(device)\u001b[0m\n\u001b[1;32m    890\u001b[0m _lazy_init()\n\u001b[1;32m    891\u001b[0m \u001b[38;5;28;01mwith\u001b[39;00m torch\u001b[38;5;241m.\u001b[39mcuda\u001b[38;5;241m.\u001b[39mdevice(device):\n\u001b[0;32m--> 892\u001b[0m     \u001b[38;5;28;01mreturn\u001b[39;00m \u001b[43mtorch\u001b[49m\u001b[38;5;241;43m.\u001b[39;49m\u001b[43m_C\u001b[49m\u001b[38;5;241;43m.\u001b[39;49m\u001b[43m_cuda_synchronize\u001b[49m\u001b[43m(\u001b[49m\u001b[43m)\u001b[49m\n",
      "\u001b[0;31mRuntimeError\u001b[0m: CUDA error: unspecified launch failure\nCUDA kernel errors might be asynchronously reported at some other API call, so the stacktrace below might be incorrect.\nFor debugging consider passing CUDA_LAUNCH_BLOCKING=1\nCompile with `TORCH_USE_CUDA_DSA` to enable device-side assertions.\n"
     ]
    }
   ],
   "source": [
    "results = model('football_dataset/test/images/7.png')\n",
    "\n",
    "# Access the first result in the list\n",
    "result = results[0]\n",
    "\n",
    "# Display the results\n",
    "result.show()\n",
    "result.plot()  # This will plot the results on the image\n"
   ]
  },
  {
   "cell_type": "code",
   "execution_count": null,
   "metadata": {},
   "outputs": [],
   "source": []
  },
  {
   "cell_type": "code",
   "execution_count": null,
   "metadata": {},
   "outputs": [],
   "source": []
  }
 ],
 "metadata": {
  "kernelspec": {
   "display_name": "objDet",
   "language": "python",
   "name": "python3"
  },
  "language_info": {
   "codemirror_mode": {
    "name": "ipython",
    "version": 3
   },
   "file_extension": ".py",
   "mimetype": "text/x-python",
   "name": "python",
   "nbconvert_exporter": "python",
   "pygments_lexer": "ipython3",
   "version": "3.10.12"
  }
 },
 "nbformat": 4,
 "nbformat_minor": 2
}
